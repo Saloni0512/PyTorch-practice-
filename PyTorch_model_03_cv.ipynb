{
  "cells": [
    {
      "cell_type": "markdown",
      "metadata": {
        "id": "view-in-github",
        "colab_type": "text"
      },
      "source": [
        "<a href=\"https://colab.research.google.com/github/Saloni0512/PyTorch-practice-/blob/main/PyTorch_model_03_cv.ipynb\" target=\"_parent\"><img src=\"https://colab.research.google.com/assets/colab-badge.svg\" alt=\"Open In Colab\"/></a>"
      ]
    },
    {
      "cell_type": "markdown",
      "metadata": {
        "id": "cBGHAkFC69w8"
      },
      "source": [
        "## 0. Computer Vision libraries in PyTorch\n",
        "* torchvision\n",
        "* torchvision.datasets\n",
        "* torchvision.models\n",
        "* torchvision.transforms - functions for manipulating your vision data"
      ]
    },
    {
      "cell_type": "code",
      "execution_count": null,
      "metadata": {
        "id": "TMuKNDmz4RSJ"
      },
      "outputs": [],
      "source": [
        "import torch\n",
        "from torch import nn\n",
        "import torchvision\n",
        "from torchvision import datasets\n",
        "from torchvision import transforms\n",
        "from torchvision.transforms import ToTensor\n",
        "import matplotlib.pyplot as plt\n",
        "import numpy as np"
      ]
    },
    {
      "cell_type": "code",
      "execution_count": null,
      "metadata": {
        "colab": {
          "base_uri": "https://localhost:8080/"
        },
        "id": "Dbgc-C0D55Ij",
        "outputId": "1b766b5a-9e3b-4c68-fb53-1a488cc0bfcd"
      },
      "outputs": [
        {
          "output_type": "stream",
          "name": "stdout",
          "text": [
            "0.21.0+cu124\n"
          ]
        }
      ],
      "source": [
        "print(torchvision.__version__)"
      ]
    },
    {
      "cell_type": "markdown",
      "metadata": {
        "id": "zo7ZF47rny_R"
      },
      "source": [
        "## 1. Getting a dataset\n",
        "We will use the FashionMNIST dataset here"
      ]
    },
    {
      "cell_type": "code",
      "execution_count": null,
      "metadata": {
        "colab": {
          "base_uri": "https://localhost:8080/"
        },
        "id": "7IAwHxdGne5I",
        "outputId": "b98a0120-0610-4806-bb53-165f4b834ae0"
      },
      "outputs": [
        {
          "output_type": "stream",
          "name": "stderr",
          "text": [
            "100%|██████████| 26.4M/26.4M [00:00<00:00, 113MB/s]\n",
            "100%|██████████| 29.5k/29.5k [00:00<00:00, 3.53MB/s]\n",
            "100%|██████████| 4.42M/4.42M [00:00<00:00, 57.2MB/s]\n",
            "100%|██████████| 5.15k/5.15k [00:00<00:00, 16.9MB/s]\n"
          ]
        }
      ],
      "source": [
        "# Setup training data\n",
        "train_data = datasets.FashionMNIST(\n",
        "    root=\"data\",\n",
        "    train=True,\n",
        "    download=True,\n",
        "    transform=ToTensor(),\n",
        "    target_transform=None\n",
        ")\n",
        "\n",
        "test_data = datasets.FashionMNIST(\n",
        "    root=\"data\",\n",
        "    train=False,\n",
        "    download=True,\n",
        "    transform=ToTensor(),\n",
        "    target_transform=None\n",
        ")"
      ]
    },
    {
      "cell_type": "code",
      "execution_count": null,
      "metadata": {
        "id": "DdYKWgYvq3FK",
        "colab": {
          "base_uri": "https://localhost:8080/"
        },
        "outputId": "0e57b563-87e9-4393-95c3-2c96761cd425"
      },
      "outputs": [
        {
          "output_type": "execute_result",
          "data": {
            "text/plain": [
              "(60000, 10000)"
            ]
          },
          "metadata": {},
          "execution_count": 4
        }
      ],
      "source": [
        "len(train_data), len(test_data)"
      ]
    },
    {
      "cell_type": "code",
      "execution_count": null,
      "metadata": {
        "colab": {
          "base_uri": "https://localhost:8080/"
        },
        "id": "IG8RBrq32rQe",
        "outputId": "ae0d1a92-4dd4-405e-cc83-95cc0a8cef7a"
      },
      "outputs": [
        {
          "output_type": "execute_result",
          "data": {
            "text/plain": [
              "(tensor([[[0.0000, 0.0000, 0.0000, 0.0000, 0.0000, 0.0000, 0.0000, 0.0000,\n",
              "           0.0000, 0.0000, 0.0000, 0.0000, 0.0000, 0.0000, 0.0000, 0.0000,\n",
              "           0.0000, 0.0000, 0.0000, 0.0000, 0.0000, 0.0000, 0.0000, 0.0000,\n",
              "           0.0000, 0.0000, 0.0000, 0.0000],\n",
              "          [0.0000, 0.0000, 0.0000, 0.0000, 0.0000, 0.0000, 0.0000, 0.0000,\n",
              "           0.0000, 0.0000, 0.0000, 0.0000, 0.0000, 0.0000, 0.0000, 0.0000,\n",
              "           0.0000, 0.0000, 0.0000, 0.0000, 0.0000, 0.0000, 0.0000, 0.0000,\n",
              "           0.0000, 0.0000, 0.0000, 0.0000],\n",
              "          [0.0000, 0.0000, 0.0000, 0.0000, 0.0000, 0.0000, 0.0000, 0.0000,\n",
              "           0.0000, 0.0000, 0.0000, 0.0000, 0.0000, 0.0000, 0.0000, 0.0000,\n",
              "           0.0000, 0.0000, 0.0000, 0.0000, 0.0000, 0.0000, 0.0000, 0.0000,\n",
              "           0.0000, 0.0000, 0.0000, 0.0000],\n",
              "          [0.0000, 0.0000, 0.0000, 0.0000, 0.0000, 0.0000, 0.0000, 0.0000,\n",
              "           0.0000, 0.0000, 0.0000, 0.0000, 0.0039, 0.0000, 0.0000, 0.0510,\n",
              "           0.2863, 0.0000, 0.0000, 0.0039, 0.0157, 0.0000, 0.0000, 0.0000,\n",
              "           0.0000, 0.0039, 0.0039, 0.0000],\n",
              "          [0.0000, 0.0000, 0.0000, 0.0000, 0.0000, 0.0000, 0.0000, 0.0000,\n",
              "           0.0000, 0.0000, 0.0000, 0.0000, 0.0118, 0.0000, 0.1412, 0.5333,\n",
              "           0.4980, 0.2431, 0.2118, 0.0000, 0.0000, 0.0000, 0.0039, 0.0118,\n",
              "           0.0157, 0.0000, 0.0000, 0.0118],\n",
              "          [0.0000, 0.0000, 0.0000, 0.0000, 0.0000, 0.0000, 0.0000, 0.0000,\n",
              "           0.0000, 0.0000, 0.0000, 0.0000, 0.0235, 0.0000, 0.4000, 0.8000,\n",
              "           0.6902, 0.5255, 0.5647, 0.4824, 0.0902, 0.0000, 0.0000, 0.0000,\n",
              "           0.0000, 0.0471, 0.0392, 0.0000],\n",
              "          [0.0000, 0.0000, 0.0000, 0.0000, 0.0000, 0.0000, 0.0000, 0.0000,\n",
              "           0.0000, 0.0000, 0.0000, 0.0000, 0.0000, 0.0000, 0.6078, 0.9255,\n",
              "           0.8118, 0.6980, 0.4196, 0.6118, 0.6314, 0.4275, 0.2510, 0.0902,\n",
              "           0.3020, 0.5098, 0.2824, 0.0588],\n",
              "          [0.0000, 0.0000, 0.0000, 0.0000, 0.0000, 0.0000, 0.0000, 0.0000,\n",
              "           0.0000, 0.0000, 0.0000, 0.0039, 0.0000, 0.2706, 0.8118, 0.8745,\n",
              "           0.8549, 0.8471, 0.8471, 0.6392, 0.4980, 0.4745, 0.4784, 0.5725,\n",
              "           0.5529, 0.3451, 0.6745, 0.2588],\n",
              "          [0.0000, 0.0000, 0.0000, 0.0000, 0.0000, 0.0000, 0.0000, 0.0000,\n",
              "           0.0000, 0.0039, 0.0039, 0.0039, 0.0000, 0.7843, 0.9098, 0.9098,\n",
              "           0.9137, 0.8980, 0.8745, 0.8745, 0.8431, 0.8353, 0.6431, 0.4980,\n",
              "           0.4824, 0.7686, 0.8980, 0.0000],\n",
              "          [0.0000, 0.0000, 0.0000, 0.0000, 0.0000, 0.0000, 0.0000, 0.0000,\n",
              "           0.0000, 0.0000, 0.0000, 0.0000, 0.0000, 0.7176, 0.8824, 0.8471,\n",
              "           0.8745, 0.8941, 0.9216, 0.8902, 0.8784, 0.8706, 0.8784, 0.8667,\n",
              "           0.8745, 0.9608, 0.6784, 0.0000],\n",
              "          [0.0000, 0.0000, 0.0000, 0.0000, 0.0000, 0.0000, 0.0000, 0.0000,\n",
              "           0.0000, 0.0000, 0.0000, 0.0000, 0.0000, 0.7569, 0.8941, 0.8549,\n",
              "           0.8353, 0.7765, 0.7059, 0.8314, 0.8235, 0.8275, 0.8353, 0.8745,\n",
              "           0.8627, 0.9529, 0.7922, 0.0000],\n",
              "          [0.0000, 0.0000, 0.0000, 0.0000, 0.0000, 0.0000, 0.0000, 0.0000,\n",
              "           0.0000, 0.0039, 0.0118, 0.0000, 0.0471, 0.8588, 0.8627, 0.8314,\n",
              "           0.8549, 0.7529, 0.6627, 0.8902, 0.8157, 0.8549, 0.8784, 0.8314,\n",
              "           0.8863, 0.7725, 0.8196, 0.2039],\n",
              "          [0.0000, 0.0000, 0.0000, 0.0000, 0.0000, 0.0000, 0.0000, 0.0000,\n",
              "           0.0000, 0.0000, 0.0235, 0.0000, 0.3882, 0.9569, 0.8706, 0.8627,\n",
              "           0.8549, 0.7961, 0.7765, 0.8667, 0.8431, 0.8353, 0.8706, 0.8627,\n",
              "           0.9608, 0.4667, 0.6549, 0.2196],\n",
              "          [0.0000, 0.0000, 0.0000, 0.0000, 0.0000, 0.0000, 0.0000, 0.0000,\n",
              "           0.0000, 0.0157, 0.0000, 0.0000, 0.2157, 0.9255, 0.8941, 0.9020,\n",
              "           0.8941, 0.9412, 0.9098, 0.8353, 0.8549, 0.8745, 0.9176, 0.8510,\n",
              "           0.8510, 0.8196, 0.3608, 0.0000],\n",
              "          [0.0000, 0.0000, 0.0039, 0.0157, 0.0235, 0.0275, 0.0078, 0.0000,\n",
              "           0.0000, 0.0000, 0.0000, 0.0000, 0.9294, 0.8863, 0.8510, 0.8745,\n",
              "           0.8706, 0.8588, 0.8706, 0.8667, 0.8471, 0.8745, 0.8980, 0.8431,\n",
              "           0.8549, 1.0000, 0.3020, 0.0000],\n",
              "          [0.0000, 0.0118, 0.0000, 0.0000, 0.0000, 0.0000, 0.0000, 0.0000,\n",
              "           0.0000, 0.2431, 0.5686, 0.8000, 0.8941, 0.8118, 0.8353, 0.8667,\n",
              "           0.8549, 0.8157, 0.8275, 0.8549, 0.8784, 0.8745, 0.8588, 0.8431,\n",
              "           0.8784, 0.9569, 0.6235, 0.0000],\n",
              "          [0.0000, 0.0000, 0.0000, 0.0000, 0.0706, 0.1725, 0.3216, 0.4196,\n",
              "           0.7412, 0.8941, 0.8627, 0.8706, 0.8510, 0.8863, 0.7843, 0.8039,\n",
              "           0.8275, 0.9020, 0.8784, 0.9176, 0.6902, 0.7373, 0.9804, 0.9725,\n",
              "           0.9137, 0.9333, 0.8431, 0.0000],\n",
              "          [0.0000, 0.2235, 0.7333, 0.8157, 0.8784, 0.8667, 0.8784, 0.8157,\n",
              "           0.8000, 0.8392, 0.8157, 0.8196, 0.7843, 0.6235, 0.9608, 0.7569,\n",
              "           0.8078, 0.8745, 1.0000, 1.0000, 0.8667, 0.9176, 0.8667, 0.8275,\n",
              "           0.8627, 0.9098, 0.9647, 0.0000],\n",
              "          [0.0118, 0.7922, 0.8941, 0.8784, 0.8667, 0.8275, 0.8275, 0.8392,\n",
              "           0.8039, 0.8039, 0.8039, 0.8627, 0.9412, 0.3137, 0.5882, 1.0000,\n",
              "           0.8980, 0.8667, 0.7373, 0.6039, 0.7490, 0.8235, 0.8000, 0.8196,\n",
              "           0.8706, 0.8941, 0.8824, 0.0000],\n",
              "          [0.3843, 0.9137, 0.7765, 0.8235, 0.8706, 0.8980, 0.8980, 0.9176,\n",
              "           0.9765, 0.8627, 0.7608, 0.8431, 0.8510, 0.9451, 0.2549, 0.2863,\n",
              "           0.4157, 0.4588, 0.6588, 0.8588, 0.8667, 0.8431, 0.8510, 0.8745,\n",
              "           0.8745, 0.8784, 0.8980, 0.1137],\n",
              "          [0.2941, 0.8000, 0.8314, 0.8000, 0.7569, 0.8039, 0.8275, 0.8824,\n",
              "           0.8471, 0.7255, 0.7725, 0.8078, 0.7765, 0.8353, 0.9412, 0.7647,\n",
              "           0.8902, 0.9608, 0.9373, 0.8745, 0.8549, 0.8314, 0.8196, 0.8706,\n",
              "           0.8627, 0.8667, 0.9020, 0.2627],\n",
              "          [0.1882, 0.7961, 0.7176, 0.7608, 0.8353, 0.7725, 0.7255, 0.7451,\n",
              "           0.7608, 0.7529, 0.7922, 0.8392, 0.8588, 0.8667, 0.8627, 0.9255,\n",
              "           0.8824, 0.8471, 0.7804, 0.8078, 0.7294, 0.7098, 0.6941, 0.6745,\n",
              "           0.7098, 0.8039, 0.8078, 0.4510],\n",
              "          [0.0000, 0.4784, 0.8588, 0.7569, 0.7020, 0.6706, 0.7176, 0.7686,\n",
              "           0.8000, 0.8235, 0.8353, 0.8118, 0.8275, 0.8235, 0.7843, 0.7686,\n",
              "           0.7608, 0.7490, 0.7647, 0.7490, 0.7765, 0.7529, 0.6902, 0.6118,\n",
              "           0.6549, 0.6941, 0.8235, 0.3608],\n",
              "          [0.0000, 0.0000, 0.2902, 0.7412, 0.8314, 0.7490, 0.6863, 0.6745,\n",
              "           0.6863, 0.7098, 0.7255, 0.7373, 0.7412, 0.7373, 0.7569, 0.7765,\n",
              "           0.8000, 0.8196, 0.8235, 0.8235, 0.8275, 0.7373, 0.7373, 0.7608,\n",
              "           0.7529, 0.8471, 0.6667, 0.0000],\n",
              "          [0.0078, 0.0000, 0.0000, 0.0000, 0.2588, 0.7843, 0.8706, 0.9294,\n",
              "           0.9373, 0.9490, 0.9647, 0.9529, 0.9569, 0.8667, 0.8627, 0.7569,\n",
              "           0.7490, 0.7020, 0.7137, 0.7137, 0.7098, 0.6902, 0.6510, 0.6588,\n",
              "           0.3882, 0.2275, 0.0000, 0.0000],\n",
              "          [0.0000, 0.0000, 0.0000, 0.0000, 0.0000, 0.0000, 0.0000, 0.1569,\n",
              "           0.2392, 0.1725, 0.2824, 0.1608, 0.1373, 0.0000, 0.0000, 0.0000,\n",
              "           0.0000, 0.0000, 0.0000, 0.0000, 0.0000, 0.0000, 0.0000, 0.0000,\n",
              "           0.0000, 0.0000, 0.0000, 0.0000],\n",
              "          [0.0000, 0.0000, 0.0000, 0.0000, 0.0000, 0.0000, 0.0000, 0.0000,\n",
              "           0.0000, 0.0000, 0.0000, 0.0000, 0.0000, 0.0000, 0.0000, 0.0000,\n",
              "           0.0000, 0.0000, 0.0000, 0.0000, 0.0000, 0.0000, 0.0000, 0.0000,\n",
              "           0.0000, 0.0000, 0.0000, 0.0000],\n",
              "          [0.0000, 0.0000, 0.0000, 0.0000, 0.0000, 0.0000, 0.0000, 0.0000,\n",
              "           0.0000, 0.0000, 0.0000, 0.0000, 0.0000, 0.0000, 0.0000, 0.0000,\n",
              "           0.0000, 0.0000, 0.0000, 0.0000, 0.0000, 0.0000, 0.0000, 0.0000,\n",
              "           0.0000, 0.0000, 0.0000, 0.0000]]]),\n",
              " 9)"
            ]
          },
          "metadata": {},
          "execution_count": 5
        }
      ],
      "source": [
        "image, label = train_data[0] # train data is a tuple here\n",
        "image, label"
      ]
    },
    {
      "cell_type": "code",
      "execution_count": null,
      "metadata": {
        "colab": {
          "base_uri": "https://localhost:8080/"
        },
        "id": "RYEVXjQI2g5Q",
        "outputId": "39595b1d-4f79-46b5-ca05-e900028788ff"
      },
      "outputs": [
        {
          "output_type": "execute_result",
          "data": {
            "text/plain": [
              "['T-shirt/top',\n",
              " 'Trouser',\n",
              " 'Pullover',\n",
              " 'Dress',\n",
              " 'Coat',\n",
              " 'Sandal',\n",
              " 'Shirt',\n",
              " 'Sneaker',\n",
              " 'Bag',\n",
              " 'Ankle boot']"
            ]
          },
          "metadata": {},
          "execution_count": 6
        }
      ],
      "source": [
        "class_names = train_data.classes\n",
        "class_names"
      ]
    },
    {
      "cell_type": "code",
      "execution_count": null,
      "metadata": {
        "colab": {
          "base_uri": "https://localhost:8080/"
        },
        "id": "DVcDR7hl5FyH",
        "outputId": "5649ae23-78e9-46bf-8ee1-998b4998b077"
      },
      "outputs": [
        {
          "output_type": "execute_result",
          "data": {
            "text/plain": [
              "{'T-shirt/top': 0,\n",
              " 'Trouser': 1,\n",
              " 'Pullover': 2,\n",
              " 'Dress': 3,\n",
              " 'Coat': 4,\n",
              " 'Sandal': 5,\n",
              " 'Shirt': 6,\n",
              " 'Sneaker': 7,\n",
              " 'Bag': 8,\n",
              " 'Ankle boot': 9}"
            ]
          },
          "metadata": {},
          "execution_count": 7
        }
      ],
      "source": [
        "class_to_idx = train_data.class_to_idx # class_to_idx returns a dictionary\n",
        "class_to_idx"
      ]
    },
    {
      "cell_type": "code",
      "execution_count": null,
      "metadata": {
        "colab": {
          "base_uri": "https://localhost:8080/"
        },
        "id": "GA0j_nPl5tVz",
        "outputId": "8ec0d9e8-f996-4291-b16e-87440f9267a9"
      },
      "outputs": [
        {
          "output_type": "execute_result",
          "data": {
            "text/plain": [
              "tensor([9, 0, 0,  ..., 3, 0, 5])"
            ]
          },
          "metadata": {},
          "execution_count": 8
        }
      ],
      "source": [
        "train_data.targets"
      ]
    },
    {
      "cell_type": "code",
      "execution_count": null,
      "metadata": {
        "colab": {
          "base_uri": "https://localhost:8080/"
        },
        "id": "FtNiicgC6XNQ",
        "outputId": "91b4ab6b-6a88-48ce-8a2d-7c58c5b786ac"
      },
      "outputs": [
        {
          "output_type": "stream",
          "name": "stdout",
          "text": [
            "Image shape: torch.Size([1, 28, 28]) -> [color_channels, height, width]\n",
            "Image label: Ankle boot\n"
          ]
        }
      ],
      "source": [
        "print(f\"Image shape: {image.shape} -> [color_channels, height, width]\")\n",
        "print(f\"Image label: {class_names[label]}\")"
      ]
    },
    {
      "cell_type": "markdown",
      "metadata": {
        "id": "x0pqv7ba7Aqd"
      },
      "source": [
        " `Here we have only 1 color channel which implies that the image is a grayscale image`"
      ]
    },
    {
      "cell_type": "markdown",
      "metadata": {
        "id": "vgiQOQWX8B_o"
      },
      "source": [
        "### 1.1 Visualising the data"
      ]
    },
    {
      "cell_type": "code",
      "execution_count": null,
      "metadata": {
        "colab": {
          "base_uri": "https://localhost:8080/",
          "height": 469
        },
        "id": "eIShz38H62V5",
        "outputId": "de7c590f-acf0-41d4-e2e4-89ca008c24f2"
      },
      "outputs": [
        {
          "output_type": "stream",
          "name": "stdout",
          "text": [
            "Image shape: torch.Size([1, 28, 28])\n"
          ]
        },
        {
          "output_type": "display_data",
          "data": {
            "text/plain": [
              "<Figure size 640x480 with 1 Axes>"
            ],
            "image/png": "[encoded data removed]"
          },
          "metadata": {}
        }
      ],
      "source": [
        "image, label = train_data[0]\n",
        "print(f\"Image shape: {image.shape}\")\n",
        "plt.imshow(image.squeeze())\n",
        "plt.title(label);\n"
      ]
    },
    {
      "cell_type": "code",
      "execution_count": null,
      "metadata": {
        "colab": {
          "base_uri": "https://localhost:8080/",
          "height": 428
        },
        "id": "5ILB5VYr9S3d",
        "outputId": "fd6943f4-50f5-4ecf-8fe8-bde1d9e38d1b"
      },
      "outputs": [
        {
          "output_type": "display_data",
          "data": {
            "text/plain": [
              "<Figure size 640x480 with 1 Axes>"
            ],
            "image/png": "[encoded data removed]"
          },
          "metadata": {}
        }
      ],
      "source": [
        "plt.imshow(image.squeeze(), cmap=\"gray\")\n",
        "plt.title(class_names[label])\n",
        "plt.axis(False);"
      ]
    },
    {
      "cell_type": "code",
      "execution_count": null,
      "metadata": {
        "colab": {
          "base_uri": "https://localhost:8080/",
          "height": 752
        },
        "id": "ZENUTB7f-MIK",
        "outputId": "e8cb5a8b-1084-4fc6-edc6-7b31efc76579"
      },
      "outputs": [
        {
          "output_type": "display_data",
          "data": {
            "text/plain": [
              "<Figure size 900x900 with 16 Axes>"
            ],
            "image/png": "[encoded data removed]"
          },
          "metadata": {}
        }
      ],
      "source": [
        "# Plot more images\n",
        "torch.manual_seed(42)\n",
        "fig = plt.figure(figsize=(9,9))\n",
        "rows, cols = 4, 4\n",
        "for i in range(1, rows*cols+1):\n",
        "  random_idx = torch.randint(0, len(train_data), size=[1]).item()\n",
        "  img, label = train_data[random_idx]\n",
        "  fig.add_subplot(rows, cols,i)\n",
        "  plt.imshow(img.squeeze(), cmap=\"gray\")\n",
        "  plt.title(class_names[label])\n",
        "  plt.axis(False);"
      ]
    },
    {
      "cell_type": "markdown",
      "metadata": {
        "id": "B0-th6wiDGI3"
      },
      "source": [
        "## 2. Prepare DataLoader\n",
        "Dataloader turns our pytorch dataset into a Python iterable.\n",
        "In other words, we can get mini batches of data from the dataset."
      ]
    },
    {
      "cell_type": "code",
      "execution_count": null,
      "metadata": {
        "colab": {
          "base_uri": "https://localhost:8080/"
        },
        "id": "rbcxQIkVDF2f",
        "outputId": "3acb843b-ea1a-4423-85bf-e3817cbbf6ea"
      },
      "outputs": [
        {
          "output_type": "execute_result",
          "data": {
            "text/plain": [
              "(<torch.utils.data.dataloader.DataLoader at 0x7d472299b590>,\n",
              " <torch.utils.data.dataloader.DataLoader at 0x7d47226fced0>)"
            ]
          },
          "metadata": {},
          "execution_count": 13
        }
      ],
      "source": [
        "from torch.utils.data import DataLoader\n",
        "\n",
        "# hyperparam\n",
        "BATCH_SIZE = 32\n",
        "\n",
        "# turn data into batches\n",
        "train_dataloader = DataLoader(dataset=train_data,\n",
        "                              batch_size=BATCH_SIZE,\n",
        "                              shuffle=True)\n",
        "\n",
        "test_dataloader = DataLoader(dataset=test_data,\n",
        "                             batch_size=BATCH_SIZE,\n",
        "                             shuffle=False)\n",
        "train_dataloader, test_dataloader"
      ]
    },
    {
      "cell_type": "code",
      "execution_count": null,
      "metadata": {
        "colab": {
          "base_uri": "https://localhost:8080/"
        },
        "id": "-soMahxdIGDg",
        "outputId": "a36facf8-0917-460b-8790-5fd659ed33a1"
      },
      "outputs": [
        {
          "output_type": "execute_result",
          "data": {
            "text/plain": [
              "(1875, 313)"
            ]
          },
          "metadata": {},
          "execution_count": 14
        }
      ],
      "source": [
        "len(train_dataloader), len(test_dataloader)"
      ]
    },
    {
      "cell_type": "code",
      "execution_count": null,
      "metadata": {
        "colab": {
          "base_uri": "https://localhost:8080/"
        },
        "id": "0ThYRlp9ILRv",
        "outputId": "6d6c8895-6cbb-4974-eb1d-b0a273b17764"
      },
      "outputs": [
        {
          "output_type": "execute_result",
          "data": {
            "text/plain": [
              "(torch.Size([32, 1, 28, 28]), torch.Size([32]))"
            ]
          },
          "metadata": {},
          "execution_count": 15
        }
      ],
      "source": [
        "train_features_batch, train_labels_batch = next(iter(train_dataloader))\n",
        "train_features_batch.shape, train_labels_batch.shape"
      ]
    },
    {
      "cell_type": "code",
      "execution_count": null,
      "metadata": {
        "colab": {
          "base_uri": "https://localhost:8080/",
          "height": 462
        },
        "id": "XephNBexcwom",
        "outputId": "6965179e-90b8-4510-ac27-8d1f829d8cbb"
      },
      "outputs": [
        {
          "output_type": "stream",
          "name": "stdout",
          "text": [
            "Image size: torch.Size([1, 28, 28])\n",
            "Label: 6, Shirt\n"
          ]
        },
        {
          "output_type": "display_data",
          "data": {
            "text/plain": [
              "<Figure size 640x480 with 1 Axes>"
            ],
            "image/png": "[encoded data removed]"
          },
          "metadata": {}
        }
      ],
      "source": [
        "# Let's check a sample\n",
        "torch.manual_seed(42)\n",
        "random_idx = torch.randint(0, len(train_features_batch), size=[1]).item()\n",
        "img, label = train_features_batch[random_idx], train_labels_batch[random_idx]\n",
        "plt.imshow(img.squeeze(), cmap=\"gray\")\n",
        "plt.title(class_names[label])\n",
        "plt.axis(False)\n",
        "print(f\"Image size: {img.shape}\")\n",
        "print(f\"Label: {label}, {class_names[label]}\")"
      ]
    },
    {
      "cell_type": "markdown",
      "metadata": {
        "id": "dgWLzg6mRmaB"
      },
      "source": [
        "## 3. Model 0: build a baseline model\n"
      ]
    },
    {
      "cell_type": "code",
      "execution_count": null,
      "metadata": {
        "colab": {
          "base_uri": "https://localhost:8080/"
        },
        "id": "7NuMiOj9eI_i",
        "outputId": "daf40920-38ad-4cae-ad18-f274ffeeb956"
      },
      "outputs": [
        {
          "output_type": "stream",
          "name": "stdout",
          "text": [
            "torch.Size([1, 784])\n"
          ]
        }
      ],
      "source": [
        "# Create a flatten layer\n",
        "flatten_model = nn.Flatten()\n",
        "\n",
        "x = train_features_batch[0]\n",
        "\n",
        "# Print a sample\n",
        "output = flatten_model(x)\n",
        "print(output.shape) # [color_channels, height, width] -> [color_channels, height*width]"
      ]
    },
    {
      "cell_type": "code",
      "execution_count": null,
      "metadata": {
        "id": "L309h9jU_ypN"
      },
      "outputs": [],
      "source": [
        "class FashionMNISTModelV0(nn.Module):\n",
        "  def __init__(self,\n",
        "               input_shape: int,\n",
        "               hidden_channels: int,\n",
        "               output_shape: int):\n",
        "    super().__init__()\n",
        "    self.layer_stack = nn.Sequential(\n",
        "        nn.Flatten(),\n",
        "        nn.Linear(in_features=input_shape, out_features=hidden_channels),\n",
        "        nn.Linear(in_features=hidden_channels, out_features=output_shape)\n",
        "    )\n",
        "\n",
        "  def forward(self,x):\n",
        "    return self.layer_stack(x)\n"
      ]
    },
    {
      "cell_type": "code",
      "execution_count": null,
      "metadata": {
        "colab": {
          "base_uri": "https://localhost:8080/"
        },
        "id": "o055icz8CeBi",
        "outputId": "3312b59b-9ee1-4a14-8fce-6c1ff6d50204"
      },
      "outputs": [
        {
          "output_type": "execute_result",
          "data": {
            "text/plain": [
              "FashionMNISTModelV0(\n",
              "  (layer_stack): Sequential(\n",
              "    (0): Flatten(start_dim=1, end_dim=-1)\n",
              "    (1): Linear(in_features=784, out_features=10, bias=True)\n",
              "    (2): Linear(in_features=10, out_features=10, bias=True)\n",
              "  )\n",
              ")"
            ]
          },
          "metadata": {},
          "execution_count": 19
        }
      ],
      "source": [
        "torch.manual_seed(42)\n",
        "\n",
        "model_0 = FashionMNISTModelV0(\n",
        "    input_shape=784,\n",
        "    hidden_channels=10,\n",
        "    output_shape=len(class_names)\n",
        ").to(\"cpu\")\n",
        "\n",
        "model_0"
      ]
    },
    {
      "cell_type": "code",
      "execution_count": null,
      "metadata": {
        "colab": {
          "base_uri": "https://localhost:8080/"
        },
        "id": "RjzQ3PZIL5iQ",
        "outputId": "8fc72163-c3c7-4079-bb4a-d0a23a08d2b2"
      },
      "outputs": [
        {
          "output_type": "execute_result",
          "data": {
            "text/plain": [
              "tensor([[-0.0315,  0.3171,  0.0531, -0.2525,  0.5959,  0.2112,  0.3233,  0.2694,\n",
              "         -0.1004,  0.0157]], grad_fn=<AddmmBackward0>)"
            ]
          },
          "metadata": {},
          "execution_count": 20
        }
      ],
      "source": [
        "dummy_x = torch.rand([1, 1, 28, 28])\n",
        "model_0(dummy_x)"
      ]
    },
    {
      "cell_type": "markdown",
      "metadata": {
        "id": "J6eDnE5OBJDF"
      },
      "source": [
        "### 3.1 Setup Loss, optimizer and evaluation metrics"
      ]
    },
    {
      "cell_type": "code",
      "execution_count": null,
      "metadata": {
        "id": "ejXNfRe3NI7y"
      },
      "outputs": [],
      "source": [
        "# Setup loss and optimizer\n",
        "loss_fn = nn.CrossEntropyLoss()\n",
        "optimizer = torch.optim.SGD(params=model_0.parameters(),\n",
        "                            lr = 0.1)"
      ]
    },
    {
      "cell_type": "code",
      "execution_count": null,
      "metadata": {
        "id": "Uzop2EuLP_GI"
      },
      "outputs": [],
      "source": [
        "# Define the function for accuracy as an evaluation metric\n",
        "def accuracy_fn(y_true, y_pred):\n",
        "  correct = torch.eq(y_true, y_pred).sum().item()\n",
        "  acc = (correct / len(y_pred))*100\n",
        "  return acc"
      ]
    },
    {
      "cell_type": "markdown",
      "metadata": {
        "id": "qWbRODHcBooF"
      },
      "source": [
        "### 3.2 Creating a function to time our experiments\n",
        "Let's cook some code to check how fast our model runs"
      ]
    },
    {
      "cell_type": "code",
      "execution_count": null,
      "metadata": {
        "id": "yUBPQlqsAvow"
      },
      "outputs": [],
      "source": [
        "from timeit import default_timer as timer\n",
        "def print_train_time(start: float,\n",
        "                     end: float,\n",
        "                     device: torch.device = None):\n",
        "  time = end - start\n",
        "  print(f\"Train time on {device}: {time:.3f} seconds\")\n",
        "  return time"
      ]
    },
    {
      "cell_type": "code",
      "execution_count": null,
      "metadata": {
        "colab": {
          "base_uri": "https://localhost:8080/"
        },
        "id": "Fdq6n0HgDD3_",
        "outputId": "99ea3c14-4e09-4d22-dc2b-e2ccc8558e03"
      },
      "outputs": [
        {
          "output_type": "stream",
          "name": "stdout",
          "text": [
            "Train time on cpu: 0.000 seconds\n"
          ]
        },
        {
          "output_type": "execute_result",
          "data": {
            "text/plain": [
              "3.818599998339778e-05"
            ]
          },
          "metadata": {},
          "execution_count": 24
        }
      ],
      "source": [
        "start_time = timer()\n",
        "\n",
        "end_time = timer()\n",
        "print_train_time(start=start_time,\n",
        "                 end=end_time,\n",
        "                 device=\"cpu\")"
      ]
    },
    {
      "cell_type": "markdown",
      "metadata": {
        "id": "sMf8SN3aDz9V"
      },
      "source": [
        "### 3.3 Creating a training loop and training model on batches of data"
      ]
    },
    {
      "cell_type": "code",
      "execution_count": null,
      "metadata": {
        "colab": {
          "base_uri": "https://localhost:8080/",
          "height": 474,
          "referenced_widgets": [
            "a15bf0a73772442c9d74bd5085080058",
            "c1b8f00d2f7c47b6ae74d6f9b89bb4ac",
            "bc6b453eb1684f4e9ea9dcdb2e631c87",
            "245d893187694f2585aeab920c620304",
            "62ada736b54b46c4a1b2a67073bd0df1",
            "3e8e547836c54489b935eece50371586",
            "744c27f32db64b918445d945b122e632",
            "0f7d9b1701714c22a2f484bbc19d4672",
            "e63781a0d695404aa61b4ea9342e518d",
            "f82fd9f38ffe4328af3a56fb117379ed",
            "32a37afd541d4459a5c9f54bf4e5ae02"
          ]
        },
        "id": "GFqrpiQrD_ow",
        "outputId": "f923247a-c14d-49f0-dfba-1180e78b05d8"
      },
      "outputs": [
        {
          "output_type": "display_data",
          "data": {
            "text/plain": [
              "  0%|          | 0/3 [00:00<?, ?it/s]"
            ],
            "application/vnd.jupyter.widget-view+json": {
              "version_major": 2,
              "version_minor": 0,
              "model_id": "a15bf0a73772442c9d74bd5085080058"
            }
          },
          "metadata": {}
        },
        {
          "output_type": "stream",
          "name": "stdout",
          "text": [
            "Epochs in training....0\n",
            "Looked at 0/60000 samples.\n",
            "Looked at 12800/60000 samples.\n",
            "Looked at 25600/60000 samples.\n",
            "Looked at 38400/60000 samples.\n",
            "Looked at 51200/60000 samples.\n",
            "\n",
            "Train loss: 0.5904 | Test_loss: 0.5095 | Test_accuracy: 82.0387%\n",
            "Epochs in training....1\n",
            "Looked at 0/60000 samples.\n",
            "Looked at 12800/60000 samples.\n",
            "Looked at 25600/60000 samples.\n",
            "Looked at 38400/60000 samples.\n",
            "Looked at 51200/60000 samples.\n",
            "\n",
            "Train loss: 0.4763 | Test_loss: 0.4799 | Test_accuracy: 83.1969%\n",
            "Epochs in training....2\n",
            "Looked at 0/60000 samples.\n",
            "Looked at 12800/60000 samples.\n",
            "Looked at 25600/60000 samples.\n",
            "Looked at 38400/60000 samples.\n",
            "Looked at 51200/60000 samples.\n",
            "\n",
            "Train loss: 0.4550 | Test_loss: 0.4766 | Test_accuracy: 83.4265%\n",
            "Train time on cpu: 26.522 seconds\n"
          ]
        }
      ],
      "source": [
        "# Import tqdm for progress bar\n",
        "from tqdm.auto import tqdm\n",
        "\n",
        "# Set the seed and start the timer\n",
        "torch.manual_seed(42)\n",
        "train_time_start_on_cpu = timer()\n",
        "\n",
        "# Set the no of epochs\n",
        "epochs = 3\n",
        "\n",
        "### Training loop\n",
        "for epoch in tqdm(range(epochs)):\n",
        "  print(f\"Epochs in training....{epoch}\")\n",
        "  train_loss = 0\n",
        "  # Loop through the training batches\n",
        "  for batch, (X, y) in enumerate(train_dataloader):\n",
        "    model_0.train()\n",
        "    y_pred = model_0(X)\n",
        "\n",
        "    # Calculate the loss per batch\n",
        "    loss = loss_fn(y_pred,y)\n",
        "    train_loss += loss # accumualte train loss\n",
        "\n",
        "    optimizer.zero_grad()\n",
        "    loss.backward()\n",
        "    optimizer.step()\n",
        "\n",
        "    # Print out what's happening\n",
        "    if batch % 400 == 0:\n",
        "      print(f\"Looked at {batch * len(X)}/{len(train_dataloader.dataset)} samples.\")\n",
        "\n",
        "  # Divide total train loss by length of train dataloader\n",
        "  train_loss /= len(train_dataloader)\n",
        "\n",
        "  ### Testing loop\n",
        "  test_loss, test_acc = 0, 0\n",
        "  model_0.eval()\n",
        "  with torch.inference_mode():\n",
        "    for X_test, y_test in test_dataloader:\n",
        "      test_pred = model_0(X_test)\n",
        "      test_loss += loss_fn(test_pred, y_test)\n",
        "      test_acc += accuracy_fn(y_true=y_test,\n",
        "                              y_pred=test_pred.argmax(dim=1))\n",
        "    # Calculate the test loss and acc avg per batch\n",
        "    test_loss /= len(test_dataloader)\n",
        "    test_acc /= len(test_dataloader)\n",
        "\n",
        "  # Print out final results\n",
        "  print(f\"\\nTrain loss: {train_loss:.4f} | Test_loss: {test_loss:.4f} | Test_accuracy: {test_acc:.4f}%\")\n",
        "\n",
        "# Calculate training time\n",
        "train_time_end_on_cpu = timer()\n",
        "total_train_time_model_0 = print_train_time(start=train_time_start_on_cpu,\n",
        "                                            end=train_time_end_on_cpu,\n",
        "                                            device=str(next(model_0.parameters()).device))"
      ]
    },
    {
      "cell_type": "markdown",
      "metadata": {
        "id": "2V3ITbLQH4Og"
      },
      "source": [
        "## 4. Make predictions and see model 0 results"
      ]
    },
    {
      "cell_type": "code",
      "execution_count": null,
      "metadata": {
        "id": "raLJaIrb_gRR",
        "colab": {
          "base_uri": "https://localhost:8080/",
          "height": 100,
          "referenced_widgets": [
            "4b4ea05a57b84c6e9f34ec963c990c4b",
            "b4279abcfb834fe891bb4f30a307c27f",
            "93d253712e0f48648decfb589e2949e8",
            "ea6906cd78eb4be58227a048a026c3a2",
            "b961c7c08a0f496595de2d455981d567",
            "1fe4901b991e426cac96bea82cc08e65",
            "dfd2e74e0bf5463eaceb8429ff0cd896",
            "cf57a42758e14b21b13f1ad975b098c6",
            "fabb92082ace490e9aaf4204271e26ba",
            "f6e51de5d7cf41648a878238ef5ee5ff",
            "8d39cbe76d824bd3a992ce34e2e6e3e0"
          ]
        },
        "outputId": "13976c51-d01d-4f69-9d41-cd1a521006c4"
      },
      "outputs": [
        {
          "output_type": "display_data",
          "data": {
            "text/plain": [
              "  0%|          | 0/313 [00:00<?, ?it/s]"
            ],
            "application/vnd.jupyter.widget-view+json": {
              "version_major": 2,
              "version_minor": 0,
              "model_id": "4b4ea05a57b84c6e9f34ec963c990c4b"
            }
          },
          "metadata": {}
        },
        {
          "output_type": "execute_result",
          "data": {
            "text/plain": [
              "{'model_name': 'FashionMNISTModelV0',\n",
              " 'model loss': 0.47663888335227966,\n",
              " 'model accuracy': 83.42651757188499}"
            ]
          },
          "metadata": {},
          "execution_count": 26
        }
      ],
      "source": [
        "torch.manual_seed(42)\n",
        "def eval_model(model: torch.nn.Module,\n",
        "               data_loader: torch.utils.data.DataLoader,\n",
        "               loss_fn: torch.nn.Module,\n",
        "               accuracy_fn):\n",
        "  \"\"\"Returns a dictionary containing the results of model predicting on data_loader.\"\"\"\n",
        "  loss, acc = 0, 0\n",
        "  model.eval()\n",
        "  with torch.inference_mode():\n",
        "    for X, y in tqdm(data_loader):\n",
        "      y_pred = model(X)\n",
        "      loss += loss_fn(y_pred, y)\n",
        "      acc += accuracy_fn(y_true=y,\n",
        "                         y_pred=y_pred.argmax(dim=1))\n",
        "    loss /= len(data_loader)\n",
        "    acc /= len(data_loader)\n",
        "\n",
        "  return {\"model_name\": model.__class__.__name__, # works when model is created with a class\n",
        "          \"model loss\": loss.item(),\n",
        "          \"model accuracy\": acc}\n",
        "\n",
        "# Calculate model 0 results\n",
        "model_0_results = eval_model(model=model_0,\n",
        "                             data_loader=test_dataloader,\n",
        "                             loss_fn=loss_fn,\n",
        "                             accuracy_fn=accuracy_fn)\n",
        "model_0_results\n"
      ]
    },
    {
      "cell_type": "markdown",
      "metadata": {
        "id": "M2GT5d7oNGTF"
      },
      "source": [
        "## 5. Let's train model 0 on GPU now"
      ]
    },
    {
      "cell_type": "code",
      "execution_count": null,
      "metadata": {
        "id": "YlJf-7vgNN9V",
        "colab": {
          "base_uri": "https://localhost:8080/"
        },
        "outputId": "19d6f29d-afcd-4c5e-97e4-bdf462633fe7"
      },
      "outputs": [
        {
          "output_type": "stream",
          "name": "stdout",
          "text": [
            "Wed Apr 16 13:42:47 2025       \n",
            "+-----------------------------------------------------------------------------------------+\n",
            "| NVIDIA-SMI 550.54.15              Driver Version: 550.54.15      CUDA Version: 12.4     |\n",
            "|-----------------------------------------+------------------------+----------------------+\n",
            "| GPU  Name                 Persistence-M | Bus-Id          Disp.A | Volatile Uncorr. ECC |\n",
            "| Fan  Temp   Perf          Pwr:Usage/Cap |           Memory-Usage | GPU-Util  Compute M. |\n",
            "|                                         |                        |               MIG M. |\n",
            "|=========================================+========================+======================|\n",
            "|   0  Tesla T4                       Off |   00000000:00:04.0 Off |                    0 |\n",
            "| N/A   50C    P8             10W /   70W |       2MiB /  15360MiB |      0%      Default |\n",
            "|                                         |                        |                  N/A |\n",
            "+-----------------------------------------+------------------------+----------------------+\n",
            "                                                                                         \n",
            "+-----------------------------------------------------------------------------------------+\n",
            "| Processes:                                                                              |\n",
            "|  GPU   GI   CI        PID   Type   Process name                              GPU Memory |\n",
            "|        ID   ID                                                               Usage      |\n",
            "|=========================================================================================|\n",
            "|  No running processes found                                                             |\n",
            "+-----------------------------------------------------------------------------------------+\n"
          ]
        }
      ],
      "source": [
        "!nvidia-smi"
      ]
    },
    {
      "cell_type": "code",
      "execution_count": null,
      "metadata": {
        "id": "RSIKv5C0OGas",
        "colab": {
          "base_uri": "https://localhost:8080/",
          "height": 35
        },
        "outputId": "80836c34-b651-4d74-b22b-2c2888674a42"
      },
      "outputs": [
        {
          "output_type": "execute_result",
          "data": {
            "text/plain": [
              "'cuda'"
            ],
            "application/vnd.google.colaboratory.intrinsic+json": {
              "type": "string"
            }
          },
          "metadata": {},
          "execution_count": 28
        }
      ],
      "source": [
        "# Setup device agnostic code\n",
        "device = \"cuda\" if torch.cuda.is_available() else \"cpu\"\n",
        "device"
      ]
    },
    {
      "cell_type": "markdown",
      "metadata": {
        "id": "du_rWP69POfs"
      },
      "source": [
        "## 6. Model 1: Building a better model with non-linearity"
      ]
    },
    {
      "cell_type": "code",
      "execution_count": null,
      "metadata": {
        "id": "9VCgaGu1Orfv"
      },
      "outputs": [],
      "source": [
        "# Create a model with linear and non-linear layers\n",
        "class FashionMNISTModelV1(nn.Module):\n",
        "  def __init__(self,\n",
        "               input_shape: int,\n",
        "               hidden_channels: int,\n",
        "               output_shape: int):\n",
        "    super().__init__()\n",
        "    self.layer_stack = nn.Sequential(\n",
        "        nn.Flatten(),\n",
        "        nn.Linear(in_features=input_shape, out_features=hidden_channels),\n",
        "        nn.ReLU(),\n",
        "        nn.Linear(in_features=hidden_channels, out_features=output_shape),\n",
        "        nn.ReLU()\n",
        "    )\n",
        "\n",
        "  def forward(self,x: torch.Tensor):\n",
        "    return self.layer_stack(x)\n"
      ]
    },
    {
      "cell_type": "code",
      "execution_count": null,
      "metadata": {
        "id": "yKZUVyviPuWK",
        "colab": {
          "base_uri": "https://localhost:8080/"
        },
        "outputId": "e3349220-acdf-4024-d344-506a2f8b58c9"
      },
      "outputs": [
        {
          "output_type": "execute_result",
          "data": {
            "text/plain": [
              "FashionMNISTModelV1(\n",
              "  (layer_stack): Sequential(\n",
              "    (0): Flatten(start_dim=1, end_dim=-1)\n",
              "    (1): Linear(in_features=784, out_features=10, bias=True)\n",
              "    (2): ReLU()\n",
              "    (3): Linear(in_features=10, out_features=10, bias=True)\n",
              "    (4): ReLU()\n",
              "  )\n",
              ")"
            ]
          },
          "metadata": {},
          "execution_count": 30
        }
      ],
      "source": [
        "torch.manual_seed(42)\n",
        "\n",
        "model_1 = FashionMNISTModelV1(\n",
        "    input_shape=784,\n",
        "    hidden_channels=10,\n",
        "    output_shape=len(class_names)\n",
        ").to(device)\n",
        "model_1"
      ]
    },
    {
      "cell_type": "code",
      "execution_count": null,
      "metadata": {
        "colab": {
          "base_uri": "https://localhost:8080/"
        },
        "id": "GNgT7-koQQzJ",
        "outputId": "4e6818cb-29d1-4553-d5ee-db18dcf332cf"
      },
      "outputs": [
        {
          "output_type": "execute_result",
          "data": {
            "text/plain": [
              "Parameter containing:\n",
              "tensor([[ 0.0273,  0.0296, -0.0084,  ..., -0.0142,  0.0093,  0.0135],\n",
              "        [-0.0188, -0.0354,  0.0187,  ..., -0.0106, -0.0001,  0.0115],\n",
              "        [-0.0008,  0.0017,  0.0045,  ..., -0.0127, -0.0188,  0.0059],\n",
              "        ...,\n",
              "        [-0.0116,  0.0273, -0.0344,  ...,  0.0176,  0.0283, -0.0011],\n",
              "        [-0.0230,  0.0257,  0.0291,  ..., -0.0187, -0.0087,  0.0001],\n",
              "        [ 0.0176, -0.0147,  0.0053,  ..., -0.0336, -0.0221,  0.0205]],\n",
              "       device='cuda:0', requires_grad=True)"
            ]
          },
          "metadata": {},
          "execution_count": 31
        }
      ],
      "source": [
        "next(model_1.parameters())"
      ]
    },
    {
      "cell_type": "code",
      "execution_count": null,
      "metadata": {
        "id": "l70Uw_ifSUXk"
      },
      "outputs": [],
      "source": [
        "# Setup loss and optimizer\n",
        "loss_fn = nn.CrossEntropyLoss()\n",
        "optimizer = torch.optim.SGD(params=model_1.parameters(),\n",
        "                            lr = 0.1)"
      ]
    },
    {
      "cell_type": "markdown",
      "metadata": {
        "id": "Oh7vX2mITPeA"
      },
      "source": [
        "### 6.1 Turning our training and testing loops into functions"
      ]
    },
    {
      "cell_type": "code",
      "execution_count": null,
      "metadata": {
        "id": "rET7U7CkTDMx"
      },
      "outputs": [],
      "source": [
        "def train_step(model: torch.nn.Module,\n",
        "               data_loader: torch.utils.data.DataLoader,\n",
        "               loss_fn: torch.nn.Module,\n",
        "               optimizer: torch.optim.Optimizer,\n",
        "               accuracy_fn,\n",
        "               device: torch.device = device):\n",
        "  \"\"\"Performs the training step on the model trying to learn on a dataloader.\"\"\"\n",
        "  train_loss, train_acc = 0, 0\n",
        "  model.train()\n",
        "\n",
        "  # Loop through the training batches\n",
        "  for batch, (X, y) in enumerate(data_loader):\n",
        "    X, y = X.to(device), y.to(device)\n",
        "    y_pred = model(X)\n",
        "\n",
        "    # Calculate the loss and accuracy per batch\n",
        "    loss = loss_fn(y_pred,y)\n",
        "    train_loss += loss # accumualte train loss\n",
        "    train_acc += accuracy_fn(y_true=y,\n",
        "                             y_pred=y_pred.argmax(dim=1))\n",
        "\n",
        "    optimizer.zero_grad()\n",
        "    loss.backward()\n",
        "    optimizer.step()\n",
        "\n",
        "  # Divide total train loss and accuracy by length of train dataloader\n",
        "  train_loss /= len(data_loader)\n",
        "  train_acc /= len(data_loader)\n",
        "  print(f\"Train loss: {train_loss:.5f} | Train acc: {train_acc:.2f}%\")"
      ]
    },
    {
      "cell_type": "code",
      "execution_count": null,
      "metadata": {
        "id": "DG8uETfxy-5h"
      },
      "outputs": [],
      "source": [
        "# Test loop function\n",
        "def test_step(model: torch.nn.Module,\n",
        "              data_loader: torch.utils.data.DataLoader,\n",
        "              loss_fn: torch.nn.Module,\n",
        "              accuracy_fn,\n",
        "              device: torch.device = device):\n",
        "  \"\"\"Performs a testing loop step on the model going over dataloader.\"\"\"\n",
        "  test_loss, test_acc = 0, 0\n",
        "  model.eval()\n",
        "  with torch.inference_mode():\n",
        "    for X_test, y_test in data_loader:\n",
        "      X_test, y_test = X_test.to(device), y_test.to(device)\n",
        "      test_pred = model(X_test)\n",
        "      test_loss += loss_fn(test_pred, y_test)\n",
        "      test_acc += accuracy_fn(y_true=y_test,\n",
        "                              y_pred=test_pred.argmax(dim=1))\n",
        "\n",
        "    # Calculate the test loss and acc avg per batch\n",
        "    test_loss /= len(data_loader)\n",
        "    test_acc /= len(data_loader)\n",
        "\n",
        "    # Print out final results\n",
        "    print(f\"Test_loss: {test_loss:.5f} | Test_accuracy: {test_acc:.2f}%\")"
      ]
    },
    {
      "cell_type": "markdown",
      "metadata": {
        "id": "WBKilwP11cLF"
      },
      "source": [
        "### 6.2 Training Model 1 with `train_step` and `test_step` functions"
      ]
    },
    {
      "cell_type": "code",
      "execution_count": null,
      "metadata": {
        "colab": {
          "base_uri": "https://localhost:8080/",
          "height": 219,
          "referenced_widgets": [
            "350d02601ee74720a9297370c7a0a2d1",
            "86e9504643ea460d9f5919f392f3a427",
            "fc4f186846d640609ee816cdb331a007",
            "24e5cf6a12284495852a5cd4fa5f1499",
            "5c66663c37e1445aa84d74388d4ec220",
            "358323861b0a4b7289dd146d66f82e2e",
            "94ce2b4efaf642bcb6d931bb3b347747",
            "ffb05ca5ebc5472e8ee3cc42874a6c00",
            "fc59bf3d456a46b5af39f3a66000bc84",
            "f0e5bcfef6b04d08b059d4de9e51ed7f",
            "16f98cb766ad4391a7ab3bb41ed70b45"
          ]
        },
        "id": "JwwcQUTj1lSy",
        "outputId": "b4409834-66d3-4a76-c931-6a37b248ce1a"
      },
      "outputs": [
        {
          "output_type": "display_data",
          "data": {
            "text/plain": [
              "  0%|          | 0/3 [00:00<?, ?it/s]"
            ],
            "application/vnd.jupyter.widget-view+json": {
              "version_major": 2,
              "version_minor": 0,
              "model_id": "350d02601ee74720a9297370c7a0a2d1"
            }
          },
          "metadata": {}
        },
        {
          "output_type": "stream",
          "name": "stdout",
          "text": [
            "Epochs in training...0\n",
            "Train loss: 1.09199 | Train acc: 61.34%\n",
            "Test_loss: 0.95636 | Test_accuracy: 65.00%\n",
            "Epochs in training...1\n",
            "Train loss: 0.78101 | Train acc: 71.93%\n",
            "Test_loss: 0.72227 | Test_accuracy: 73.91%\n",
            "Epochs in training...2\n",
            "Train loss: 0.67027 | Train acc: 75.94%\n",
            "Test_loss: 0.68500 | Test_accuracy: 75.02%\n",
            "Train time on cuda: 29.291 seconds\n"
          ]
        }
      ],
      "source": [
        "torch.manual_seed(42)\n",
        "\n",
        "# Measure time\n",
        "train_time_start_on_gpu = timer()\n",
        "\n",
        "# Set the no of epochs\n",
        "epochs = 3\n",
        "\n",
        "for epoch in tqdm(range(epochs)):\n",
        "  print(f\"Epochs in training...{epoch}\")\n",
        "  train_step(model_1,\n",
        "            train_dataloader,\n",
        "            loss_fn,\n",
        "            optimizer,\n",
        "            accuracy_fn,\n",
        "            device)\n",
        "\n",
        "  test_step(model_1,\n",
        "            test_dataloader,\n",
        "            loss_fn,\n",
        "            accuracy_fn,\n",
        "            device)\n",
        "\n",
        "train_time_end_on_gpu = timer()\n",
        "total_train_time_model_1 = print_train_time(start=train_time_start_on_gpu,\n",
        "                                            end=train_time_end_on_gpu,\n",
        "                                            device=device)"
      ]
    },
    {
      "cell_type": "code",
      "execution_count": null,
      "metadata": {
        "colab": {
          "base_uri": "https://localhost:8080/"
        },
        "id": "NZEhlq1o6qOP",
        "outputId": "70bfa348-5ddd-4009-fd02-bf63d8571d3f"
      },
      "outputs": [
        {
          "output_type": "execute_result",
          "data": {
            "text/plain": [
              "{'model_name': 'FashionMNISTModelV0',\n",
              " 'model loss': 0.47663888335227966,\n",
              " 'model accuracy': 83.42651757188499}"
            ]
          },
          "metadata": {},
          "execution_count": 36
        }
      ],
      "source": [
        "model_0_results"
      ]
    },
    {
      "cell_type": "code",
      "execution_count": null,
      "metadata": {
        "colab": {
          "base_uri": "https://localhost:8080/"
        },
        "id": "scawAaYr64rk",
        "outputId": "56f2a5bd-bf98-4239-c390-e3c0de73aef8"
      },
      "outputs": [
        {
          "output_type": "execute_result",
          "data": {
            "text/plain": [
              "26.52211477100002"
            ]
          },
          "metadata": {},
          "execution_count": 37
        }
      ],
      "source": [
        "# train time on cpu\n",
        "total_train_time_model_0"
      ]
    },
    {
      "cell_type": "markdown",
      "metadata": {
        "id": "h9ymFjXH8Gf3"
      },
      "source": [
        "> **Note:** Sometimes, the model might train faster on a cpu than a gpu depending on the data/hardware we use.\n",
        "\n",
        "> This could be because-\n",
        "> 1. The overhead of the GPU for sending data to and fro outweighs its computational capabilities.\n",
        "> 2. The hardware you're using has a better CPU in terms of compute capabilities."
      ]
    },
    {
      "cell_type": "code",
      "execution_count": null,
      "metadata": {
        "id": "7lp7r4F0DN5i"
      },
      "outputs": [],
      "source": [
        "def eval_model(model: torch.nn.Module,\n",
        "               data_loader: torch.utils.data.DataLoader,\n",
        "               loss_fn: torch.nn.Module,\n",
        "               accuracy_fn):\n",
        "  \"\"\"Returns a dictionary containing the results of model predicting on data_loader.\"\"\"\n",
        "  loss, acc = 0, 0\n",
        "  model.eval()\n",
        "  with torch.inference_mode():\n",
        "    for X, y in tqdm(data_loader):\n",
        "      X, y = X.to(device), y.to(device)\n",
        "      y_pred = model(X)\n",
        "      loss += loss_fn(y_pred, y)\n",
        "      acc += accuracy_fn(y_true=y,\n",
        "                         y_pred=y_pred.argmax(dim=1))\n",
        "    loss /= len(data_loader)\n",
        "    acc /= len(data_loader)\n",
        "\n",
        "  return {\"model_name\": model.__class__.__name__, # works when model is created with a class\n",
        "          \"model loss\": loss.item(),\n",
        "          \"model accuracy\": acc}"
      ]
    },
    {
      "cell_type": "code",
      "execution_count": null,
      "metadata": {
        "colab": {
          "referenced_widgets": [
            "fc60fae7cbae485d86b0e15c1c4452c0",
            "7bf37f89846e468e89ab5299f948e5b1",
            "d7cd1c82581c4592a5b2516178ae5525",
            "d4998cf458a343c78620487187e9b8ba",
            "2fec9a4a9f6f422ab3fbefa250471fe3",
            "3c63745093994880908cecc8316ef78a",
            "9d61dde739b04c74940aac459f3b69e9",
            "ad0f389577be427fb1799f8dd0264873",
            "8283e2500e2444ff849b629d4658f3cc",
            "68955e217caa4337aa629d10ee4647f4",
            "d83fddd8c67f489b86fa7b8859341664"
          ],
          "base_uri": "https://localhost:8080/",
          "height": 100
        },
        "id": "_aUuXtFF91_R",
        "outputId": "7405697f-9579-4534-903e-37c6f34b6240"
      },
      "outputs": [
        {
          "output_type": "display_data",
          "data": {
            "text/plain": [
              "  0%|          | 0/313 [00:00<?, ?it/s]"
            ],
            "application/vnd.jupyter.widget-view+json": {
              "version_major": 2,
              "version_minor": 0,
              "model_id": "fc60fae7cbae485d86b0e15c1c4452c0"
            }
          },
          "metadata": {}
        },
        {
          "output_type": "execute_result",
          "data": {
            "text/plain": [
              "{'model_name': 'FashionMNISTModelV1',\n",
              " 'model loss': 0.6850008964538574,\n",
              " 'model accuracy': 75.01996805111821}"
            ]
          },
          "metadata": {},
          "execution_count": 39
        }
      ],
      "source": [
        "# Get model_1 results dictionary\n",
        "model_1_results = eval_model(model_1,\n",
        "                             test_dataloader,\n",
        "                             loss_fn,\n",
        "                             accuracy_fn)\n",
        "model_1_results"
      ]
    },
    {
      "cell_type": "markdown",
      "metadata": {
        "id": "RSs3KPkPDwRf"
      },
      "source": [
        "## 7. Model 2: Building a convolutional neural network\n",
        "CNNs are also known as ConvNets, used mainly for finding patterns in visual data.\n"
      ]
    },
    {
      "cell_type": "code",
      "execution_count": null,
      "metadata": {
        "id": "6FHaAPv1DqOe"
      },
      "outputs": [],
      "source": [
        "# Create a CNN model class\n",
        "class FashionMNISTModelV2(nn.Module):\n",
        "  \"\"\"\n",
        "  Model architecture that replicates the TinyVGG\n",
        "  model from cnn explainer website.\n",
        "  \"\"\"\n",
        "  def __init__(self, input_shape: int, hidden_units: int, output_shape: int):\n",
        "    super().__init__()\n",
        "    self.conv_block_1 = nn.Sequential(\n",
        "        nn.Conv2d(in_channels=input_shape,\n",
        "                  out_channels=hidden_units,\n",
        "                  kernel_size=3,\n",
        "                  stride=1,\n",
        "                  padding=1),\n",
        "        nn.ReLU(),\n",
        "        nn.Conv2d(in_channels=hidden_units,\n",
        "                  out_channels=hidden_units,\n",
        "                  kernel_size=3,\n",
        "                  stride=1,\n",
        "                  padding=1),\n",
        "        nn.ReLU(),\n",
        "        nn.MaxPool2d(kernel_size=2) # we can also assign a tuple to the kernel_size\n",
        "\n",
        "    )\n",
        "    self.conv_block_2 = nn.Sequential(\n",
        "        nn.Conv2d(in_channels=hidden_units,\n",
        "                  out_channels=hidden_units,\n",
        "                  kernel_size=3,\n",
        "                  stride=1,\n",
        "                  padding=1),\n",
        "        nn.ReLU(),\n",
        "        nn.Conv2d(in_channels=hidden_units,\n",
        "                  out_channels=hidden_units,\n",
        "                  kernel_size=3,\n",
        "                  stride=1,\n",
        "                  padding=1),\n",
        "        nn.ReLU(),\n",
        "        nn.MaxPool2d(kernel_size=2)\n",
        "    )\n",
        "    self.classifier = nn.Sequential(\n",
        "        nn.Flatten(),\n",
        "        nn.Linear(in_features=hidden_units*7*7, # this is an important calculation\n",
        "                  out_features=output_shape)\n",
        "    )\n",
        "\n",
        "  def forward(self, x):\n",
        "    x = self.conv_block_1(x)\n",
        "    #print(x.shape)\n",
        "    x = self.conv_block_2(x)\n",
        "    #print(x.shape)\n",
        "    x= self.classifier(x)\n",
        "    return x\n"
      ]
    },
    {
      "cell_type": "code",
      "execution_count": null,
      "metadata": {
        "colab": {
          "base_uri": "https://localhost:8080/"
        },
        "id": "NC2ho9hVeX-w",
        "outputId": "03018f83-ee55-4f7d-bccf-53c3bb47ff60"
      },
      "outputs": [
        {
          "output_type": "execute_result",
          "data": {
            "text/plain": [
              "FashionMNISTModelV2(\n",
              "  (conv_block_1): Sequential(\n",
              "    (0): Conv2d(1, 10, kernel_size=(3, 3), stride=(1, 1), padding=(1, 1))\n",
              "    (1): ReLU()\n",
              "    (2): Conv2d(10, 10, kernel_size=(3, 3), stride=(1, 1), padding=(1, 1))\n",
              "    (3): ReLU()\n",
              "    (4): MaxPool2d(kernel_size=2, stride=2, padding=0, dilation=1, ceil_mode=False)\n",
              "  )\n",
              "  (conv_block_2): Sequential(\n",
              "    (0): Conv2d(10, 10, kernel_size=(3, 3), stride=(1, 1), padding=(1, 1))\n",
              "    (1): ReLU()\n",
              "    (2): Conv2d(10, 10, kernel_size=(3, 3), stride=(1, 1), padding=(1, 1))\n",
              "    (3): ReLU()\n",
              "    (4): MaxPool2d(kernel_size=2, stride=2, padding=0, dilation=1, ceil_mode=False)\n",
              "  )\n",
              "  (classifier): Sequential(\n",
              "    (0): Flatten(start_dim=1, end_dim=-1)\n",
              "    (1): Linear(in_features=490, out_features=10, bias=True)\n",
              "  )\n",
              ")"
            ]
          },
          "metadata": {},
          "execution_count": 41
        }
      ],
      "source": [
        "model_2 = FashionMNISTModelV2(\n",
        "    input_shape=1,\n",
        "    hidden_units=10,\n",
        "    output_shape=len(class_names)\n",
        "    ).to(device)\n",
        "model_2"
      ]
    },
    {
      "cell_type": "code",
      "execution_count": null,
      "metadata": {
        "colab": {
          "base_uri": "https://localhost:8080/"
        },
        "id": "VoW0x9Tjgdl7",
        "outputId": "09fcf8b5-74ed-42e7-9647-1fa149f642e6"
      },
      "outputs": [
        {
          "output_type": "execute_result",
          "data": {
            "text/plain": [
              "OrderedDict([('conv_block_1.0.weight',\n",
              "              tensor([[[[-0.1354,  0.2211, -0.2631],\n",
              "                        [-0.1537, -0.0941, -0.2004],\n",
              "                        [ 0.0315, -0.3292,  0.3010]]],\n",
              "              \n",
              "              \n",
              "                      [[[-0.2832,  0.2573,  0.0555],\n",
              "                        [-0.1082,  0.2060,  0.0520],\n",
              "                        [ 0.2693,  0.0364, -0.1051]]],\n",
              "              \n",
              "              \n",
              "                      [[[ 0.0896, -0.0904,  0.1403],\n",
              "                        [ 0.2976,  0.1927, -0.1457],\n",
              "                        [ 0.1924,  0.0596,  0.1693]]],\n",
              "              \n",
              "              \n",
              "                      [[[-0.2032, -0.3300, -0.1288],\n",
              "                        [-0.2557,  0.2735,  0.0960],\n",
              "                        [ 0.1381,  0.1054, -0.0058]]],\n",
              "              \n",
              "              \n",
              "                      [[[ 0.2609, -0.2368,  0.0210],\n",
              "                        [-0.2275,  0.1028, -0.1148],\n",
              "                        [ 0.1021, -0.0694,  0.2765]]],\n",
              "              \n",
              "              \n",
              "                      [[[-0.1976, -0.1988, -0.1988],\n",
              "                        [ 0.2998,  0.1111,  0.3208],\n",
              "                        [-0.2751, -0.3306, -0.2608]]],\n",
              "              \n",
              "              \n",
              "                      [[[-0.2242,  0.1350,  0.1194],\n",
              "                        [ 0.2770, -0.1721, -0.2272],\n",
              "                        [ 0.1769, -0.1347,  0.2023]]],\n",
              "              \n",
              "              \n",
              "                      [[[-0.0791,  0.1907, -0.2590],\n",
              "                        [-0.1682,  0.1016,  0.0705],\n",
              "                        [-0.0850,  0.1987,  0.2266]]],\n",
              "              \n",
              "              \n",
              "                      [[[-0.2417, -0.1780,  0.3052],\n",
              "                        [-0.1125, -0.1182, -0.3225],\n",
              "                        [-0.1909,  0.0833, -0.0440]]],\n",
              "              \n",
              "              \n",
              "                      [[[-0.2420,  0.0078, -0.2277],\n",
              "                        [-0.2828, -0.1836, -0.2917],\n",
              "                        [-0.2122,  0.3332,  0.0630]]]], device='cuda:0')),\n",
              "             ('conv_block_1.0.bias',\n",
              "              tensor([ 0.1027, -0.3109, -0.2189, -0.1110,  0.0521, -0.2933, -0.1436, -0.1996,\n",
              "                       0.0009, -0.1240], device='cuda:0')),\n",
              "             ('conv_block_1.2.weight',\n",
              "              tensor([[[[-0.0073, -0.0714, -0.0724],\n",
              "                        [-0.0615, -0.0361, -0.0832],\n",
              "                        [ 0.0884, -0.0209,  0.0907]],\n",
              "              \n",
              "                       [[ 0.0328, -0.0893,  0.0729],\n",
              "                        [-0.0290, -0.0404, -0.0875],\n",
              "                        [-0.1048,  0.0302, -0.0230]],\n",
              "              \n",
              "                       [[ 0.0410, -0.0865,  0.0783],\n",
              "                        [-0.0774, -0.0182,  0.0220],\n",
              "                        [ 0.0544,  0.0851,  0.0960]],\n",
              "              \n",
              "                       [[-0.0836,  0.0265, -0.0453],\n",
              "                        [-0.0116, -0.0789,  0.0960],\n",
              "                        [-0.0774,  0.0563,  0.0370]],\n",
              "              \n",
              "                       [[ 0.0343, -0.0570,  0.0958],\n",
              "                        [ 0.0232,  0.0136, -0.0929],\n",
              "                        [ 0.0442, -0.0158, -0.0483]],\n",
              "              \n",
              "                       [[ 0.0905,  0.0235, -0.0583],\n",
              "                        [-0.0534, -0.0050,  0.0589],\n",
              "                        [-0.0269, -0.0601, -0.0361]],\n",
              "              \n",
              "                       [[-0.0787,  0.0376,  0.0816],\n",
              "                        [-0.0992,  0.0245,  0.0545],\n",
              "                        [ 0.0191, -0.0375,  0.0550]],\n",
              "              \n",
              "                       [[ 0.0554,  0.0394, -0.0185],\n",
              "                        [-0.0279,  0.0113, -0.0186],\n",
              "                        [-0.0314,  0.0674,  0.0906]],\n",
              "              \n",
              "                       [[-0.0104, -0.0236,  0.0015],\n",
              "                        [-0.0063,  0.0253,  0.0295],\n",
              "                        [-0.0957, -0.0389,  0.0888]],\n",
              "              \n",
              "                       [[ 0.0411, -0.0052, -0.0636],\n",
              "                        [-0.0645, -0.0944, -0.0344],\n",
              "                        [ 0.0356,  0.0672,  0.0487]]],\n",
              "              \n",
              "              \n",
              "                      [[[-0.0932, -0.0634, -0.0166],\n",
              "                        [ 0.1020,  0.0152, -0.0273],\n",
              "                        [ 0.0436, -0.0401, -0.0682]],\n",
              "              \n",
              "                       [[ 0.0769, -0.0479, -0.0211],\n",
              "                        [-0.1049,  0.0705,  0.0799],\n",
              "                        [ 0.0384, -0.0735, -0.1040]],\n",
              "              \n",
              "                       [[-0.0856,  0.0786,  0.0506],\n",
              "                        [ 0.0887,  0.0552,  0.0267],\n",
              "                        [-0.0010, -0.0802, -0.0903]],\n",
              "              \n",
              "                       [[-0.0986,  0.0432, -0.0518],\n",
              "                        [-0.0212, -0.0607, -0.0192],\n",
              "                        [-0.0742, -0.0689,  0.0350]],\n",
              "              \n",
              "                       [[-0.0313,  0.0651, -0.0338],\n",
              "                        [-0.0773, -0.0186, -0.0511],\n",
              "                        [-0.0322, -0.1003,  0.0590]],\n",
              "              \n",
              "                       [[-0.0734,  0.0530,  0.0478],\n",
              "                        [ 0.0753, -0.0809,  0.0758],\n",
              "                        [-0.0498,  0.0391,  0.0990]],\n",
              "              \n",
              "                       [[-0.0149, -0.0008, -0.0243],\n",
              "                        [-0.0880,  0.0506, -0.1046],\n",
              "                        [ 0.0654,  0.0789,  0.0997]],\n",
              "              \n",
              "                       [[-0.0249, -0.0866,  0.0237],\n",
              "                        [ 0.0582, -0.1049, -0.0239],\n",
              "                        [-0.0632, -0.0092, -0.0519]],\n",
              "              \n",
              "                       [[-0.0431, -0.0335, -0.1002],\n",
              "                        [ 0.0865,  0.0884, -0.0165],\n",
              "                        [-0.0120, -0.0430, -0.0952]],\n",
              "              \n",
              "                       [[-0.1026,  0.0392, -0.0579],\n",
              "                        [-0.0678, -0.0082, -0.0351],\n",
              "                        [-0.0341,  0.0034, -0.0224]]],\n",
              "              \n",
              "              \n",
              "                      [[[-0.0363, -0.0505, -0.0858],\n",
              "                        [ 0.0884, -0.0422,  0.0279],\n",
              "                        [-0.0366,  0.0086,  0.0983]],\n",
              "              \n",
              "                       [[ 0.0486, -0.0913,  0.0418],\n",
              "                        [ 0.1001,  0.0277,  0.0707],\n",
              "                        [ 0.1039, -0.0162,  0.0219]],\n",
              "              \n",
              "                       [[-0.0733, -0.0217,  0.0781],\n",
              "                        [ 0.0540, -0.0667, -0.0845],\n",
              "                        [-0.0720, -0.1040, -0.0813]],\n",
              "              \n",
              "                       [[-0.0261,  0.0711,  0.0176],\n",
              "                        [-0.0802, -0.0846,  0.0524],\n",
              "                        [-0.0784, -0.0130,  0.0506]],\n",
              "              \n",
              "                       [[-0.0488, -0.0115, -0.0092],\n",
              "                        [-0.0249, -0.0534, -0.0940],\n",
              "                        [-0.0852, -0.0564,  0.1018]],\n",
              "              \n",
              "                       [[-0.0509, -0.0708,  0.0256],\n",
              "                        [ 0.0291,  0.0578,  0.0801],\n",
              "                        [ 0.0587, -0.1045,  0.0093]],\n",
              "              \n",
              "                       [[ 0.0639, -0.0097, -0.0621],\n",
              "                        [ 0.1005, -0.0394, -0.0600],\n",
              "                        [-0.0950,  0.0047,  0.0467]],\n",
              "              \n",
              "                       [[ 0.0233,  0.0208, -0.0799],\n",
              "                        [-0.0984,  0.0019,  0.0961],\n",
              "                        [ 0.0608, -0.0614, -0.0137]],\n",
              "              \n",
              "                       [[-0.0777, -0.0509,  0.0191],\n",
              "                        [ 0.0574,  0.0873, -0.0968],\n",
              "                        [ 0.0705, -0.0743,  0.0395]],\n",
              "              \n",
              "                       [[ 0.0892,  0.0015,  0.0959],\n",
              "                        [-0.0898, -0.0403,  0.0615],\n",
              "                        [-0.0230, -0.0216, -0.0439]]],\n",
              "              \n",
              "              \n",
              "                      [[[ 0.0727,  0.0517,  0.0338],\n",
              "                        [-0.0592, -0.0856,  0.0114],\n",
              "                        [ 0.0312, -0.0487, -0.0295]],\n",
              "              \n",
              "                       [[ 0.0712,  0.0084,  0.0048],\n",
              "                        [-0.0259, -0.0955, -0.0991],\n",
              "                        [-0.0504, -0.0536,  0.0328]],\n",
              "              \n",
              "                       [[-0.0307, -0.0412,  0.1005],\n",
              "                        [ 0.0367,  0.0751, -0.0510],\n",
              "                        [-0.0431,  0.0387, -0.0702]],\n",
              "              \n",
              "                       [[-0.0689, -0.0051, -0.0386],\n",
              "                        [-0.0790,  0.0625,  0.0848],\n",
              "                        [ 0.0171, -0.0184, -0.0976]],\n",
              "              \n",
              "                       [[-0.0384,  0.0268,  0.0497],\n",
              "                        [-0.0133, -0.0417,  0.0587],\n",
              "                        [-0.0839,  0.0666, -0.0409]],\n",
              "              \n",
              "                       [[ 0.0016, -0.0208,  0.0128],\n",
              "                        [-0.0319,  0.0766, -0.0027],\n",
              "                        [ 0.0823,  0.1013, -0.0514]],\n",
              "              \n",
              "                       [[-0.0769,  0.0846,  0.0826],\n",
              "                        [-0.0805, -0.0081, -0.1039],\n",
              "                        [-0.0863,  0.0204,  0.0280]],\n",
              "              \n",
              "                       [[ 0.0223, -0.0287,  0.0972],\n",
              "                        [ 0.0151, -0.0622, -0.0060],\n",
              "                        [ 0.0253,  0.0369, -0.0745]],\n",
              "              \n",
              "                       [[ 0.0395, -0.0539, -0.0876],\n",
              "                        [-0.0576,  0.1017,  0.0901],\n",
              "                        [ 0.0944,  0.0619,  0.0796]],\n",
              "              \n",
              "                       [[-0.0141, -0.0580,  0.0527],\n",
              "                        [-0.0546, -0.0711, -0.0337],\n",
              "                        [ 0.0221,  0.0543, -0.0409]]],\n",
              "              \n",
              "              \n",
              "                      [[[-0.0620,  0.0142, -0.0621],\n",
              "                        [-0.0686,  0.0549, -0.0177],\n",
              "                        [ 0.0963,  0.1025,  0.0315]],\n",
              "              \n",
              "                       [[ 0.0363,  0.0243,  0.0017],\n",
              "                        [-0.0077,  0.0014,  0.0394],\n",
              "                        [ 0.0980, -0.0273, -0.0446]],\n",
              "              \n",
              "                       [[-0.0255, -0.0509,  0.0179],\n",
              "                        [ 0.0787,  0.0824,  0.0484],\n",
              "                        [-0.0776, -0.0566, -0.0232]],\n",
              "              \n",
              "                       [[-0.0194,  0.0087, -0.0968],\n",
              "                        [ 0.0328, -0.0804, -0.0667],\n",
              "                        [-0.0876,  0.0918, -0.0998]],\n",
              "              \n",
              "                       [[ 0.0795, -0.0035, -0.0123],\n",
              "                        [ 0.0659, -0.0097,  0.0661],\n",
              "                        [ 0.0762, -0.0915,  0.0406]],\n",
              "              \n",
              "                       [[ 0.0199,  0.0227,  0.0154],\n",
              "                        [ 0.0288, -0.0507, -0.0135],\n",
              "                        [ 0.1002,  0.0708, -0.0040]],\n",
              "              \n",
              "                       [[-0.0991,  0.0046, -0.0718],\n",
              "                        [ 0.0857, -0.0640, -0.0076],\n",
              "                        [-0.0234,  0.0188,  0.0992]],\n",
              "              \n",
              "                       [[ 0.0100,  0.0610,  0.0818],\n",
              "                        [ 0.0851, -0.0364, -0.0236],\n",
              "                        [ 0.0508, -0.0288,  0.0494]],\n",
              "              \n",
              "                       [[-0.0230, -0.0715,  0.0429],\n",
              "                        [ 0.0162,  0.0470,  0.1047],\n",
              "                        [ 0.0720,  0.0999,  0.0056]],\n",
              "              \n",
              "                       [[-0.0907, -0.0739, -0.0655],\n",
              "                        [-0.0929, -0.0528, -0.0970],\n",
              "                        [-0.0973, -0.0630, -0.1039]]],\n",
              "              \n",
              "              \n",
              "                      [[[-0.0647,  0.0402,  0.0879],\n",
              "                        [-0.0314, -0.0307,  0.0563],\n",
              "                        [-0.0520, -0.0498,  0.0649]],\n",
              "              \n",
              "                       [[-0.0918,  0.0129,  0.0931],\n",
              "                        [ 0.0181,  0.0287, -0.0614],\n",
              "                        [-0.0015,  0.0058,  0.0259]],\n",
              "              \n",
              "                       [[ 0.0410,  0.0916, -0.0805],\n",
              "                        [ 0.0032, -0.0527, -0.0834],\n",
              "                        [-0.0084, -0.0928,  0.0736]],\n",
              "              \n",
              "                       [[ 0.0122, -0.0568,  0.0551],\n",
              "                        [-0.0998, -0.0408, -0.0205],\n",
              "                        [-0.0896, -0.0670, -0.0172]],\n",
              "              \n",
              "                       [[ 0.0800,  0.1018,  0.0671],\n",
              "                        [-0.0629, -0.0690,  0.0920],\n",
              "                        [ 0.0373,  0.0028,  0.0143]],\n",
              "              \n",
              "                       [[-0.0847, -0.0352,  0.1015],\n",
              "                        [-0.0260, -0.0053, -0.0875],\n",
              "                        [-0.0590, -0.0022, -0.0655]],\n",
              "              \n",
              "                       [[-0.0131,  0.0429, -0.1031],\n",
              "                        [ 0.0313, -0.0697, -0.0514],\n",
              "                        [ 0.0405,  0.0838, -0.0288]],\n",
              "              \n",
              "                       [[-0.0433, -0.0953, -0.0544],\n",
              "                        [-0.0923, -0.0241,  0.0215],\n",
              "                        [-0.0988,  0.0920,  0.0661]],\n",
              "              \n",
              "                       [[-0.1032, -0.0503,  0.0344],\n",
              "                        [-0.0217, -0.0115, -0.0476],\n",
              "                        [ 0.0847, -0.0589,  0.0874]],\n",
              "              \n",
              "                       [[ 0.0068,  0.0212,  0.0822],\n",
              "                        [-0.0174, -0.0600, -0.0170],\n",
              "                        [ 0.0855, -0.0782,  0.0239]]],\n",
              "              \n",
              "              \n",
              "                      [[[-0.1036,  0.0553,  0.0389],\n",
              "                        [ 0.0045,  0.0452,  0.0001],\n",
              "                        [ 0.0583, -0.0834, -0.0155]],\n",
              "              \n",
              "                       [[ 0.0468,  0.1050,  0.0537],\n",
              "                        [-0.0767,  0.0811, -0.0235],\n",
              "                        [-0.0225, -0.0958, -0.0166]],\n",
              "              \n",
              "                       [[ 0.0746,  0.0147, -0.0614],\n",
              "                        [ 0.0324, -0.0338,  0.0962],\n",
              "                        [-0.0915, -0.0333, -0.1018]],\n",
              "              \n",
              "                       [[-0.0415,  0.0332,  0.1015],\n",
              "                        [ 0.0177,  0.1033,  0.0206],\n",
              "                        [ 0.0609,  0.0845,  0.0881]],\n",
              "              \n",
              "                       [[-0.0590,  0.0969,  0.0639],\n",
              "                        [-0.0493, -0.0503, -0.0884],\n",
              "                        [ 0.0265, -0.0854,  0.0445]],\n",
              "              \n",
              "                       [[ 0.0333, -0.0916,  0.0287],\n",
              "                        [-0.0086,  0.0482,  0.0605],\n",
              "                        [-0.1048,  0.0967,  0.0884]],\n",
              "              \n",
              "                       [[ 0.0419, -0.0963, -0.0377],\n",
              "                        [-0.0305, -0.0271,  0.0594],\n",
              "                        [ 0.0383,  0.0835, -0.0395]],\n",
              "              \n",
              "                       [[ 0.0355,  0.0375, -0.0878],\n",
              "                        [-0.1022, -0.0547,  0.0722],\n",
              "                        [-0.0992, -0.0918,  0.0591]],\n",
              "              \n",
              "                       [[ 0.0569,  0.0867, -0.0796],\n",
              "                        [-0.0771,  0.0541,  0.0917],\n",
              "                        [ 0.0631,  0.0165,  0.0347]],\n",
              "              \n",
              "                       [[ 0.1000, -0.0680, -0.0479],\n",
              "                        [ 0.0737, -0.0721, -0.0581],\n",
              "                        [ 0.0769,  0.0333,  0.0341]]],\n",
              "              \n",
              "              \n",
              "                      [[[-0.0447, -0.0015,  0.0965],\n",
              "                        [-0.0633,  0.0008,  0.0501],\n",
              "                        [-0.0728,  0.1024, -0.0527]],\n",
              "              \n",
              "                       [[-0.0253, -0.0285, -0.0687],\n",
              "                        [-0.1034,  0.0594,  0.0280],\n",
              "                        [-0.0987, -0.0678,  0.1042]],\n",
              "              \n",
              "                       [[ 0.0403,  0.0423, -0.0631],\n",
              "                        [-0.0462, -0.0159, -0.0193],\n",
              "                        [-0.0722,  0.0087,  0.0105]],\n",
              "              \n",
              "                       [[-0.0133,  0.0146, -0.0418],\n",
              "                        [ 0.0274,  0.0398, -0.0555],\n",
              "                        [-0.1045,  0.0552,  0.0251]],\n",
              "              \n",
              "                       [[-0.0536,  0.1016, -0.0477],\n",
              "                        [ 0.0712,  0.0535, -0.0884],\n",
              "                        [ 0.0680, -0.0969, -0.0584]],\n",
              "              \n",
              "                       [[-0.0176, -0.0711,  0.1030],\n",
              "                        [-0.0211,  0.0419, -0.0941],\n",
              "                        [ 0.0607, -0.0328, -0.0802]],\n",
              "              \n",
              "                       [[ 0.0154,  0.0511,  0.0912],\n",
              "                        [-0.0644, -0.0519,  0.0203],\n",
              "                        [ 0.0286,  0.0405,  0.0579]],\n",
              "              \n",
              "                       [[-0.0239,  0.0586,  0.0777],\n",
              "                        [-0.0275,  0.0750,  0.0515],\n",
              "                        [ 0.0930, -0.0599, -0.0521]],\n",
              "              \n",
              "                       [[-0.0305,  0.0053,  0.0633],\n",
              "                        [-0.0602,  0.0528, -0.0378],\n",
              "                        [ 0.0637, -0.0050, -0.0923]],\n",
              "              \n",
              "                       [[-0.0580, -0.0763,  0.0523],\n",
              "                        [-0.0707, -0.0088,  0.0227],\n",
              "                        [-0.0578,  0.0304, -0.1029]]],\n",
              "              \n",
              "              \n",
              "                      [[[-0.0754, -0.0955, -0.0319],\n",
              "                        [-0.0384,  0.0151, -0.0195],\n",
              "                        [ 0.0496,  0.0966,  0.0378]],\n",
              "              \n",
              "                       [[-0.0415, -0.0987,  0.0382],\n",
              "                        [-0.0522,  0.0536,  0.0705],\n",
              "                        [ 0.0407,  0.0989,  0.1001]],\n",
              "              \n",
              "                       [[ 0.0223, -0.0768,  0.0942],\n",
              "                        [-0.0500, -0.0498,  0.0882],\n",
              "                        [ 0.0817,  0.0318,  0.0066]],\n",
              "              \n",
              "                       [[-0.0887, -0.0109,  0.1011],\n",
              "                        [ 0.0268,  0.0090, -0.0219],\n",
              "                        [-0.0368,  0.0628,  0.0065]],\n",
              "              \n",
              "                       [[ 0.0686, -0.0187,  0.0461],\n",
              "                        [ 0.0435,  0.0168,  0.0662],\n",
              "                        [ 0.0661,  0.0977,  0.0810]],\n",
              "              \n",
              "                       [[-0.0270, -0.0892,  0.0193],\n",
              "                        [-0.0009, -0.0275, -0.0177],\n",
              "                        [ 0.0050,  0.0769,  0.0329]],\n",
              "              \n",
              "                       [[-0.0374, -0.0433, -0.0261],\n",
              "                        [-0.0407,  0.0948,  0.0558],\n",
              "                        [ 0.0952,  0.0003,  0.0213]],\n",
              "              \n",
              "                       [[ 0.0366, -0.0998,  0.0094],\n",
              "                        [-0.0071, -0.0591, -0.0818],\n",
              "                        [ 0.0933,  0.0857,  0.0489]],\n",
              "              \n",
              "                       [[ 0.1006, -0.0428, -0.0182],\n",
              "                        [ 0.0399, -0.0174, -0.0207],\n",
              "                        [-0.0871,  0.0283, -0.0637]],\n",
              "              \n",
              "                       [[ 0.0038,  0.1028, -0.0324],\n",
              "                        [-0.0332,  0.0636, -0.0388],\n",
              "                        [-0.0091,  0.0984, -0.0432]]],\n",
              "              \n",
              "              \n",
              "                      [[[-0.0754, -0.0590, -0.0292],\n",
              "                        [-0.0500, -0.0547,  0.0426],\n",
              "                        [ 0.0179, -0.0337, -0.0819]],\n",
              "              \n",
              "                       [[-0.0332, -0.0445, -0.0343],\n",
              "                        [-0.0951,  0.0227, -0.0774],\n",
              "                        [-0.0821, -0.0861,  0.0440]],\n",
              "              \n",
              "                       [[-0.0635, -0.0435,  0.0826],\n",
              "                        [ 0.0560,  0.0604, -0.1001],\n",
              "                        [-0.0756, -0.0398,  0.0871]],\n",
              "              \n",
              "                       [[ 0.0108, -0.0788,  0.0007],\n",
              "                        [-0.0819, -0.0231, -0.0290],\n",
              "                        [ 0.0912,  0.0326, -0.0184]],\n",
              "              \n",
              "                       [[ 0.0178, -0.0304,  0.0414],\n",
              "                        [ 0.0417,  0.0283, -0.0411],\n",
              "                        [ 0.0899, -0.0152, -0.0410]],\n",
              "              \n",
              "                       [[ 0.0660,  0.0859,  0.1049],\n",
              "                        [ 0.0312, -0.0359,  0.0535],\n",
              "                        [ 0.0904, -0.1034, -0.0131]],\n",
              "              \n",
              "                       [[-0.0719,  0.0196,  0.0436],\n",
              "                        [-0.0218, -0.0088,  0.0474],\n",
              "                        [-0.0177, -0.0885,  0.0843]],\n",
              "              \n",
              "                       [[-0.0531, -0.0116,  0.0099],\n",
              "                        [-0.0063, -0.0992,  0.0484],\n",
              "                        [-0.0479, -0.0547,  0.0252]],\n",
              "              \n",
              "                       [[-0.0550, -0.0487, -0.0355],\n",
              "                        [-0.0396, -0.0440, -0.0284],\n",
              "                        [ 0.0274, -0.0853, -0.0638]],\n",
              "              \n",
              "                       [[ 0.0015,  0.0147,  0.0582],\n",
              "                        [-0.0740,  0.0336,  0.0599],\n",
              "                        [ 0.0585, -0.0982, -0.0402]]]], device='cuda:0')),\n",
              "             ('conv_block_1.2.bias',\n",
              "              tensor([-0.0906, -0.0667,  0.0587, -0.0157,  0.0448, -0.0619,  0.0160, -0.0638,\n",
              "                       0.0527, -0.0461], device='cuda:0')),\n",
              "             ('conv_block_2.0.weight',\n",
              "              tensor([[[[-2.6432e-02, -9.1456e-02,  3.4822e-04],\n",
              "                        [ 1.0008e-01,  5.1163e-02, -5.6240e-02],\n",
              "                        [ 1.4176e-03, -1.1558e-02, -8.4862e-02]],\n",
              "              \n",
              "                       [[ 8.2650e-02,  1.6993e-03,  2.2199e-02],\n",
              "                        [-4.2567e-02, -4.9323e-02,  1.7381e-02],\n",
              "                        [ 3.8971e-02,  2.3643e-02, -5.0801e-02]],\n",
              "              \n",
              "                       [[ 1.0234e-01, -1.5517e-02, -6.4554e-02],\n",
              "                        [-4.9301e-02,  1.0377e-01,  5.0766e-06],\n",
              "                        [-1.4309e-02, -4.3867e-02, -2.7633e-02]],\n",
              "              \n",
              "                       [[-8.8779e-02, -8.3767e-02,  6.1695e-02],\n",
              "                        [ 9.0172e-02,  1.0059e-01, -7.6099e-02],\n",
              "                        [ 5.7012e-02, -6.5245e-02,  6.2883e-02]],\n",
              "              \n",
              "                       [[ 7.6058e-02,  8.1573e-02,  7.5900e-02],\n",
              "                        [ 6.5941e-02,  2.0516e-03,  4.8434e-02],\n",
              "                        [-3.7712e-02,  4.5899e-02, -3.3879e-02]],\n",
              "              \n",
              "                       [[-1.7700e-03, -9.1746e-02, -2.7562e-02],\n",
              "                        [-5.5432e-02, -3.5557e-02, -6.7313e-02],\n",
              "                        [-9.4810e-02,  6.8639e-03,  6.8408e-02]],\n",
              "              \n",
              "                       [[ 9.6001e-02,  6.1512e-02, -5.4638e-02],\n",
              "                        [-1.0425e-01,  3.9983e-02,  5.9062e-02],\n",
              "                        [-9.0495e-02,  3.7798e-02,  8.9121e-02]],\n",
              "              \n",
              "                       [[ 6.3853e-03, -6.3505e-02,  8.6423e-02],\n",
              "                        [ 4.5011e-02,  6.9802e-02, -7.1287e-02],\n",
              "                        [ 6.1342e-02, -7.2002e-02,  1.0430e-01]],\n",
              "              \n",
              "                       [[-4.4662e-02,  6.3516e-02,  2.1107e-02],\n",
              "                        [ 2.7935e-02, -1.6165e-02,  4.3295e-02],\n",
              "                        [-4.3932e-02, -9.9357e-02, -4.0499e-02]],\n",
              "              \n",
              "                       [[ 8.2592e-02, -2.7751e-02,  3.3132e-02],\n",
              "                        [-3.8973e-02,  7.9073e-02,  6.3086e-02],\n",
              "                        [ 3.7211e-02, -5.3881e-02, -8.6133e-02]]],\n",
              "              \n",
              "              \n",
              "                      [[[ 3.9686e-03, -6.1839e-02,  8.6667e-02],\n",
              "                        [-1.0130e-01,  4.7104e-02,  1.0508e-01],\n",
              "                        [ 5.2792e-02,  3.5942e-02, -1.0142e-01]],\n",
              "              \n",
              "                       [[ 1.0139e-01, -1.8030e-02, -9.8495e-02],\n",
              "                        [ 1.0406e-01, -4.2894e-02, -7.4575e-03],\n",
              "                        [ 9.6479e-02, -7.3070e-02, -7.4576e-02]],\n",
              "              \n",
              "                       [[ 1.7141e-02, -1.4109e-02,  2.4280e-02],\n",
              "                        [-8.8407e-02,  3.1524e-03, -4.6882e-02],\n",
              "                        [-5.1820e-02, -9.6517e-02,  5.5890e-02]],\n",
              "              \n",
              "                       [[ 2.0306e-02, -8.9118e-02,  8.3648e-02],\n",
              "                        [ 3.1794e-02,  1.9560e-02, -6.1890e-02],\n",
              "                        [ 1.5896e-02,  1.0157e-01,  7.2299e-02]],\n",
              "              \n",
              "                       [[-8.2100e-02,  9.6220e-02,  8.1702e-03],\n",
              "                        [ 5.0698e-02,  8.1869e-02,  8.9862e-02],\n",
              "                        [-8.2170e-02,  9.2303e-02, -7.1591e-02]],\n",
              "              \n",
              "                       [[ 7.9021e-03, -7.3656e-02, -2.3109e-02],\n",
              "                        [-4.7901e-03, -1.2611e-02, -1.6652e-02],\n",
              "                        [ 8.3137e-03,  1.0398e-01,  6.1244e-02]],\n",
              "              \n",
              "                       [[ 5.8973e-02,  4.2190e-02,  8.1606e-02],\n",
              "                        [-4.8645e-03,  8.3813e-03,  2.1693e-02],\n",
              "                        [-9.1931e-02, -8.4913e-02,  1.2923e-02]],\n",
              "              \n",
              "                       [[-4.1241e-02, -1.9342e-03, -2.4187e-02],\n",
              "                        [ 1.6408e-02,  6.8581e-02, -3.4958e-02],\n",
              "                        [ 8.4418e-02,  8.3227e-02, -8.0901e-02]],\n",
              "              \n",
              "                       [[-8.1400e-02, -8.5284e-02, -5.7766e-02],\n",
              "                        [-4.1033e-02, -7.9341e-03, -2.5635e-02],\n",
              "                        [-5.3258e-02, -3.3488e-02, -3.8131e-02]],\n",
              "              \n",
              "                       [[ 1.0341e-01, -3.9068e-02, -7.5473e-02],\n",
              "                        [ 4.3818e-02, -6.0886e-03,  8.0698e-02],\n",
              "                        [ 6.5863e-02,  9.6843e-02, -7.7197e-02]]],\n",
              "              \n",
              "              \n",
              "                      [[[ 6.7764e-02,  8.8464e-02, -5.2054e-02],\n",
              "                        [ 9.6890e-02,  7.9019e-02,  1.1544e-03],\n",
              "                        [ 5.0823e-02, -3.6853e-02, -9.1936e-02]],\n",
              "              \n",
              "                       [[ 2.6645e-02,  3.1425e-02, -6.8891e-02],\n",
              "                        [ 5.1123e-02, -9.0043e-02,  9.0718e-02],\n",
              "                        [ 1.0208e-01,  2.8699e-02, -6.6137e-02]],\n",
              "              \n",
              "                       [[ 5.1300e-02,  1.7963e-02,  2.8663e-02],\n",
              "                        [ 3.4643e-02,  8.0254e-02, -4.5309e-02],\n",
              "                        [-2.3711e-02,  2.8746e-02,  1.1486e-02]],\n",
              "              \n",
              "                       [[ 8.5000e-02, -5.5365e-02, -3.8387e-03],\n",
              "                        [ 1.9696e-02, -2.7996e-02,  7.1859e-02],\n",
              "                        [ 1.1530e-02, -9.7422e-02, -1.1420e-02]],\n",
              "              \n",
              "                       [[-4.7809e-02,  1.0243e-02, -1.2250e-02],\n",
              "                        [-1.0456e-01, -1.9208e-02, -1.0096e-02],\n",
              "                        [-3.1083e-02,  9.6848e-02, -2.3000e-02]],\n",
              "              \n",
              "                       [[ 6.7717e-02,  2.6112e-02, -8.8979e-02],\n",
              "                        [ 2.4770e-02,  8.7356e-02, -6.8948e-02],\n",
              "                        [-6.8134e-02,  1.0318e-01,  8.4697e-02]],\n",
              "              \n",
              "                       [[-5.8807e-02,  6.3429e-02, -1.3485e-02],\n",
              "                        [-1.0393e-01,  7.9198e-03,  3.4057e-02],\n",
              "                        [-3.1619e-02,  3.6670e-02, -9.0136e-02]],\n",
              "              \n",
              "                       [[ 7.3050e-02,  8.9865e-02,  5.8130e-02],\n",
              "                        [ 1.7866e-02,  3.4716e-02, -7.6269e-02],\n",
              "                        [-2.6339e-02, -1.0063e-02, -5.8659e-02]],\n",
              "              \n",
              "                       [[-7.7857e-02,  7.0900e-02,  7.1535e-02],\n",
              "                        [-9.5731e-02,  3.3542e-02,  4.2881e-02],\n",
              "                        [ 1.0014e-01,  6.0985e-02,  9.6907e-02]],\n",
              "              \n",
              "                       [[-3.4510e-02,  7.3827e-02,  8.5740e-02],\n",
              "                        [-9.9541e-02, -8.4613e-02,  2.1335e-02],\n",
              "                        [ 5.7557e-02, -5.2369e-02,  1.1609e-02]]],\n",
              "              \n",
              "              \n",
              "                      [[[-1.5303e-04,  2.6680e-02, -5.6642e-02],\n",
              "                        [ 5.9455e-02,  7.0098e-02, -7.3139e-02],\n",
              "                        [ 1.0211e-03,  2.9247e-04,  3.3849e-02]],\n",
              "              \n",
              "                       [[ 9.8198e-02,  3.0913e-02, -2.3951e-02],\n",
              "                        [ 9.4672e-02, -4.0112e-02, -3.0608e-02],\n",
              "                        [ 7.1969e-03, -8.0270e-02,  1.1470e-02]],\n",
              "              \n",
              "                       [[-7.1518e-02,  1.0838e-02,  1.0099e-02],\n",
              "                        [ 1.4591e-02, -8.8891e-02, -1.0012e-01],\n",
              "                        [ 4.8501e-02,  9.0399e-02, -9.3537e-02]],\n",
              "              \n",
              "                       [[ 3.9043e-02, -7.7594e-02,  6.6082e-03],\n",
              "                        [ 9.8068e-02,  7.9965e-02, -7.7069e-02],\n",
              "                        [ 6.5203e-02,  5.5057e-02, -1.6168e-04]],\n",
              "              \n",
              "                       [[ 1.0211e-01, -4.1866e-02, -2.4530e-02],\n",
              "                        [-5.3275e-02,  1.5168e-02,  2.7911e-02],\n",
              "                        [ 8.3990e-03, -5.9307e-02, -4.7452e-02]],\n",
              "              \n",
              "                       [[ 3.5855e-02, -9.2426e-02, -1.6416e-02],\n",
              "                        [-2.3350e-03, -4.2708e-02,  3.8360e-02],\n",
              "                        [ 6.7940e-03,  7.4004e-02, -9.3616e-03]],\n",
              "              \n",
              "                       [[-6.6528e-02,  7.4477e-02,  1.4720e-02],\n",
              "                        [-3.0189e-02, -6.9476e-02,  2.4707e-02],\n",
              "                        [-1.0053e-01,  2.7762e-02,  5.2119e-02]],\n",
              "              \n",
              "                       [[-9.2465e-02, -6.9009e-02, -7.5781e-02],\n",
              "                        [ 8.8597e-02,  8.9611e-02,  6.5987e-03],\n",
              "                        [ 9.8959e-02, -3.5239e-02, -1.0233e-01]],\n",
              "              \n",
              "                       [[ 3.6819e-02,  3.7343e-02,  1.0334e-01],\n",
              "                        [-3.0510e-05,  8.0785e-02,  6.4612e-02],\n",
              "                        [ 7.6292e-02, -1.0460e-01,  8.6800e-02]],\n",
              "              \n",
              "                       [[-8.9856e-02,  9.4501e-02, -4.3682e-03],\n",
              "                        [-9.3415e-02,  2.9314e-02, -2.1456e-02],\n",
              "                        [-9.4678e-02, -3.8215e-02,  1.0868e-02]]],\n",
              "              \n",
              "              \n",
              "                      [[[ 8.2098e-02, -3.2406e-02,  6.2610e-02],\n",
              "                        [ 1.3200e-02,  3.5531e-03,  2.0170e-02],\n",
              "                        [-6.9177e-02, -8.7616e-02, -3.3121e-02]],\n",
              "              \n",
              "                       [[-9.8226e-02, -4.9158e-02,  4.8494e-03],\n",
              "                        [-6.9424e-02, -4.3723e-02, -1.8941e-02],\n",
              "                        [-1.2144e-02, -5.8187e-02,  5.0650e-03]],\n",
              "              \n",
              "                       [[-1.4795e-02,  3.0147e-02,  4.7611e-03],\n",
              "                        [-5.2638e-02, -3.6291e-02, -1.2149e-03],\n",
              "                        [-6.5774e-02,  8.2520e-03, -7.4425e-03]],\n",
              "              \n",
              "                       [[ 4.0897e-02,  2.4947e-02,  7.8887e-02],\n",
              "                        [-3.4749e-03, -7.7887e-02,  4.7119e-02],\n",
              "                        [-7.1240e-02, -1.4489e-02, -3.4132e-02]],\n",
              "              \n",
              "                       [[-3.9997e-02, -3.9000e-02,  9.6863e-02],\n",
              "                        [ 6.0342e-02,  2.9213e-02,  9.8975e-02],\n",
              "                        [-9.5524e-02,  1.7010e-02,  6.7481e-02]],\n",
              "              \n",
              "                       [[ 7.0022e-02, -8.3890e-02,  3.7514e-02],\n",
              "                        [-6.0050e-02, -4.1187e-03, -2.1996e-02],\n",
              "                        [-8.8013e-02, -1.0055e-01, -6.9349e-02]],\n",
              "              \n",
              "                       [[ 4.7832e-02,  4.8218e-02, -9.1681e-02],\n",
              "                        [-3.9586e-02,  1.7218e-03, -9.1135e-02],\n",
              "                        [ 5.9393e-02,  9.5473e-02,  1.8643e-02]],\n",
              "              \n",
              "                       [[-7.8321e-02,  2.4580e-02,  3.8265e-02],\n",
              "                        [ 8.3468e-02, -5.6085e-02, -9.4437e-02],\n",
              "                        [ 4.6312e-02,  6.5624e-03, -3.4345e-02]],\n",
              "              \n",
              "                       [[-4.4169e-02, -5.4351e-02,  8.5328e-02],\n",
              "                        [-1.8187e-02,  7.6022e-02,  9.4094e-02],\n",
              "                        [ 1.3353e-02,  2.2454e-02, -7.1789e-03]],\n",
              "              \n",
              "                       [[ 7.2397e-02, -9.4983e-02,  4.1919e-02],\n",
              "                        [-1.7174e-02,  4.8132e-02, -4.6949e-04],\n",
              "                        [-3.9029e-02, -1.1379e-02,  5.6920e-02]]],\n",
              "              \n",
              "              \n",
              "                      [[[-7.3210e-02, -6.6629e-02, -2.3611e-02],\n",
              "                        [-3.8235e-02,  4.1409e-02,  7.0937e-02],\n",
              "                        [-1.1289e-02,  9.9672e-02, -4.4042e-02]],\n",
              "              \n",
              "                       [[-5.9151e-02, -4.7191e-02, -7.2624e-02],\n",
              "                        [-7.3885e-02, -9.3921e-02, -9.3422e-02],\n",
              "                        [ 2.7512e-02,  6.4284e-02,  9.8963e-02]],\n",
              "              \n",
              "                       [[ 8.9787e-02, -6.0709e-03,  2.0454e-02],\n",
              "                        [-6.3068e-02,  4.0743e-02, -1.0107e-01],\n",
              "                        [ 4.9719e-02,  1.9334e-02,  3.2393e-02]],\n",
              "              \n",
              "                       [[ 3.8595e-02, -4.8394e-02,  9.0452e-02],\n",
              "                        [ 5.0307e-02,  6.9243e-02,  1.3922e-02],\n",
              "                        [ 6.6196e-02,  7.0941e-02,  4.7775e-02]],\n",
              "              \n",
              "                       [[ 8.0297e-02, -1.9119e-02,  6.9310e-02],\n",
              "                        [ 2.4286e-02,  6.3424e-02,  1.0267e-01],\n",
              "                        [ 2.3869e-02, -3.9124e-02, -1.0488e-02]],\n",
              "              \n",
              "                       [[ 2.9676e-02,  1.7773e-02, -2.8795e-02],\n",
              "                        [ 8.2590e-02,  6.3331e-02, -6.5475e-02],\n",
              "                        [-8.5889e-03, -1.0119e-02, -6.6063e-02]],\n",
              "              \n",
              "                       [[ 1.5374e-02, -3.2360e-02, -5.4419e-02],\n",
              "                        [-3.3894e-02, -3.7584e-02,  1.0084e-01],\n",
              "                        [ 4.0432e-02,  1.0373e-01,  2.8903e-02]],\n",
              "              \n",
              "                       [[ 2.3868e-02,  4.3333e-02,  1.8092e-02],\n",
              "                        [-8.2722e-02, -6.2334e-02, -2.5538e-02],\n",
              "                        [ 1.5846e-03,  3.9709e-02,  4.0588e-02]],\n",
              "              \n",
              "                       [[ 8.3623e-02,  2.1458e-02, -3.5975e-02],\n",
              "                        [-7.9271e-02, -7.7203e-02, -6.2965e-02],\n",
              "                        [ 3.1792e-02,  5.6950e-02,  9.2224e-02]],\n",
              "              \n",
              "                       [[-3.3342e-02, -8.3150e-03, -3.1303e-02],\n",
              "                        [-3.8517e-04,  3.3837e-02, -2.3160e-03],\n",
              "                        [ 4.8799e-03,  1.3354e-02,  3.9256e-02]]],\n",
              "              \n",
              "              \n",
              "                      [[[-3.1981e-02, -6.2855e-02,  2.4869e-02],\n",
              "                        [-1.2481e-02, -4.7753e-02,  4.4268e-02],\n",
              "                        [ 9.5597e-04, -1.5333e-02, -5.1027e-02]],\n",
              "              \n",
              "                       [[-1.3868e-02, -8.9632e-02,  2.3980e-02],\n",
              "                        [ 1.5818e-03,  6.3966e-02,  6.8063e-03],\n",
              "                        [ 8.4277e-03,  2.8715e-02,  8.0210e-02]],\n",
              "              \n",
              "                       [[-4.9812e-02,  6.2930e-02,  2.5779e-02],\n",
              "                        [-7.0320e-02,  3.6702e-02, -6.3217e-02],\n",
              "                        [-3.3181e-02, -5.0245e-02, -7.1711e-02]],\n",
              "              \n",
              "                       [[ 8.3017e-02, -9.4217e-02,  5.2706e-02],\n",
              "                        [-9.4870e-02, -1.2829e-02,  6.2868e-03],\n",
              "                        [ 7.4937e-02, -3.8147e-02,  3.0340e-02]],\n",
              "              \n",
              "                       [[ 1.6329e-02,  6.2021e-02,  6.2667e-03],\n",
              "                        [ 3.9470e-02, -6.3677e-02, -7.3250e-02],\n",
              "                        [ 9.3928e-02, -7.6808e-02, -1.7945e-02]],\n",
              "              \n",
              "                       [[-1.2742e-02,  1.0308e-01, -2.2780e-02],\n",
              "                        [-8.0249e-02, -2.6721e-02,  5.4372e-02],\n",
              "                        [ 4.1773e-02,  8.7204e-02, -2.1579e-02]],\n",
              "              \n",
              "                       [[ 4.9653e-02, -9.9194e-02,  4.0787e-02],\n",
              "                        [ 4.8432e-02,  6.7998e-02, -6.0446e-02],\n",
              "                        [-2.8142e-02,  2.5502e-02, -7.4905e-02]],\n",
              "              \n",
              "                       [[-8.3851e-02, -1.0141e-01,  5.8842e-03],\n",
              "                        [ 6.5458e-02,  2.7075e-02,  6.4263e-03],\n",
              "                        [ 3.6727e-02, -6.6240e-02,  1.1113e-02]],\n",
              "              \n",
              "                       [[-2.6186e-02, -5.2193e-02,  9.0902e-02],\n",
              "                        [-8.1550e-02,  1.5448e-02, -9.2624e-02],\n",
              "                        [-3.5762e-03, -4.6840e-02,  3.4695e-02]],\n",
              "              \n",
              "                       [[-5.9191e-02,  6.7466e-02, -8.5536e-02],\n",
              "                        [ 6.3313e-02, -7.9181e-02,  5.6456e-02],\n",
              "                        [-4.4384e-02, -2.4556e-04, -1.9238e-02]]],\n",
              "              \n",
              "              \n",
              "                      [[[ 6.8414e-02,  3.4546e-02, -9.2887e-02],\n",
              "                        [ 9.6914e-03, -7.2718e-02,  7.8800e-02],\n",
              "                        [ 1.7319e-02, -2.7109e-02, -5.3777e-02]],\n",
              "              \n",
              "                       [[ 3.6485e-02, -6.3129e-02,  4.9992e-02],\n",
              "                        [ 5.7519e-02,  6.4701e-02,  2.7537e-02],\n",
              "                        [-9.2272e-02,  7.5823e-02, -3.2700e-02]],\n",
              "              \n",
              "                       [[-3.1163e-02, -1.1325e-02,  7.7068e-02],\n",
              "                        [ 8.1052e-02,  1.6276e-02,  5.0296e-02],\n",
              "                        [-9.8241e-02,  2.4900e-04, -9.3254e-02]],\n",
              "              \n",
              "                       [[ 3.5876e-02, -7.5099e-02, -3.7568e-02],\n",
              "                        [ 7.3684e-02,  1.0074e-01, -6.3286e-02],\n",
              "                        [-5.8503e-02,  1.3055e-02,  4.1437e-02]],\n",
              "              \n",
              "                       [[-1.7168e-02, -3.2918e-02, -6.9237e-02],\n",
              "                        [ 4.4997e-02,  1.0328e-01, -5.1026e-02],\n",
              "                        [ 4.9718e-02,  5.1481e-02,  8.4728e-02]],\n",
              "              \n",
              "                       [[-1.2001e-02,  3.3202e-03,  7.7444e-02],\n",
              "                        [ 6.6631e-02,  1.0411e-01, -3.0207e-02],\n",
              "                        [ 4.1709e-02,  7.3605e-02, -7.1553e-02]],\n",
              "              \n",
              "                       [[ 2.0940e-02, -2.3586e-02,  6.7760e-02],\n",
              "                        [-4.7342e-02,  7.3933e-03,  6.3067e-02],\n",
              "                        [-9.6567e-02, -8.9004e-02, -5.3989e-02]],\n",
              "              \n",
              "                       [[ 6.7611e-02,  7.0680e-02, -7.1991e-02],\n",
              "                        [ 2.0100e-02, -5.5854e-02, -4.8926e-02],\n",
              "                        [ 9.0907e-02,  5.0914e-02, -2.8828e-02]],\n",
              "              \n",
              "                       [[ 1.5516e-02,  2.0424e-02,  2.4691e-02],\n",
              "                        [-3.6079e-02, -6.2074e-02,  6.9788e-02],\n",
              "                        [ 1.4164e-02,  4.4119e-02, -3.9922e-02]],\n",
              "              \n",
              "                       [[ 5.1057e-02,  7.6713e-02,  6.4107e-02],\n",
              "                        [ 2.8660e-02,  1.0371e-01, -2.3053e-04],\n",
              "                        [ 2.2441e-02,  1.0015e-01,  1.0245e-01]]],\n",
              "              \n",
              "              \n",
              "                      [[[-4.4506e-02,  9.4953e-02,  3.8902e-02],\n",
              "                        [-1.1799e-02,  9.2038e-02, -5.4605e-02],\n",
              "                        [ 6.8490e-02,  1.0445e-01, -7.2701e-02]],\n",
              "              \n",
              "                       [[-6.2201e-02, -1.0445e-01, -1.8970e-02],\n",
              "                        [-9.5733e-02, -3.5304e-02,  3.2002e-02],\n",
              "                        [ 7.4511e-02,  5.8717e-02,  5.8511e-02]],\n",
              "              \n",
              "                       [[ 4.3730e-02, -6.5378e-02, -8.3694e-02],\n",
              "                        [ 4.3696e-03,  1.0009e-01,  5.9351e-03],\n",
              "                        [-9.0662e-03, -7.1545e-02, -5.2266e-02]],\n",
              "              \n",
              "                       [[-8.1256e-02,  8.4398e-02, -1.7174e-02],\n",
              "                        [-9.3119e-02,  1.1308e-02,  7.6494e-03],\n",
              "                        [-1.3023e-02,  3.7733e-02,  5.6687e-02]],\n",
              "              \n",
              "                       [[-9.9128e-02, -8.0753e-02, -5.0639e-03],\n",
              "                        [-9.7729e-02, -9.5750e-02,  9.3067e-02],\n",
              "                        [-8.0174e-03, -5.2113e-02, -3.6157e-02]],\n",
              "              \n",
              "                       [[-8.2295e-02,  8.2258e-02, -2.2857e-02],\n",
              "                        [-5.9265e-02, -7.9944e-02,  6.1611e-02],\n",
              "                        [-1.4571e-02, -1.1074e-02, -2.7473e-02]],\n",
              "              \n",
              "                       [[-5.0883e-02,  1.8751e-02,  8.1099e-02],\n",
              "                        [-6.1093e-02,  5.0504e-03, -8.0165e-02],\n",
              "                        [-4.9426e-02,  9.2525e-02,  1.1052e-03]],\n",
              "              \n",
              "                       [[ 1.0154e-01, -1.8468e-02, -5.7453e-02],\n",
              "                        [-6.2981e-02,  9.3426e-02, -8.1058e-02],\n",
              "                        [ 5.5318e-02,  2.6203e-02,  3.1107e-02]],\n",
              "              \n",
              "                       [[ 5.9476e-02, -2.7577e-02,  6.5223e-02],\n",
              "                        [-8.3982e-02, -3.7087e-02,  7.7164e-02],\n",
              "                        [ 3.1283e-02, -1.4038e-02, -2.4616e-02]],\n",
              "              \n",
              "                       [[-6.4364e-02,  6.4098e-02, -3.3520e-03],\n",
              "                        [-3.5664e-03,  2.4929e-02,  7.7787e-02],\n",
              "                        [-5.3778e-02, -3.6303e-02,  7.1429e-02]]],\n",
              "              \n",
              "              \n",
              "                      [[[ 5.9532e-02, -5.1855e-02, -1.0428e-01],\n",
              "                        [ 1.9555e-02,  5.5434e-02,  2.5178e-02],\n",
              "                        [ 7.4768e-02, -8.3640e-02,  5.3156e-02]],\n",
              "              \n",
              "                       [[-6.5531e-02,  5.9325e-02,  7.8394e-02],\n",
              "                        [ 3.3385e-02,  8.5284e-02, -6.9481e-02],\n",
              "                        [-9.4275e-02, -1.0135e-01,  6.6179e-02]],\n",
              "              \n",
              "                       [[ 3.6926e-02, -7.7188e-02,  5.1048e-02],\n",
              "                        [ 9.6177e-02, -1.0394e-01,  7.6466e-02],\n",
              "                        [ 1.6167e-02,  9.8053e-03,  9.4847e-02]],\n",
              "              \n",
              "                       [[ 9.5458e-02,  4.4414e-02,  8.3288e-02],\n",
              "                        [ 4.3853e-02,  1.7176e-02, -9.2656e-02],\n",
              "                        [ 1.9689e-02, -7.4993e-02,  3.2452e-02]],\n",
              "              \n",
              "                       [[ 1.8598e-02,  2.3681e-03, -7.2071e-02],\n",
              "                        [-6.3899e-02,  7.7912e-02,  5.1336e-02],\n",
              "                        [ 5.5576e-02, -3.1410e-02, -1.8151e-02]],\n",
              "              \n",
              "                       [[-2.7014e-02,  7.2489e-02, -4.5504e-02],\n",
              "                        [ 6.6394e-02,  7.2679e-02, -9.6403e-02],\n",
              "                        [ 6.4369e-04, -2.0076e-02, -5.8273e-02]],\n",
              "              \n",
              "                       [[ 4.5507e-02, -1.2807e-02,  9.2287e-02],\n",
              "                        [-6.5976e-02,  4.8976e-02, -8.9998e-02],\n",
              "                        [-5.2833e-02,  7.1903e-03,  8.3283e-02]],\n",
              "              \n",
              "                       [[ 5.5521e-02, -8.6550e-02,  1.1676e-02],\n",
              "                        [-6.2138e-02,  4.5674e-03, -8.7814e-02],\n",
              "                        [-3.0924e-02,  7.2297e-02, -9.6717e-02]],\n",
              "              \n",
              "                       [[-1.0050e-01,  1.9200e-02,  1.4450e-02],\n",
              "                        [-1.9278e-02,  9.2045e-02, -6.3466e-02],\n",
              "                        [-6.3992e-02, -7.8791e-02, -1.9619e-02]],\n",
              "              \n",
              "                       [[-2.6901e-02,  6.5222e-02, -5.9186e-03],\n",
              "                        [ 3.3663e-02, -4.3804e-02,  8.5507e-02],\n",
              "                        [ 8.8862e-02, -9.4401e-02, -2.7090e-02]]]], device='cuda:0')),\n",
              "             ('conv_block_2.0.bias',\n",
              "              tensor([-0.0894,  0.0448, -0.0921, -0.0498,  0.1053, -0.1007,  0.0778,  0.0089,\n",
              "                       0.0843, -0.0535], device='cuda:0')),\n",
              "             ('conv_block_2.2.weight',\n",
              "              tensor([[[[ 6.9236e-02,  1.2718e-02,  8.1073e-03],\n",
              "                        [ 7.1945e-02, -1.0019e-01, -8.4902e-02],\n",
              "                        [ 1.0180e-01, -6.3298e-02, -7.5980e-02]],\n",
              "              \n",
              "                       [[-5.1539e-03, -3.3742e-02, -1.4421e-02],\n",
              "                        [-7.0623e-02,  3.8034e-02, -9.0703e-02],\n",
              "                        [ 8.5374e-03,  6.1510e-02,  2.0253e-02]],\n",
              "              \n",
              "                       [[ 1.4006e-02,  1.5418e-02, -3.0880e-02],\n",
              "                        [-2.0080e-02, -4.4450e-02, -7.1207e-02],\n",
              "                        [-5.5810e-02,  1.0420e-01, -1.7641e-02]],\n",
              "              \n",
              "                       [[ 3.6924e-02,  7.2896e-02, -8.2343e-03],\n",
              "                        [-5.6707e-02, -7.1419e-02, -3.8833e-02],\n",
              "                        [ 3.7624e-02, -8.8771e-02, -1.2870e-02]],\n",
              "              \n",
              "                       [[ 4.0096e-02,  8.5999e-02,  3.1721e-02],\n",
              "                        [ 2.0846e-02,  7.2162e-02,  4.8708e-02],\n",
              "                        [ 3.5661e-02, -3.2682e-02, -8.4528e-02]],\n",
              "              \n",
              "                       [[-2.2769e-02, -1.9117e-02,  7.7410e-03],\n",
              "                        [-1.1593e-02,  4.2616e-02,  7.0050e-02],\n",
              "                        [-4.2735e-02, -1.0002e-01, -5.4081e-02]],\n",
              "              \n",
              "                       [[-5.0436e-02,  5.9750e-02, -6.7994e-02],\n",
              "                        [-9.9145e-03, -2.2340e-02, -6.3976e-02],\n",
              "                        [ 4.7780e-02, -4.3909e-02, -5.4531e-03]],\n",
              "              \n",
              "                       [[-7.4112e-02, -1.0632e-02,  1.4977e-02],\n",
              "                        [-4.2894e-03, -3.9386e-02,  3.1315e-02],\n",
              "                        [-2.7311e-02, -5.8439e-02, -7.7732e-02]],\n",
              "              \n",
              "                       [[-2.2329e-02, -9.9578e-02,  8.7492e-02],\n",
              "                        [-5.0357e-02, -4.3684e-02,  9.7439e-03],\n",
              "                        [ 2.7326e-02, -9.9393e-03,  7.2313e-02]],\n",
              "              \n",
              "                       [[-6.1448e-02,  3.7777e-02, -2.3773e-04],\n",
              "                        [-8.5747e-02, -4.0824e-02,  2.6825e-02],\n",
              "                        [ 2.0138e-02,  7.6647e-02,  7.0518e-02]]],\n",
              "              \n",
              "              \n",
              "                      [[[-5.7493e-02, -4.5013e-02, -2.2351e-02],\n",
              "                        [-7.5517e-02, -2.8459e-02, -8.6258e-02],\n",
              "                        [ 4.0092e-02,  7.4583e-02,  8.3459e-03]],\n",
              "              \n",
              "                       [[-7.5460e-02, -7.9827e-02, -4.1036e-02],\n",
              "                        [ 3.0659e-02,  2.5711e-03,  1.9166e-02],\n",
              "                        [ 9.9346e-02,  4.8956e-02,  2.2665e-02]],\n",
              "              \n",
              "                       [[-2.1327e-02,  4.9864e-02,  3.8563e-02],\n",
              "                        [-9.4879e-02, -6.2266e-02,  3.5381e-03],\n",
              "                        [ 3.9997e-02,  5.1282e-02, -6.2748e-02]],\n",
              "              \n",
              "                       [[-1.0458e-01, -5.4909e-03, -1.2050e-02],\n",
              "                        [ 3.0588e-02, -2.8988e-02,  8.0588e-02],\n",
              "                        [ 7.0333e-03,  7.6975e-02, -7.3398e-02]],\n",
              "              \n",
              "                       [[ 4.2167e-02,  1.2560e-02, -5.2720e-02],\n",
              "                        [ 5.2256e-02, -1.0372e-01,  8.5220e-02],\n",
              "                        [ 8.4947e-03,  1.0178e-02,  4.8746e-02]],\n",
              "              \n",
              "                       [[ 8.7503e-03,  4.5184e-02,  6.7063e-02],\n",
              "                        [-8.2268e-02,  6.9735e-02, -1.5784e-02],\n",
              "                        [-2.4513e-02,  2.1217e-02,  8.2446e-02]],\n",
              "              \n",
              "                       [[-5.7302e-02, -7.1039e-02,  6.5418e-02],\n",
              "                        [-4.9507e-02,  3.3937e-02, -1.5530e-02],\n",
              "                        [ 2.9014e-02,  8.0439e-02, -5.3421e-02]],\n",
              "              \n",
              "                       [[-5.1151e-02,  5.1716e-02,  5.7714e-03],\n",
              "                        [-1.1601e-02, -9.2590e-02,  8.9309e-02],\n",
              "                        [-3.9919e-03, -1.9415e-02, -4.3269e-02]],\n",
              "              \n",
              "                       [[-2.0801e-02,  5.1233e-02, -2.4227e-03],\n",
              "                        [ 9.0147e-02, -6.0858e-03, -1.5122e-02],\n",
              "                        [ 5.9498e-02, -2.7275e-03, -2.1039e-02]],\n",
              "              \n",
              "                       [[ 3.5231e-02,  8.3129e-02,  2.6305e-02],\n",
              "                        [ 7.3398e-02,  6.8309e-02,  2.9810e-02],\n",
              "                        [ 3.6650e-02,  3.4014e-02,  1.0934e-02]]],\n",
              "              \n",
              "              \n",
              "                      [[[ 8.9675e-02,  9.7308e-02,  3.7524e-02],\n",
              "                        [-5.2640e-03,  9.4509e-02, -8.2042e-02],\n",
              "                        [ 7.7453e-02,  5.5849e-02,  6.7687e-02]],\n",
              "              \n",
              "                       [[-8.0992e-03, -7.8646e-02,  7.5193e-02],\n",
              "                        [-4.6091e-02,  2.7734e-02,  5.9719e-02],\n",
              "                        [-9.8508e-02,  6.9954e-03, -3.7444e-02]],\n",
              "              \n",
              "                       [[ 7.4815e-02, -6.7114e-02,  6.4001e-02],\n",
              "                        [ 6.5730e-02,  5.8156e-02,  1.0119e-01],\n",
              "                        [ 1.5964e-02, -9.5541e-02,  7.5248e-02]],\n",
              "              \n",
              "                       [[ 9.6499e-03,  2.0918e-03, -1.0041e-01],\n",
              "                        [-2.3691e-02, -5.1162e-02,  1.0324e-01],\n",
              "                        [ 7.5054e-02,  7.8634e-02,  7.2188e-02]],\n",
              "              \n",
              "                       [[-6.5340e-02, -4.5270e-02, -4.1252e-02],\n",
              "                        [-4.2257e-02,  8.2054e-02,  3.5815e-02],\n",
              "                        [ 8.4470e-02, -4.9309e-03, -9.3965e-02]],\n",
              "              \n",
              "                       [[-3.0582e-02,  7.4081e-02,  6.4174e-02],\n",
              "                        [ 3.2632e-02, -3.0919e-02, -9.8386e-02],\n",
              "                        [-5.6639e-02,  5.4958e-02, -4.2518e-02]],\n",
              "              \n",
              "                       [[ 5.0421e-02,  2.8781e-02, -4.0486e-02],\n",
              "                        [ 6.4202e-02, -3.3871e-02, -3.5020e-03],\n",
              "                        [-4.0152e-02, -9.9988e-02,  1.6996e-02]],\n",
              "              \n",
              "                       [[ 3.0460e-02, -5.3072e-02,  6.4663e-02],\n",
              "                        [-9.4558e-02, -1.0161e-01, -6.5106e-02],\n",
              "                        [-3.6430e-02, -1.1707e-02, -2.0370e-02]],\n",
              "              \n",
              "                       [[ 4.8108e-02, -9.2510e-02,  1.5521e-02],\n",
              "                        [ 1.8254e-03,  2.7842e-02,  1.0479e-01],\n",
              "                        [ 6.4874e-02, -5.8366e-02, -8.6378e-02]],\n",
              "              \n",
              "                       [[-2.5520e-02, -5.2876e-02,  3.6820e-02],\n",
              "                        [ 9.6628e-04,  8.4783e-02,  4.1405e-02],\n",
              "                        [-1.9382e-02,  3.6229e-03,  2.5244e-02]]],\n",
              "              \n",
              "              \n",
              "                      [[[-1.3080e-02,  8.5058e-02, -8.2420e-02],\n",
              "                        [ 5.1377e-02, -6.7192e-02, -9.2347e-02],\n",
              "                        [-2.1640e-02,  5.1366e-02,  7.4478e-02]],\n",
              "              \n",
              "                       [[ 2.6452e-02, -9.1104e-03, -5.9092e-03],\n",
              "                        [-4.2731e-02, -9.4592e-03, -7.2831e-03],\n",
              "                        [ 8.9699e-02,  6.1690e-02, -8.4351e-02]],\n",
              "              \n",
              "                       [[ 4.3604e-04, -6.4834e-02, -1.6733e-02],\n",
              "                        [-8.3776e-02,  2.7402e-02, -7.6008e-02],\n",
              "                        [ 1.0406e-01,  7.9605e-02, -7.2559e-02]],\n",
              "              \n",
              "                       [[-9.9239e-02,  4.1128e-03, -2.9425e-02],\n",
              "                        [ 3.0945e-02, -7.1353e-02,  4.3148e-02],\n",
              "                        [-9.1047e-02, -5.5632e-02, -5.5414e-02]],\n",
              "              \n",
              "                       [[ 5.1007e-02, -2.7597e-03, -1.0130e-01],\n",
              "                        [-6.0201e-02, -4.8781e-02, -9.7802e-02],\n",
              "                        [ 1.3497e-02,  3.7561e-02, -1.9340e-02]],\n",
              "              \n",
              "                       [[-4.1947e-02, -6.3926e-04, -8.3725e-02],\n",
              "                        [-6.4184e-02, -2.4040e-03,  9.3643e-02],\n",
              "                        [-3.2414e-02,  5.2247e-02, -4.1484e-02]],\n",
              "              \n",
              "                       [[-2.8060e-02, -1.0034e-01,  8.7330e-02],\n",
              "                        [ 1.0264e-01, -2.2139e-03,  6.6974e-02],\n",
              "                        [ 8.6219e-02,  5.2359e-02,  5.4288e-02]],\n",
              "              \n",
              "                       [[-1.0035e-01, -9.9050e-02, -8.0906e-02],\n",
              "                        [ 3.2970e-02, -9.1177e-02, -8.0464e-02],\n",
              "                        [-5.1092e-02, -9.7154e-02,  1.4203e-04]],\n",
              "              \n",
              "                       [[ 1.5207e-02, -6.1686e-02,  6.9018e-02],\n",
              "                        [-4.0018e-02, -2.9676e-02,  8.0309e-02],\n",
              "                        [ 9.0499e-02, -1.2093e-02, -7.5671e-02]],\n",
              "              \n",
              "                       [[-5.2881e-02,  1.3423e-02,  6.1790e-02],\n",
              "                        [ 5.2477e-02, -4.6547e-02, -9.9650e-02],\n",
              "                        [-9.2249e-02, -3.3537e-02,  1.3223e-03]]],\n",
              "              \n",
              "              \n",
              "                      [[[-4.7347e-02, -8.3348e-02,  1.1109e-02],\n",
              "                        [-8.3668e-02, -8.0946e-02, -8.5692e-02],\n",
              "                        [-2.8563e-02,  9.3104e-02,  4.1207e-02]],\n",
              "              \n",
              "                       [[-1.2498e-02,  2.1694e-02,  4.1975e-02],\n",
              "                        [ 6.1414e-04, -8.5020e-02, -6.4944e-02],\n",
              "                        [-7.1610e-02, -2.6766e-03, -9.6492e-02]],\n",
              "              \n",
              "                       [[-1.9166e-02, -3.8545e-02,  1.0345e-01],\n",
              "                        [ 8.5679e-02,  6.1227e-02,  5.9116e-03],\n",
              "                        [-3.4129e-02,  2.6887e-02, -7.2830e-02]],\n",
              "              \n",
              "                       [[-4.4957e-02, -2.1175e-02, -2.4766e-02],\n",
              "                        [-9.9854e-02,  4.1903e-02,  8.6803e-02],\n",
              "                        [-5.8141e-02,  2.8415e-02, -1.2225e-02]],\n",
              "              \n",
              "                       [[-3.8445e-03,  6.1443e-03,  9.1346e-02],\n",
              "                        [ 1.4124e-02, -6.6690e-02, -3.7917e-02],\n",
              "                        [ 5.1495e-02,  3.2893e-02,  2.0487e-03]],\n",
              "              \n",
              "                       [[-1.3912e-02, -4.1012e-02, -3.7413e-02],\n",
              "                        [-5.5602e-02,  1.7273e-02,  2.9603e-02],\n",
              "                        [ 8.0717e-02, -2.3813e-02,  7.5461e-03]],\n",
              "              \n",
              "                       [[ 6.8125e-02,  4.5852e-02,  1.3544e-02],\n",
              "                        [ 3.2390e-02,  5.4714e-03, -9.0419e-02],\n",
              "                        [ 4.0636e-03, -2.3040e-02,  9.5123e-02]],\n",
              "              \n",
              "                       [[ 9.5145e-02,  2.0912e-02,  9.4215e-02],\n",
              "                        [-5.4288e-02,  9.1619e-02,  9.0756e-02],\n",
              "                        [-4.0288e-03, -8.4592e-02, -3.4015e-02]],\n",
              "              \n",
              "                       [[-2.8189e-02,  1.7411e-03, -9.5569e-02],\n",
              "                        [ 1.9535e-02, -4.3839e-02, -2.6989e-02],\n",
              "                        [-5.4443e-02, -2.2255e-02, -9.7896e-02]],\n",
              "              \n",
              "                       [[-5.5885e-02,  9.7108e-03,  6.9072e-02],\n",
              "                        [ 9.5790e-02, -7.9737e-02,  4.4264e-02],\n",
              "                        [-5.9419e-02, -8.1498e-02, -4.6417e-03]]],\n",
              "              \n",
              "              \n",
              "                      [[[-6.0468e-02, -9.0783e-02, -9.8509e-02],\n",
              "                        [-7.0556e-02,  8.6619e-02,  5.8788e-02],\n",
              "                        [-4.1726e-02, -7.0553e-02, -8.1085e-02]],\n",
              "              \n",
              "                       [[-6.2246e-02, -4.3376e-02,  6.3308e-02],\n",
              "                        [ 3.4496e-02, -4.0622e-02,  7.2567e-02],\n",
              "                        [-6.5484e-02, -8.5876e-02,  2.3006e-02]],\n",
              "              \n",
              "                       [[-5.8123e-02,  2.9987e-02,  8.9306e-02],\n",
              "                        [-4.9849e-02, -7.3556e-02,  3.9676e-02],\n",
              "                        [-9.5200e-02,  9.4044e-02, -4.9780e-02]],\n",
              "              \n",
              "                       [[ 5.0961e-02, -8.3818e-02, -7.1348e-02],\n",
              "                        [ 1.1611e-02,  3.7463e-02,  8.1734e-02],\n",
              "                        [ 8.8158e-02, -6.0623e-03, -1.3552e-02]],\n",
              "              \n",
              "                       [[ 1.7424e-02, -2.4486e-02,  3.5882e-03],\n",
              "                        [-9.9828e-02, -8.6531e-02,  7.2233e-02],\n",
              "                        [-6.1597e-02,  8.3008e-02,  1.1568e-02]],\n",
              "              \n",
              "                       [[ 2.5676e-02,  9.5804e-02, -5.8628e-02],\n",
              "                        [-1.6640e-02,  1.8675e-02,  3.6012e-02],\n",
              "                        [-1.0259e-01,  3.7464e-02, -6.2163e-02]],\n",
              "              \n",
              "                       [[ 1.3846e-02,  7.1315e-02, -1.0500e-02],\n",
              "                        [-3.3346e-03, -7.8757e-03,  8.7962e-02],\n",
              "                        [ 5.9907e-02,  1.7727e-02, -6.3437e-02]],\n",
              "              \n",
              "                       [[-5.7241e-02,  8.3964e-02,  7.5834e-02],\n",
              "                        [ 6.1033e-02, -8.2189e-02,  8.2092e-02],\n",
              "                        [-1.0076e-02,  7.7661e-02,  9.1553e-02]],\n",
              "              \n",
              "                       [[ 1.1554e-02, -4.3863e-02,  9.9153e-02],\n",
              "                        [-5.4931e-02,  6.8876e-02, -1.0108e-01],\n",
              "                        [-3.3153e-02, -9.1902e-02, -4.7284e-02]],\n",
              "              \n",
              "                       [[ 4.4759e-02, -7.5529e-02, -9.1158e-02],\n",
              "                        [ 7.5371e-02,  5.6270e-02, -1.1527e-03],\n",
              "                        [-7.4309e-02, -2.7927e-02, -3.4129e-02]]],\n",
              "              \n",
              "              \n",
              "                      [[[ 6.5100e-02, -3.4478e-02, -3.0360e-02],\n",
              "                        [-7.4720e-02, -4.9646e-02,  5.7074e-02],\n",
              "                        [ 6.7914e-02,  1.5315e-02, -3.9549e-02]],\n",
              "              \n",
              "                       [[ 1.0124e-01,  2.0806e-02, -4.0688e-02],\n",
              "                        [-3.6535e-02, -1.4752e-02,  4.9974e-02],\n",
              "                        [ 3.8555e-02,  7.6418e-02, -4.7494e-03]],\n",
              "              \n",
              "                       [[ 8.7183e-02, -4.2816e-02, -4.8547e-02],\n",
              "                        [-3.8927e-02, -9.8896e-02, -6.9195e-02],\n",
              "                        [-9.5382e-02, -6.2294e-03,  9.9374e-04]],\n",
              "              \n",
              "                       [[-2.7358e-02, -7.2035e-02,  9.5637e-02],\n",
              "                        [-3.4926e-02,  5.0233e-02,  7.3408e-02],\n",
              "                        [-6.9291e-02, -1.3179e-02,  6.0923e-02]],\n",
              "              \n",
              "                       [[ 1.0218e-01, -1.3299e-02,  7.6382e-02],\n",
              "                        [-8.2732e-02, -6.8489e-02,  8.6682e-02],\n",
              "                        [-9.9801e-03,  1.0414e-01,  7.6651e-03]],\n",
              "              \n",
              "                       [[-4.3714e-02,  1.0011e-01,  9.2179e-02],\n",
              "                        [ 9.7826e-03, -6.3900e-02, -4.5639e-03],\n",
              "                        [-5.0693e-02,  7.6810e-02,  4.8829e-03]],\n",
              "              \n",
              "                       [[ 2.2191e-02,  6.3927e-02,  3.4916e-02],\n",
              "                        [-6.5803e-02,  8.7566e-02,  6.4758e-02],\n",
              "                        [-6.5073e-02,  7.9700e-02,  2.9905e-02]],\n",
              "              \n",
              "                       [[-2.0750e-02, -7.5385e-02, -1.7490e-02],\n",
              "                        [-1.0335e-01,  6.0163e-02,  7.6343e-02],\n",
              "                        [-3.0347e-02,  9.7720e-02, -3.9032e-02]],\n",
              "              \n",
              "                       [[ 1.8051e-02, -7.3459e-02, -4.4565e-03],\n",
              "                        [ 4.2610e-02,  4.5403e-02, -3.5346e-03],\n",
              "                        [-5.3154e-02,  7.3680e-02,  6.9788e-02]],\n",
              "              \n",
              "                       [[ 1.6916e-02, -4.8475e-02,  2.2349e-02],\n",
              "                        [ 2.8186e-04,  9.6302e-02,  1.5621e-02],\n",
              "                        [ 8.1301e-03,  7.2057e-03,  5.6079e-02]]],\n",
              "              \n",
              "              \n",
              "                      [[[-1.3024e-03,  9.0351e-02,  5.4917e-02],\n",
              "                        [-7.9650e-02, -1.2063e-06, -8.9472e-02],\n",
              "                        [-8.0934e-02,  2.0480e-02,  2.3687e-02]],\n",
              "              \n",
              "                       [[-9.2246e-03,  1.0019e-01, -5.6627e-02],\n",
              "                        [-4.4176e-02, -1.6881e-02,  6.3911e-04],\n",
              "                        [-8.9284e-03,  9.4909e-02, -4.4519e-02]],\n",
              "              \n",
              "                       [[-5.5137e-02,  9.0599e-03,  7.9171e-02],\n",
              "                        [ 2.5019e-02,  5.6787e-02,  2.0406e-02],\n",
              "                        [ 8.9839e-02,  6.3311e-02,  7.5428e-02]],\n",
              "              \n",
              "                       [[-1.4198e-02, -8.7268e-02, -5.0002e-02],\n",
              "                        [ 3.5910e-02,  7.3950e-02, -4.1184e-02],\n",
              "                        [ 8.7218e-02,  1.5150e-02,  4.1869e-04]],\n",
              "              \n",
              "                       [[ 4.1093e-03, -1.8623e-02,  9.8683e-02],\n",
              "                        [ 4.5784e-03,  6.4564e-02, -8.8967e-02],\n",
              "                        [-5.4309e-02,  1.1852e-02,  8.4169e-02]],\n",
              "              \n",
              "                       [[ 5.0184e-02,  2.0076e-02, -1.0414e-01],\n",
              "                        [ 1.9816e-03, -6.9581e-02, -9.0006e-02],\n",
              "                        [ 1.4414e-02, -6.6693e-02,  9.5674e-02]],\n",
              "              \n",
              "                       [[-5.7294e-02,  3.3970e-02,  6.1871e-02],\n",
              "                        [-8.1928e-02,  5.3946e-02, -1.4114e-02],\n",
              "                        [ 5.4619e-02,  1.0201e-01, -4.4922e-02]],\n",
              "              \n",
              "                       [[-4.5653e-02,  8.3753e-02,  1.1722e-02],\n",
              "                        [-1.0513e-02,  7.9971e-02, -5.0928e-02],\n",
              "                        [-5.2047e-03,  7.2403e-02,  4.1195e-02]],\n",
              "              \n",
              "                       [[-6.8180e-02,  2.7398e-02, -8.0368e-02],\n",
              "                        [-5.7245e-02,  6.7779e-02, -2.8093e-02],\n",
              "                        [-5.3691e-02,  7.4717e-03,  2.5759e-02]],\n",
              "              \n",
              "                       [[-6.5524e-02, -7.1084e-02, -1.0209e-01],\n",
              "                        [ 2.7236e-02, -6.8013e-02,  8.0331e-03],\n",
              "                        [-2.3576e-02, -6.8923e-02, -3.3636e-02]]],\n",
              "              \n",
              "              \n",
              "                      [[[-8.1027e-02, -5.5797e-02, -3.2857e-03],\n",
              "                        [-9.0116e-02, -9.2447e-02,  7.8958e-02],\n",
              "                        [ 9.9188e-03, -4.6618e-02, -3.5047e-03]],\n",
              "              \n",
              "                       [[ 7.8168e-02, -8.7939e-02, -5.5886e-02],\n",
              "                        [-7.6226e-02, -7.6634e-03, -3.6274e-03],\n",
              "                        [-8.2146e-02,  7.3163e-02, -8.0946e-02]],\n",
              "              \n",
              "                       [[ 9.8414e-02, -7.2560e-02, -1.4446e-02],\n",
              "                        [ 1.9710e-02, -4.6852e-02,  9.6939e-02],\n",
              "                        [-7.2673e-02, -5.8427e-03, -7.7398e-02]],\n",
              "              \n",
              "                       [[ 2.9261e-02,  8.9871e-02,  9.7776e-02],\n",
              "                        [ 1.2514e-02, -5.2773e-02,  1.0244e-01],\n",
              "                        [ 7.8667e-03,  7.1317e-02, -5.4751e-02]],\n",
              "              \n",
              "                       [[-4.8920e-02, -8.7504e-02,  9.6990e-02],\n",
              "                        [ 1.7486e-02, -7.5704e-02,  9.0535e-03],\n",
              "                        [-4.5211e-02,  5.2659e-03,  3.4988e-02]],\n",
              "              \n",
              "                       [[-5.2308e-02,  1.8394e-02, -6.6553e-02],\n",
              "                        [ 2.0312e-02, -1.0178e-01,  1.6797e-02],\n",
              "                        [ 1.0473e-01,  9.7094e-02,  3.8451e-02]],\n",
              "              \n",
              "                       [[ 7.7563e-02,  1.0248e-01,  2.9870e-02],\n",
              "                        [ 3.5156e-02,  1.3707e-02,  9.3322e-02],\n",
              "                        [ 9.0551e-02, -4.9570e-02, -4.3333e-03]],\n",
              "              \n",
              "                       [[-5.3110e-02,  3.7824e-02, -1.0214e-01],\n",
              "                        [ 3.7301e-02, -2.8929e-02,  3.8227e-02],\n",
              "                        [ 3.2899e-02, -5.2454e-02,  5.4687e-02]],\n",
              "              \n",
              "                       [[ 4.4762e-02, -8.9602e-02,  1.0517e-01],\n",
              "                        [ 9.0731e-02,  6.5584e-02, -1.0699e-02],\n",
              "                        [ 3.7345e-02, -5.7028e-02, -3.5818e-02]],\n",
              "              \n",
              "                       [[ 4.9749e-02,  4.6925e-02,  4.1741e-02],\n",
              "                        [-1.0053e-01,  8.7350e-02, -4.4028e-02],\n",
              "                        [ 9.1223e-02,  8.6852e-02,  3.9070e-02]]],\n",
              "              \n",
              "              \n",
              "                      [[[ 1.0502e-01,  6.0528e-02,  6.1821e-02],\n",
              "                        [-3.5794e-02,  9.7766e-02,  2.7627e-02],\n",
              "                        [ 6.2280e-02, -2.3834e-02,  7.6340e-02]],\n",
              "              \n",
              "                       [[ 9.3509e-02, -8.0770e-02,  8.6415e-02],\n",
              "                        [-6.9664e-02, -7.2571e-02, -8.8089e-02],\n",
              "                        [ 3.0459e-02, -7.9144e-02, -3.9680e-02]],\n",
              "              \n",
              "                       [[-5.2988e-02,  2.8172e-02, -1.0349e-01],\n",
              "                        [-4.8324e-02,  7.7112e-04,  9.4660e-03],\n",
              "                        [-4.7605e-02,  3.7764e-02, -6.9544e-02]],\n",
              "              \n",
              "                       [[-8.9270e-02, -1.4986e-02, -5.6989e-02],\n",
              "                        [ 6.6443e-02, -7.2049e-02, -8.8494e-03],\n",
              "                        [ 4.3782e-02, -9.2311e-02,  8.1599e-02]],\n",
              "              \n",
              "                       [[-4.7895e-02, -2.8684e-02, -6.4480e-02],\n",
              "                        [-3.9279e-02, -4.0645e-02, -9.3801e-02],\n",
              "                        [ 3.6019e-02, -3.3768e-04,  1.0311e-01]],\n",
              "              \n",
              "                       [[ 7.1117e-02,  9.1699e-02,  3.1014e-02],\n",
              "                        [ 5.5388e-02,  9.8704e-02,  8.6545e-02],\n",
              "                        [-8.0996e-02, -2.3636e-02, -1.0166e-01]],\n",
              "              \n",
              "                       [[ 3.9877e-03, -3.7229e-02,  9.1486e-02],\n",
              "                        [ 1.6666e-02,  1.1601e-03, -7.6248e-02],\n",
              "                        [-8.2718e-02,  1.6594e-02, -5.2376e-02]],\n",
              "              \n",
              "                       [[-4.8409e-02,  7.3938e-02, -5.4952e-02],\n",
              "                        [-4.6918e-02,  8.0934e-02,  4.1183e-02],\n",
              "                        [-5.9894e-02,  3.1923e-02,  5.3141e-02]],\n",
              "              \n",
              "                       [[-9.3625e-02,  1.9691e-02,  2.4083e-02],\n",
              "                        [-4.1054e-03,  1.0107e-01, -6.9673e-02],\n",
              "                        [ 5.7144e-02, -5.5995e-02, -9.0242e-02]],\n",
              "              \n",
              "                       [[ 7.1838e-02, -5.0567e-02,  4.9544e-03],\n",
              "                        [ 5.5435e-02, -8.7981e-02, -9.0229e-02],\n",
              "                        [ 3.5888e-02,  9.1909e-02, -1.1154e-02]]]], device='cuda:0')),\n",
              "             ('conv_block_2.2.bias',\n",
              "              tensor([ 0.0742,  0.0370,  0.0301, -0.0672,  0.1003,  0.0483,  0.0163,  0.0746,\n",
              "                      -0.0906,  0.0227], device='cuda:0')),\n",
              "             ('classifier.1.weight',\n",
              "              tensor([[-0.0213, -0.0046,  0.0148,  ...,  0.0231, -0.0055,  0.0110],\n",
              "                      [ 0.0236, -0.0167, -0.0251,  ...,  0.0182,  0.0316,  0.0255],\n",
              "                      [ 0.0331,  0.0095,  0.0289,  ..., -0.0337,  0.0175, -0.0010],\n",
              "                      ...,\n",
              "                      [ 0.0195,  0.0264,  0.0107,  ..., -0.0179, -0.0387, -0.0048],\n",
              "                      [-0.0172, -0.0427,  0.0161,  ..., -0.0098, -0.0390, -0.0085],\n",
              "                      [ 0.0383,  0.0393, -0.0153,  ..., -0.0444, -0.0171, -0.0142]],\n",
              "                     device='cuda:0')),\n",
              "             ('classifier.1.bias',\n",
              "              tensor([-0.0397,  0.0161, -0.0354,  0.0261,  0.0092,  0.0006, -0.0241, -0.0154,\n",
              "                       0.0110,  0.0434], device='cuda:0'))])"
            ]
          },
          "metadata": {},
          "execution_count": 42
        }
      ],
      "source": [
        "model_2.state_dict()"
      ]
    },
    {
      "cell_type": "markdown",
      "metadata": {
        "id": "-6EN-HbDf4CG"
      },
      "source": [
        "### 7.1 Stepping through `nn.Conv2d()`"
      ]
    },
    {
      "cell_type": "code",
      "execution_count": null,
      "metadata": {
        "colab": {
          "base_uri": "https://localhost:8080/"
        },
        "id": "cGez8lJof3l2",
        "outputId": "1d6ac6d4-bb0e-43bf-b9ce-7208e58cc733"
      },
      "outputs": [
        {
          "output_type": "stream",
          "name": "stdout",
          "text": [
            "Image batch shape:torch.Size([32, 3, 64, 64])\n",
            "Single image shape: torch.Size([3, 64, 64])\n"
          ]
        }
      ],
      "source": [
        "torch.manual_seed(42)\n",
        "\n",
        "# Create a batch of images\n",
        "images = torch.randn(size=(32, 3, 64, 64)) # batch_size, color_channels, height, width\n",
        "test_image = images[0]\n",
        "\n",
        "print(f\"Image batch shape:{images.shape}\")\n",
        "print(f\"Single image shape: {test_image.shape}\")"
      ]
    },
    {
      "cell_type": "code",
      "execution_count": null,
      "metadata": {
        "colab": {
          "base_uri": "https://localhost:8080/"
        },
        "id": "c_p20iXNcVEC",
        "outputId": "be342e3d-39db-439e-a8c3-5eed34d48152"
      },
      "outputs": [
        {
          "output_type": "stream",
          "name": "stdout",
          "text": [
            "torch.Size([1, 10, 62, 62])\n"
          ]
        }
      ],
      "source": [
        "torch.manual_seed(42)\n",
        "# Create a single conv2d layer\n",
        "conv_layer = nn.Conv2d(in_channels=3,\n",
        "                       out_channels=10,\n",
        "                       kernel_size=3,\n",
        "                       stride=1,\n",
        "                       padding=0)\n",
        "\n",
        "# Pass the data through the convolutional layer\n",
        "conv_output = conv_layer(test_image.unsqueeze(0))\n",
        "print(conv_output.shape)"
      ]
    },
    {
      "cell_type": "code",
      "execution_count": null,
      "metadata": {
        "colab": {
          "base_uri": "https://localhost:8080/"
        },
        "id": "fNxFaMyadPu7",
        "outputId": "ac72755e-f67f-41e6-bdae-ef48b0db9dd8"
      },
      "outputs": [
        {
          "output_type": "execute_result",
          "data": {
            "text/plain": [
              "torch.Size([1, 28, 28])"
            ]
          },
          "metadata": {},
          "execution_count": 45
        }
      ],
      "source": [
        "image.shape"
      ]
    },
    {
      "cell_type": "code",
      "execution_count": null,
      "metadata": {
        "colab": {
          "base_uri": "https://localhost:8080/"
        },
        "id": "krm5YUBTgHxK",
        "outputId": "2748b923-6670-4eab-d663-fe08c08bea0d"
      },
      "outputs": [
        {
          "output_type": "execute_result",
          "data": {
            "text/plain": [
              "tensor([[ 0.0011, -0.0150,  0.0034,  0.0529,  0.1296,  0.0538, -0.0682,  0.0696,\n",
              "         -0.0107,  0.0602]], device='cuda:0', grad_fn=<AddmmBackward0>)"
            ]
          },
          "metadata": {},
          "execution_count": 46
        }
      ],
      "source": [
        "test_rand_img = torch.randn(size=(1, 28, 28))\n",
        "model_2(test_rand_img.unsqueeze(0).to(device))"
      ]
    },
    {
      "cell_type": "markdown",
      "metadata": {
        "id": "5Pi5vdbBty6B"
      },
      "source": [
        "### 7.2 Setup loss fn and optimizer for model 2"
      ]
    },
    {
      "cell_type": "code",
      "execution_count": null,
      "metadata": {
        "id": "QNgYiqE-t-WA"
      },
      "outputs": [],
      "source": [
        "def accuracy_fn(y_true, y_pred):\n",
        "  correct = torch.eq(y_true, y_pred).sum().item()\n",
        "  acc = (correct / len(y_pred))*100\n",
        "  return acc\n",
        "\n",
        "loss_fn = nn.CrossEntropyLoss()\n",
        "\n",
        "optimizer = torch.optim.SGD(params=model_2.parameters(),\n",
        "                            lr = 0.1)"
      ]
    },
    {
      "cell_type": "markdown",
      "metadata": {
        "id": "Sex3DtbFwG-u"
      },
      "source": [
        "### 7.3 Train and test model 2"
      ]
    },
    {
      "cell_type": "code",
      "execution_count": null,
      "metadata": {
        "id": "G3f6FW2Mt-y_",
        "colab": {
          "base_uri": "https://localhost:8080/",
          "height": 219,
          "referenced_widgets": [
            "a1bbf76196f34765a815cad4587888f0",
            "275e45fa609a4066a53d30bf9e28ffaa",
            "d89631131a7842ffa4598cbd4a421feb",
            "bce6b6efb8ec4ee893992ee920cba603",
            "ca2c469a559642b3a3f16e4288e7783c",
            "b6f08c4522b342e696a06c3146a92b50",
            "55edcd1955234bcda0c5fa30c0c3e590",
            "f2ac60cadc5c4df2bcc43ef49ca872cb",
            "782b30f2f7904c24bff1d928a40f6f6c",
            "23fad06540824f47ac92eb9f882a4f68",
            "a105d4df54034c61b36e3f97dc3764a9"
          ]
        },
        "outputId": "494e24ff-9c6f-46bd-80e4-724320fc721f"
      },
      "outputs": [
        {
          "output_type": "display_data",
          "data": {
            "text/plain": [
              "  0%|          | 0/3 [00:00<?, ?it/s]"
            ],
            "application/vnd.jupyter.widget-view+json": {
              "version_major": 2,
              "version_minor": 0,
              "model_id": "a1bbf76196f34765a815cad4587888f0"
            }
          },
          "metadata": {}
        },
        {
          "output_type": "stream",
          "name": "stdout",
          "text": [
            "Epochs in training...0\n",
            "Train loss: 0.65211 | Train acc: 76.23%\n",
            "Test_loss: 0.40670 | Test_accuracy: 85.10%\n",
            "Epochs in training...1\n",
            "Train loss: 0.36352 | Train acc: 86.90%\n",
            "Test_loss: 0.34855 | Test_accuracy: 87.35%\n",
            "Epochs in training...2\n",
            "Train loss: 0.32919 | Train acc: 88.17%\n",
            "Test_loss: 0.33250 | Test_accuracy: 88.10%\n",
            "Train time on cuda: 35.239 seconds\n"
          ]
        }
      ],
      "source": [
        "torch.manual_seed(42)\n",
        "torch.cuda.manual_seed(42)\n",
        "\n",
        "# Measure time\n",
        "from timeit import default_timer as timer\n",
        "train_time_start_model_2 = timer()\n",
        "\n",
        "# Train and test\n",
        "epochs = 3\n",
        "for epoch in tqdm(range(epochs)):\n",
        "  print(f\"Epochs in training...{epoch}\")\n",
        "  train_step(model_2,\n",
        "             train_dataloader,\n",
        "             loss_fn,\n",
        "             optimizer,\n",
        "             accuracy_fn,\n",
        "             device)\n",
        "\n",
        "  test_step(model_2,\n",
        "             test_dataloader,\n",
        "             loss_fn,\n",
        "             accuracy_fn,\n",
        "            device)\n",
        "\n",
        "train_time_end_model_2 = timer()\n",
        "total_train_time_model_2 = print_train_time(start=train_time_start_model_2,\n",
        "                                 end=train_time_end_model_2,\n",
        "                                 device=device)\n",
        "\n"
      ]
    },
    {
      "cell_type": "code",
      "source": [
        "  # Get model_2 results\n",
        "  model_2_results = eval_model(\n",
        "    model_2,\n",
        "    test_dataloader,\n",
        "    loss_fn,\n",
        "    accuracy_fn,\n",
        "  )\n",
        "  model_2_results"
      ],
      "metadata": {
        "id": "B572FYk7fHbX",
        "colab": {
          "base_uri": "https://localhost:8080/",
          "height": 100,
          "referenced_widgets": [
            "b7074d01f42346b9bd6fe8497a5914f4",
            "a1971ac3221b4f05acdd888510b165aa",
            "7e7815cccfce4c93a99d524d2d553c8d",
            "564d244675064068994c237b71c809ad",
            "cd72869b3ee24304a0d2245916e4c60a",
            "3519f19780454e5e909e468d562fd974",
            "ae810cf48827444abc439af7bff07111",
            "d01c1830933649f786b9e3e27532d3ec",
            "c362f29fc80a450a853e45542b9ffd62",
            "b3501ffb1f864a9394bd6ca429452874",
            "af05ca6c34ea499d9649c72997fd00e6"
          ]
        },
        "outputId": "6d43557a-6e9e-448c-a351-f6cb3f90abea"
      },
      "execution_count": null,
      "outputs": [
        {
          "output_type": "display_data",
          "data": {
            "text/plain": [
              "  0%|          | 0/313 [00:00<?, ?it/s]"
            ],
            "application/vnd.jupyter.widget-view+json": {
              "version_major": 2,
              "version_minor": 0,
              "model_id": "b7074d01f42346b9bd6fe8497a5914f4"
            }
          },
          "metadata": {}
        },
        {
          "output_type": "execute_result",
          "data": {
            "text/plain": [
              "{'model_name': 'FashionMNISTModelV2',\n",
              " 'model loss': 0.33250126242637634,\n",
              " 'model accuracy': 88.09904153354633}"
            ]
          },
          "metadata": {},
          "execution_count": 49
        }
      ]
    },
    {
      "cell_type": "markdown",
      "source": [
        "## 8. Compare model results and training time"
      ],
      "metadata": {
        "id": "HJ7T35CaT_zP"
      }
    },
    {
      "cell_type": "code",
      "source": [
        "import pandas as pd\n",
        "compare_results = pd.DataFrame([model_0_results,\n",
        "                                model_1_results,\n",
        "                                model_2_results])\n",
        "\n",
        "compare_results"
      ],
      "metadata": {
        "colab": {
          "base_uri": "https://localhost:8080/",
          "height": 142
        },
        "id": "vZkMtRGYT8vA",
        "outputId": "1363ffd9-f17d-4d12-8e8e-5fc6ce5ecfe2"
      },
      "execution_count": null,
      "outputs": [
        {
          "output_type": "execute_result",
          "data": {
            "text/plain": [
              "            model_name  model loss  model accuracy\n",
              "0  FashionMNISTModelV0    0.476639       83.426518\n",
              "1  FashionMNISTModelV1    0.685001       75.019968\n",
              "2  FashionMNISTModelV2    0.332501       88.099042"
            ],
            "text/html": [
              "\n",
              "  <div id=\"df-34ef9686-29b4-4170-b548-d63baea8adc9\" class=\"colab-df-container\">\n",
              "    <div>\n",
              "<style scoped>\n",
              "    .dataframe tbody tr th:only-of-type {\n",
              "        vertical-align: middle;\n",
              "    }\n",
              "\n",
              "    .dataframe tbody tr th {\n",
              "        vertical-align: top;\n",
              "    }\n",
              "\n",
              "    .dataframe thead th {\n",
              "        text-align: right;\n",
              "    }\n",
              "</style>\n",
              "<table border=\"1\" class=\"dataframe\">\n",
              "  <thead>\n",
              "    <tr style=\"text-align: right;\">\n",
              "      <th></th>\n",
              "      <th>model_name</th>\n",
              "      <th>model loss</th>\n",
              "      <th>model accuracy</th>\n",
              "    </tr>\n",
              "  </thead>\n",
              "  <tbody>\n",
              "    <tr>\n",
              "      <th>0</th>\n",
              "      <td>FashionMNISTModelV0</td>\n",
              "      <td>0.476639</td>\n",
              "      <td>83.426518</td>\n",
              "    </tr>\n",
              "    <tr>\n",
              "      <th>1</th>\n",
              "      <td>FashionMNISTModelV1</td>\n",
              "      <td>0.685001</td>\n",
              "      <td>75.019968</td>\n",
              "    </tr>\n",
              "    <tr>\n",
              "      <th>2</th>\n",
              "      <td>FashionMNISTModelV2</td>\n",
              "      <td>0.332501</td>\n",
              "      <td>88.099042</td>\n",
              "    </tr>\n",
              "  </tbody>\n",
              "</table>\n",
              "</div>\n",
              "    <div class=\"colab-df-buttons\">\n",
              "\n",
              "  <div class=\"colab-df-container\">\n",
              "    <button class=\"colab-df-convert\" onclick=\"convertToInteractive('df-34ef9686-29b4-4170-b548-d63baea8adc9')\"\n",
              "            title=\"Convert this dataframe to an interactive table.\"\n",
              "            style=\"display:none;\">\n",
              "\n",
              "  <svg xmlns=\"http://www.w3.org/2000/svg\" height=\"24px\" viewBox=\"0 -960 960 960\">\n",
              "    <path d=\"M120-120v-720h720v720H120Zm60-500h600v-160H180v160Zm220 220h160v-160H400v160Zm0 220h160v-160H400v160ZM180-400h160v-160H180v160Zm440 0h160v-160H620v160ZM180-180h160v-160H180v160Zm440 0h160v-160H620v160Z\"/>\n",
              "  </svg>\n",
              "    </button>\n",
              "\n",
              "  <style>\n",
              "    .colab-df-container {\n",
              "      display:flex;\n",
              "      gap: 12px;\n",
              "    }\n",
              "\n",
              "    .colab-df-convert {\n",
              "      background-color: #E8F0FE;\n",
              "      border: none;\n",
              "      border-radius: 50%;\n",
              "      cursor: pointer;\n",
              "      display: none;\n",
              "      fill: #1967D2;\n",
              "      height: 32px;\n",
              "      padding: 0 0 0 0;\n",
              "      width: 32px;\n",
              "    }\n",
              "\n",
              "    .colab-df-convert:hover {\n",
              "      background-color: #E2EBFA;\n",
              "      box-shadow: 0px 1px 2px rgba(60, 64, 67, 0.3), 0px 1px 3px 1px rgba(60, 64, 67, 0.15);\n",
              "      fill: #174EA6;\n",
              "    }\n",
              "\n",
              "    .colab-df-buttons div {\n",
              "      margin-bottom: 4px;\n",
              "    }\n",
              "\n",
              "    [theme=dark] .colab-df-convert {\n",
              "      background-color: #3B4455;\n",
              "      fill: #D2E3FC;\n",
              "    }\n",
              "\n",
              "    [theme=dark] .colab-df-convert:hover {\n",
              "      background-color: #434B5C;\n",
              "      box-shadow: 0px 1px 3px 1px rgba(0, 0, 0, 0.15);\n",
              "      filter: drop-shadow(0px 1px 2px rgba(0, 0, 0, 0.3));\n",
              "      fill: #FFFFFF;\n",
              "    }\n",
              "  </style>\n",
              "\n",
              "    <script>\n",
              "      const buttonEl =\n",
              "        document.querySelector('#df-34ef9686-29b4-4170-b548-d63baea8adc9 button.colab-df-convert');\n",
              "      buttonEl.style.display =\n",
              "        google.colab.kernel.accessAllowed ? 'block' : 'none';\n",
              "\n",
              "      async function convertToInteractive(key) {\n",
              "        const element = document.querySelector('#df-34ef9686-29b4-4170-b548-d63baea8adc9');\n",
              "        const dataTable =\n",
              "          await google.colab.kernel.invokeFunction('convertToInteractive',\n",
              "                                                    [key], {});\n",
              "        if (!dataTable) return;\n",
              "\n",
              "        const docLinkHtml = 'Like what you see? Visit the ' +\n",
              "          '<a target=\"_blank\" href=https://colab.research.google.com/notebooks/data_table.ipynb>data table notebook</a>'\n",
              "          + ' to learn more about interactive tables.';\n",
              "        element.innerHTML = '';\n",
              "        dataTable['output_type'] = 'display_data';\n",
              "        await google.colab.output.renderOutput(dataTable, element);\n",
              "        const docLink = document.createElement('div');\n",
              "        docLink.innerHTML = docLinkHtml;\n",
              "        element.appendChild(docLink);\n",
              "      }\n",
              "    </script>\n",
              "  </div>\n",
              "\n",
              "\n",
              "<div id=\"df-2b211b16-ac93-49ec-98d7-095a849e1caa\">\n",
              "  <button class=\"colab-df-quickchart\" onclick=\"quickchart('df-2b211b16-ac93-49ec-98d7-095a849e1caa')\"\n",
              "            title=\"Suggest charts\"\n",
              "            style=\"display:none;\">\n",
              "\n",
              "<svg xmlns=\"http://www.w3.org/2000/svg\" height=\"24px\"viewBox=\"0 0 24 24\"\n",
              "     width=\"24px\">\n",
              "    <g>\n",
              "        <path d=\"M19 3H5c-1.1 0-2 .9-2 2v14c0 1.1.9 2 2 2h14c1.1 0 2-.9 2-2V5c0-1.1-.9-2-2-2zM9 17H7v-7h2v7zm4 0h-2V7h2v10zm4 0h-2v-4h2v4z\"/>\n",
              "    </g>\n",
              "</svg>\n",
              "  </button>\n",
              "\n",
              "<style>\n",
              "  .colab-df-quickchart {\n",
              "      --bg-color: #E8F0FE;\n",
              "      --fill-color: #1967D2;\n",
              "      --hover-bg-color: #E2EBFA;\n",
              "      --hover-fill-color: #174EA6;\n",
              "      --disabled-fill-color: #AAA;\n",
              "      --disabled-bg-color: #DDD;\n",
              "  }\n",
              "\n",
              "  [theme=dark] .colab-df-quickchart {\n",
              "      --bg-color: #3B4455;\n",
              "      --fill-color: #D2E3FC;\n",
              "      --hover-bg-color: #434B5C;\n",
              "      --hover-fill-color: #FFFFFF;\n",
              "      --disabled-bg-color: #3B4455;\n",
              "      --disabled-fill-color: #666;\n",
              "  }\n",
              "\n",
              "  .colab-df-quickchart {\n",
              "    background-color: var(--bg-color);\n",
              "    border: none;\n",
              "    border-radius: 50%;\n",
              "    cursor: pointer;\n",
              "    display: none;\n",
              "    fill: var(--fill-color);\n",
              "    height: 32px;\n",
              "    padding: 0;\n",
              "    width: 32px;\n",
              "  }\n",
              "\n",
              "  .colab-df-quickchart:hover {\n",
              "    background-color: var(--hover-bg-color);\n",
              "    box-shadow: 0 1px 2px rgba(60, 64, 67, 0.3), 0 1px 3px 1px rgba(60, 64, 67, 0.15);\n",
              "    fill: var(--button-hover-fill-color);\n",
              "  }\n",
              "\n",
              "  .colab-df-quickchart-complete:disabled,\n",
              "  .colab-df-quickchart-complete:disabled:hover {\n",
              "    background-color: var(--disabled-bg-color);\n",
              "    fill: var(--disabled-fill-color);\n",
              "    box-shadow: none;\n",
              "  }\n",
              "\n",
              "  .colab-df-spinner {\n",
              "    border: 2px solid var(--fill-color);\n",
              "    border-color: transparent;\n",
              "    border-bottom-color: var(--fill-color);\n",
              "    animation:\n",
              "      spin 1s steps(1) infinite;\n",
              "  }\n",
              "\n",
              "  @keyframes spin {\n",
              "    0% {\n",
              "      border-color: transparent;\n",
              "      border-bottom-color: var(--fill-color);\n",
              "      border-left-color: var(--fill-color);\n",
              "    }\n",
              "    20% {\n",
              "      border-color: transparent;\n",
              "      border-left-color: var(--fill-color);\n",
              "      border-top-color: var(--fill-color);\n",
              "    }\n",
              "    30% {\n",
              "      border-color: transparent;\n",
              "      border-left-color: var(--fill-color);\n",
              "      border-top-color: var(--fill-color);\n",
              "      border-right-color: var(--fill-color);\n",
              "    }\n",
              "    40% {\n",
              "      border-color: transparent;\n",
              "      border-right-color: var(--fill-color);\n",
              "      border-top-color: var(--fill-color);\n",
              "    }\n",
              "    60% {\n",
              "      border-color: transparent;\n",
              "      border-right-color: var(--fill-color);\n",
              "    }\n",
              "    80% {\n",
              "      border-color: transparent;\n",
              "      border-right-color: var(--fill-color);\n",
              "      border-bottom-color: var(--fill-color);\n",
              "    }\n",
              "    90% {\n",
              "      border-color: transparent;\n",
              "      border-bottom-color: var(--fill-color);\n",
              "    }\n",
              "  }\n",
              "</style>\n",
              "\n",
              "  <script>\n",
              "    async function quickchart(key) {\n",
              "      const quickchartButtonEl =\n",
              "        document.querySelector('#' + key + ' button');\n",
              "      quickchartButtonEl.disabled = true;  // To prevent multiple clicks.\n",
              "      quickchartButtonEl.classList.add('colab-df-spinner');\n",
              "      try {\n",
              "        const charts = await google.colab.kernel.invokeFunction(\n",
              "            'suggestCharts', [key], {});\n",
              "      } catch (error) {\n",
              "        console.error('Error during call to suggestCharts:', error);\n",
              "      }\n",
              "      quickchartButtonEl.classList.remove('colab-df-spinner');\n",
              "      quickchartButtonEl.classList.add('colab-df-quickchart-complete');\n",
              "    }\n",
              "    (() => {\n",
              "      let quickchartButtonEl =\n",
              "        document.querySelector('#df-2b211b16-ac93-49ec-98d7-095a849e1caa button');\n",
              "      quickchartButtonEl.style.display =\n",
              "        google.colab.kernel.accessAllowed ? 'block' : 'none';\n",
              "    })();\n",
              "  </script>\n",
              "</div>\n",
              "\n",
              "  <div id=\"id_a63ae068-458d-4e1e-9130-3ab716320e67\">\n",
              "    <style>\n",
              "      .colab-df-generate {\n",
              "        background-color: #E8F0FE;\n",
              "        border: none;\n",
              "        border-radius: 50%;\n",
              "        cursor: pointer;\n",
              "        display: none;\n",
              "        fill: #1967D2;\n",
              "        height: 32px;\n",
              "        padding: 0 0 0 0;\n",
              "        width: 32px;\n",
              "      }\n",
              "\n",
              "      .colab-df-generate:hover {\n",
              "        background-color: #E2EBFA;\n",
              "        box-shadow: 0px 1px 2px rgba(60, 64, 67, 0.3), 0px 1px 3px 1px rgba(60, 64, 67, 0.15);\n",
              "        fill: #174EA6;\n",
              "      }\n",
              "\n",
              "      [theme=dark] .colab-df-generate {\n",
              "        background-color: #3B4455;\n",
              "        fill: #D2E3FC;\n",
              "      }\n",
              "\n",
              "      [theme=dark] .colab-df-generate:hover {\n",
              "        background-color: #434B5C;\n",
              "        box-shadow: 0px 1px 3px 1px rgba(0, 0, 0, 0.15);\n",
              "        filter: drop-shadow(0px 1px 2px rgba(0, 0, 0, 0.3));\n",
              "        fill: #FFFFFF;\n",
              "      }\n",
              "    </style>\n",
              "    <button class=\"colab-df-generate\" onclick=\"generateWithVariable('compare_results')\"\n",
              "            title=\"Generate code using this dataframe.\"\n",
              "            style=\"display:none;\">\n",
              "\n",
              "  <svg xmlns=\"http://www.w3.org/2000/svg\" height=\"24px\"viewBox=\"0 0 24 24\"\n",
              "       width=\"24px\">\n",
              "    <path d=\"M7,19H8.4L18.45,9,17,7.55,7,17.6ZM5,21V16.75L18.45,3.32a2,2,0,0,1,2.83,0l1.4,1.43a1.91,1.91,0,0,1,.58,1.4,1.91,1.91,0,0,1-.58,1.4L9.25,21ZM18.45,9,17,7.55Zm-12,3A5.31,5.31,0,0,0,4.9,8.1,5.31,5.31,0,0,0,1,6.5,5.31,5.31,0,0,0,4.9,4.9,5.31,5.31,0,0,0,6.5,1,5.31,5.31,0,0,0,8.1,4.9,5.31,5.31,0,0,0,12,6.5,5.46,5.46,0,0,0,6.5,12Z\"/>\n",
              "  </svg>\n",
              "    </button>\n",
              "    <script>\n",
              "      (() => {\n",
              "      const buttonEl =\n",
              "        document.querySelector('#id_a63ae068-458d-4e1e-9130-3ab716320e67 button.colab-df-generate');\n",
              "      buttonEl.style.display =\n",
              "        google.colab.kernel.accessAllowed ? 'block' : 'none';\n",
              "\n",
              "      buttonEl.onclick = () => {\n",
              "        google.colab.notebook.generateWithVariable('compare_results');\n",
              "      }\n",
              "      })();\n",
              "    </script>\n",
              "  </div>\n",
              "\n",
              "    </div>\n",
              "  </div>\n"
            ],
            "application/vnd.google.colaboratory.intrinsic+json": {
              "type": "dataframe",
              "variable_name": "compare_results",
              "summary": "{\n  \"name\": \"compare_results\",\n  \"rows\": 3,\n  \"fields\": [\n    {\n      \"column\": \"model_name\",\n      \"properties\": {\n        \"dtype\": \"string\",\n        \"num_unique_values\": 3,\n        \"samples\": [\n          \"FashionMNISTModelV0\",\n          \"FashionMNISTModelV1\",\n          \"FashionMNISTModelV2\"\n        ],\n        \"semantic_type\": \"\",\n        \"description\": \"\"\n      }\n    },\n    {\n      \"column\": \"model loss\",\n      \"properties\": {\n        \"dtype\": \"number\",\n        \"std\": 0.17722225888199897,\n        \"min\": 0.33250126242637634,\n        \"max\": 0.6850008964538574,\n        \"num_unique_values\": 3,\n        \"samples\": [\n          0.47663888335227966,\n          0.6850008964538574,\n          0.33250126242637634\n        ],\n        \"semantic_type\": \"\",\n        \"description\": \"\"\n      }\n    },\n    {\n      \"column\": \"model accuracy\",\n      \"properties\": {\n        \"dtype\": \"number\",\n        \"std\": 6.627778891103688,\n        \"min\": 75.01996805111821,\n        \"max\": 88.09904153354633,\n        \"num_unique_values\": 3,\n        \"samples\": [\n          83.42651757188499,\n          75.01996805111821,\n          88.09904153354633\n        ],\n        \"semantic_type\": \"\",\n        \"description\": \"\"\n      }\n    }\n  ]\n}"
            }
          },
          "metadata": {},
          "execution_count": 50
        }
      ]
    },
    {
      "cell_type": "code",
      "source": [
        "# @title adding train time\n",
        "compare_results[\"training_time\"] = [total_train_time_model_0,\n",
        "                                    total_train_time_model_1,\n",
        "                                    total_train_time_model_2]\n",
        "compare_results"
      ],
      "metadata": {
        "colab": {
          "base_uri": "https://localhost:8080/",
          "height": 142
        },
        "id": "RJoqCHXAVgs3",
        "outputId": "3d27d681-e002-491c-d3bd-103ba4ffbceb"
      },
      "execution_count": null,
      "outputs": [
        {
          "output_type": "execute_result",
          "data": {
            "text/plain": [
              "            model_name  model loss  model accuracy  training_time\n",
              "0  FashionMNISTModelV0    0.476639       83.426518      26.522115\n",
              "1  FashionMNISTModelV1    0.685001       75.019968      29.290621\n",
              "2  FashionMNISTModelV2    0.332501       88.099042      35.238807"
            ],
            "text/html": [
              "\n",
              "  <div id=\"df-cad33b45-9b0e-4a83-b01e-0aeab5420b46\" class=\"colab-df-container\">\n",
              "    <div>\n",
              "<style scoped>\n",
              "    .dataframe tbody tr th:only-of-type {\n",
              "        vertical-align: middle;\n",
              "    }\n",
              "\n",
              "    .dataframe tbody tr th {\n",
              "        vertical-align: top;\n",
              "    }\n",
              "\n",
              "    .dataframe thead th {\n",
              "        text-align: right;\n",
              "    }\n",
              "</style>\n",
              "<table border=\"1\" class=\"dataframe\">\n",
              "  <thead>\n",
              "    <tr style=\"text-align: right;\">\n",
              "      <th></th>\n",
              "      <th>model_name</th>\n",
              "      <th>model loss</th>\n",
              "      <th>model accuracy</th>\n",
              "      <th>training_time</th>\n",
              "    </tr>\n",
              "  </thead>\n",
              "  <tbody>\n",
              "    <tr>\n",
              "      <th>0</th>\n",
              "      <td>FashionMNISTModelV0</td>\n",
              "      <td>0.476639</td>\n",
              "      <td>83.426518</td>\n",
              "      <td>26.522115</td>\n",
              "    </tr>\n",
              "    <tr>\n",
              "      <th>1</th>\n",
              "      <td>FashionMNISTModelV1</td>\n",
              "      <td>0.685001</td>\n",
              "      <td>75.019968</td>\n",
              "      <td>29.290621</td>\n",
              "    </tr>\n",
              "    <tr>\n",
              "      <th>2</th>\n",
              "      <td>FashionMNISTModelV2</td>\n",
              "      <td>0.332501</td>\n",
              "      <td>88.099042</td>\n",
              "      <td>35.238807</td>\n",
              "    </tr>\n",
              "  </tbody>\n",
              "</table>\n",
              "</div>\n",
              "    <div class=\"colab-df-buttons\">\n",
              "\n",
              "  <div class=\"colab-df-container\">\n",
              "    <button class=\"colab-df-convert\" onclick=\"convertToInteractive('df-cad33b45-9b0e-4a83-b01e-0aeab5420b46')\"\n",
              "            title=\"Convert this dataframe to an interactive table.\"\n",
              "            style=\"display:none;\">\n",
              "\n",
              "  <svg xmlns=\"http://www.w3.org/2000/svg\" height=\"24px\" viewBox=\"0 -960 960 960\">\n",
              "    <path d=\"M120-120v-720h720v720H120Zm60-500h600v-160H180v160Zm220 220h160v-160H400v160Zm0 220h160v-160H400v160ZM180-400h160v-160H180v160Zm440 0h160v-160H620v160ZM180-180h160v-160H180v160Zm440 0h160v-160H620v160Z\"/>\n",
              "  </svg>\n",
              "    </button>\n",
              "\n",
              "  <style>\n",
              "    .colab-df-container {\n",
              "      display:flex;\n",
              "      gap: 12px;\n",
              "    }\n",
              "\n",
              "    .colab-df-convert {\n",
              "      background-color: #E8F0FE;\n",
              "      border: none;\n",
              "      border-radius: 50%;\n",
              "      cursor: pointer;\n",
              "      display: none;\n",
              "      fill: #1967D2;\n",
              "      height: 32px;\n",
              "      padding: 0 0 0 0;\n",
              "      width: 32px;\n",
              "    }\n",
              "\n",
              "    .colab-df-convert:hover {\n",
              "      background-color: #E2EBFA;\n",
              "      box-shadow: 0px 1px 2px rgba(60, 64, 67, 0.3), 0px 1px 3px 1px rgba(60, 64, 67, 0.15);\n",
              "      fill: #174EA6;\n",
              "    }\n",
              "\n",
              "    .colab-df-buttons div {\n",
              "      margin-bottom: 4px;\n",
              "    }\n",
              "\n",
              "    [theme=dark] .colab-df-convert {\n",
              "      background-color: #3B4455;\n",
              "      fill: #D2E3FC;\n",
              "    }\n",
              "\n",
              "    [theme=dark] .colab-df-convert:hover {\n",
              "      background-color: #434B5C;\n",
              "      box-shadow: 0px 1px 3px 1px rgba(0, 0, 0, 0.15);\n",
              "      filter: drop-shadow(0px 1px 2px rgba(0, 0, 0, 0.3));\n",
              "      fill: #FFFFFF;\n",
              "    }\n",
              "  </style>\n",
              "\n",
              "    <script>\n",
              "      const buttonEl =\n",
              "        document.querySelector('#df-cad33b45-9b0e-4a83-b01e-0aeab5420b46 button.colab-df-convert');\n",
              "      buttonEl.style.display =\n",
              "        google.colab.kernel.accessAllowed ? 'block' : 'none';\n",
              "\n",
              "      async function convertToInteractive(key) {\n",
              "        const element = document.querySelector('#df-cad33b45-9b0e-4a83-b01e-0aeab5420b46');\n",
              "        const dataTable =\n",
              "          await google.colab.kernel.invokeFunction('convertToInteractive',\n",
              "                                                    [key], {});\n",
              "        if (!dataTable) return;\n",
              "\n",
              "        const docLinkHtml = 'Like what you see? Visit the ' +\n",
              "          '<a target=\"_blank\" href=https://colab.research.google.com/notebooks/data_table.ipynb>data table notebook</a>'\n",
              "          + ' to learn more about interactive tables.';\n",
              "        element.innerHTML = '';\n",
              "        dataTable['output_type'] = 'display_data';\n",
              "        await google.colab.output.renderOutput(dataTable, element);\n",
              "        const docLink = document.createElement('div');\n",
              "        docLink.innerHTML = docLinkHtml;\n",
              "        element.appendChild(docLink);\n",
              "      }\n",
              "    </script>\n",
              "  </div>\n",
              "\n",
              "\n",
              "<div id=\"df-6cc4d991-fc8d-41bf-863d-6c2dd68256d1\">\n",
              "  <button class=\"colab-df-quickchart\" onclick=\"quickchart('df-6cc4d991-fc8d-41bf-863d-6c2dd68256d1')\"\n",
              "            title=\"Suggest charts\"\n",
              "            style=\"display:none;\">\n",
              "\n",
              "<svg xmlns=\"http://www.w3.org/2000/svg\" height=\"24px\"viewBox=\"0 0 24 24\"\n",
              "     width=\"24px\">\n",
              "    <g>\n",
              "        <path d=\"M19 3H5c-1.1 0-2 .9-2 2v14c0 1.1.9 2 2 2h14c1.1 0 2-.9 2-2V5c0-1.1-.9-2-2-2zM9 17H7v-7h2v7zm4 0h-2V7h2v10zm4 0h-2v-4h2v4z\"/>\n",
              "    </g>\n",
              "</svg>\n",
              "  </button>\n",
              "\n",
              "<style>\n",
              "  .colab-df-quickchart {\n",
              "      --bg-color: #E8F0FE;\n",
              "      --fill-color: #1967D2;\n",
              "      --hover-bg-color: #E2EBFA;\n",
              "      --hover-fill-color: #174EA6;\n",
              "      --disabled-fill-color: #AAA;\n",
              "      --disabled-bg-color: #DDD;\n",
              "  }\n",
              "\n",
              "  [theme=dark] .colab-df-quickchart {\n",
              "      --bg-color: #3B4455;\n",
              "      --fill-color: #D2E3FC;\n",
              "      --hover-bg-color: #434B5C;\n",
              "      --hover-fill-color: #FFFFFF;\n",
              "      --disabled-bg-color: #3B4455;\n",
              "      --disabled-fill-color: #666;\n",
              "  }\n",
              "\n",
              "  .colab-df-quickchart {\n",
              "    background-color: var(--bg-color);\n",
              "    border: none;\n",
              "    border-radius: 50%;\n",
              "    cursor: pointer;\n",
              "    display: none;\n",
              "    fill: var(--fill-color);\n",
              "    height: 32px;\n",
              "    padding: 0;\n",
              "    width: 32px;\n",
              "  }\n",
              "\n",
              "  .colab-df-quickchart:hover {\n",
              "    background-color: var(--hover-bg-color);\n",
              "    box-shadow: 0 1px 2px rgba(60, 64, 67, 0.3), 0 1px 3px 1px rgba(60, 64, 67, 0.15);\n",
              "    fill: var(--button-hover-fill-color);\n",
              "  }\n",
              "\n",
              "  .colab-df-quickchart-complete:disabled,\n",
              "  .colab-df-quickchart-complete:disabled:hover {\n",
              "    background-color: var(--disabled-bg-color);\n",
              "    fill: var(--disabled-fill-color);\n",
              "    box-shadow: none;\n",
              "  }\n",
              "\n",
              "  .colab-df-spinner {\n",
              "    border: 2px solid var(--fill-color);\n",
              "    border-color: transparent;\n",
              "    border-bottom-color: var(--fill-color);\n",
              "    animation:\n",
              "      spin 1s steps(1) infinite;\n",
              "  }\n",
              "\n",
              "  @keyframes spin {\n",
              "    0% {\n",
              "      border-color: transparent;\n",
              "      border-bottom-color: var(--fill-color);\n",
              "      border-left-color: var(--fill-color);\n",
              "    }\n",
              "    20% {\n",
              "      border-color: transparent;\n",
              "      border-left-color: var(--fill-color);\n",
              "      border-top-color: var(--fill-color);\n",
              "    }\n",
              "    30% {\n",
              "      border-color: transparent;\n",
              "      border-left-color: var(--fill-color);\n",
              "      border-top-color: var(--fill-color);\n",
              "      border-right-color: var(--fill-color);\n",
              "    }\n",
              "    40% {\n",
              "      border-color: transparent;\n",
              "      border-right-color: var(--fill-color);\n",
              "      border-top-color: var(--fill-color);\n",
              "    }\n",
              "    60% {\n",
              "      border-color: transparent;\n",
              "      border-right-color: var(--fill-color);\n",
              "    }\n",
              "    80% {\n",
              "      border-color: transparent;\n",
              "      border-right-color: var(--fill-color);\n",
              "      border-bottom-color: var(--fill-color);\n",
              "    }\n",
              "    90% {\n",
              "      border-color: transparent;\n",
              "      border-bottom-color: var(--fill-color);\n",
              "    }\n",
              "  }\n",
              "</style>\n",
              "\n",
              "  <script>\n",
              "    async function quickchart(key) {\n",
              "      const quickchartButtonEl =\n",
              "        document.querySelector('#' + key + ' button');\n",
              "      quickchartButtonEl.disabled = true;  // To prevent multiple clicks.\n",
              "      quickchartButtonEl.classList.add('colab-df-spinner');\n",
              "      try {\n",
              "        const charts = await google.colab.kernel.invokeFunction(\n",
              "            'suggestCharts', [key], {});\n",
              "      } catch (error) {\n",
              "        console.error('Error during call to suggestCharts:', error);\n",
              "      }\n",
              "      quickchartButtonEl.classList.remove('colab-df-spinner');\n",
              "      quickchartButtonEl.classList.add('colab-df-quickchart-complete');\n",
              "    }\n",
              "    (() => {\n",
              "      let quickchartButtonEl =\n",
              "        document.querySelector('#df-6cc4d991-fc8d-41bf-863d-6c2dd68256d1 button');\n",
              "      quickchartButtonEl.style.display =\n",
              "        google.colab.kernel.accessAllowed ? 'block' : 'none';\n",
              "    })();\n",
              "  </script>\n",
              "</div>\n",
              "\n",
              "  <div id=\"id_29cf7e6b-112b-41d4-9cd6-98b78e8caa10\">\n",
              "    <style>\n",
              "      .colab-df-generate {\n",
              "        background-color: #E8F0FE;\n",
              "        border: none;\n",
              "        border-radius: 50%;\n",
              "        cursor: pointer;\n",
              "        display: none;\n",
              "        fill: #1967D2;\n",
              "        height: 32px;\n",
              "        padding: 0 0 0 0;\n",
              "        width: 32px;\n",
              "      }\n",
              "\n",
              "      .colab-df-generate:hover {\n",
              "        background-color: #E2EBFA;\n",
              "        box-shadow: 0px 1px 2px rgba(60, 64, 67, 0.3), 0px 1px 3px 1px rgba(60, 64, 67, 0.15);\n",
              "        fill: #174EA6;\n",
              "      }\n",
              "\n",
              "      [theme=dark] .colab-df-generate {\n",
              "        background-color: #3B4455;\n",
              "        fill: #D2E3FC;\n",
              "      }\n",
              "\n",
              "      [theme=dark] .colab-df-generate:hover {\n",
              "        background-color: #434B5C;\n",
              "        box-shadow: 0px 1px 3px 1px rgba(0, 0, 0, 0.15);\n",
              "        filter: drop-shadow(0px 1px 2px rgba(0, 0, 0, 0.3));\n",
              "        fill: #FFFFFF;\n",
              "      }\n",
              "    </style>\n",
              "    <button class=\"colab-df-generate\" onclick=\"generateWithVariable('compare_results')\"\n",
              "            title=\"Generate code using this dataframe.\"\n",
              "            style=\"display:none;\">\n",
              "\n",
              "  <svg xmlns=\"http://www.w3.org/2000/svg\" height=\"24px\"viewBox=\"0 0 24 24\"\n",
              "       width=\"24px\">\n",
              "    <path d=\"M7,19H8.4L18.45,9,17,7.55,7,17.6ZM5,21V16.75L18.45,3.32a2,2,0,0,1,2.83,0l1.4,1.43a1.91,1.91,0,0,1,.58,1.4,1.91,1.91,0,0,1-.58,1.4L9.25,21ZM18.45,9,17,7.55Zm-12,3A5.31,5.31,0,0,0,4.9,8.1,5.31,5.31,0,0,0,1,6.5,5.31,5.31,0,0,0,4.9,4.9,5.31,5.31,0,0,0,6.5,1,5.31,5.31,0,0,0,8.1,4.9,5.31,5.31,0,0,0,12,6.5,5.46,5.46,0,0,0,6.5,12Z\"/>\n",
              "  </svg>\n",
              "    </button>\n",
              "    <script>\n",
              "      (() => {\n",
              "      const buttonEl =\n",
              "        document.querySelector('#id_29cf7e6b-112b-41d4-9cd6-98b78e8caa10 button.colab-df-generate');\n",
              "      buttonEl.style.display =\n",
              "        google.colab.kernel.accessAllowed ? 'block' : 'none';\n",
              "\n",
              "      buttonEl.onclick = () => {\n",
              "        google.colab.notebook.generateWithVariable('compare_results');\n",
              "      }\n",
              "      })();\n",
              "    </script>\n",
              "  </div>\n",
              "\n",
              "    </div>\n",
              "  </div>\n"
            ],
            "application/vnd.google.colaboratory.intrinsic+json": {
              "type": "dataframe",
              "variable_name": "compare_results",
              "summary": "{\n  \"name\": \"compare_results\",\n  \"rows\": 3,\n  \"fields\": [\n    {\n      \"column\": \"model_name\",\n      \"properties\": {\n        \"dtype\": \"string\",\n        \"num_unique_values\": 3,\n        \"samples\": [\n          \"FashionMNISTModelV0\",\n          \"FashionMNISTModelV1\",\n          \"FashionMNISTModelV2\"\n        ],\n        \"semantic_type\": \"\",\n        \"description\": \"\"\n      }\n    },\n    {\n      \"column\": \"model loss\",\n      \"properties\": {\n        \"dtype\": \"number\",\n        \"std\": 0.17722225888199897,\n        \"min\": 0.33250126242637634,\n        \"max\": 0.6850008964538574,\n        \"num_unique_values\": 3,\n        \"samples\": [\n          0.47663888335227966,\n          0.6850008964538574,\n          0.33250126242637634\n        ],\n        \"semantic_type\": \"\",\n        \"description\": \"\"\n      }\n    },\n    {\n      \"column\": \"model accuracy\",\n      \"properties\": {\n        \"dtype\": \"number\",\n        \"std\": 6.627778891103688,\n        \"min\": 75.01996805111821,\n        \"max\": 88.09904153354633,\n        \"num_unique_values\": 3,\n        \"samples\": [\n          83.42651757188499,\n          75.01996805111821,\n          88.09904153354633\n        ],\n        \"semantic_type\": \"\",\n        \"description\": \"\"\n      }\n    },\n    {\n      \"column\": \"training_time\",\n      \"properties\": {\n        \"dtype\": \"number\",\n        \"std\": 4.453954554519766,\n        \"min\": 26.52211477100002,\n        \"max\": 35.238806976999996,\n        \"num_unique_values\": 3,\n        \"samples\": [\n          26.52211477100002,\n          29.290620862999987,\n          35.238806976999996\n        ],\n        \"semantic_type\": \"\",\n        \"description\": \"\"\n      }\n    }\n  ]\n}"
            }
          },
          "metadata": {},
          "execution_count": 51
        }
      ]
    },
    {
      "cell_type": "code",
      "source": [
        "# Visualise our model's predictions\n",
        "\n",
        "compare_results.set_index('model_name')['model accuracy'].plot(kind='barh')\n",
        "plt.xlabel(\"Model accuracy (%)\")\n",
        "plt.ylabel(\"Model\")"
      ],
      "metadata": {
        "colab": {
          "base_uri": "https://localhost:8080/",
          "height": 466
        },
        "id": "x4rGCobeXkLA",
        "outputId": "36504e9a-be9a-43f2-8463-b859720892a9"
      },
      "execution_count": null,
      "outputs": [
        {
          "output_type": "execute_result",
          "data": {
            "text/plain": [
              "Text(0, 0.5, 'Model')"
            ]
          },
          "metadata": {},
          "execution_count": 52
        },
        {
          "output_type": "display_data",
          "data": {
            "text/plain": [
              "<Figure size 640x480 with 1 Axes>"
            ],
            "image/png": "[encoded data removed]"
          },
          "metadata": {}
        }
      ]
    },
    {
      "cell_type": "markdown",
      "source": [
        "## 9. Make and evaluate random predictions with the best model"
      ],
      "metadata": {
        "id": "a9ssYewwangP"
      }
    },
    {
      "cell_type": "code",
      "source": [
        "def make_predictions(model: torch.nn.Module,\n",
        "                     data: list,\n",
        "                     device: torch.device=device):\n",
        "  pred_probs = []\n",
        "  model.to(device)\n",
        "  model.eval()\n",
        "  with torch.inference_mode():\n",
        "    for sample in data:\n",
        "      # Prepare the sample\n",
        "      sample = torch.unsqueeze(sample, dim=0).to(device)\n",
        "\n",
        "      # Forward pass (model outputs raw logits)\n",
        "      pred_logit = model(sample)\n",
        "\n",
        "      # Turn logits into prediction probabilties\n",
        "      pred_prob = torch.softmax(pred_logit.squeeze(), dim=0)\n",
        "\n",
        "      # Get pred_prob off the GPU for further calculations\n",
        "      pred_probs.append(pred_prob.cpu())\n",
        "\n",
        "  # Stack the pred_probs to turn list into tensor\n",
        "  return torch.stack(pred_probs)"
      ],
      "metadata": {
        "id": "SftCKpaPaSjM"
      },
      "execution_count": null,
      "outputs": []
    },
    {
      "cell_type": "code",
      "source": [
        "import random\n",
        "#random.seed(42)\n",
        "test_samples = []\n",
        "test_labels = []\n",
        "for sample, label in random.sample(list(test_data), k=9):\n",
        "  test_samples.append(sample)\n",
        "  test_labels.append(label)\n",
        "\n",
        "test_samples[2].shape"
      ],
      "metadata": {
        "colab": {
          "base_uri": "https://localhost:8080/"
        },
        "id": "QXyesRiZ3fqu",
        "outputId": "8ea0a9b1-6b90-46f7-e797-3656ab643c5a"
      },
      "execution_count": null,
      "outputs": [
        {
          "output_type": "execute_result",
          "data": {
            "text/plain": [
              "torch.Size([1, 28, 28])"
            ]
          },
          "metadata": {},
          "execution_count": 54
        }
      ]
    },
    {
      "cell_type": "code",
      "source": [
        "plt.imshow(test_samples[2].squeeze(), cmap='gray')\n",
        "plt.title(class_names[test_labels[2]])"
      ],
      "metadata": {
        "colab": {
          "base_uri": "https://localhost:8080/",
          "height": 469
        },
        "id": "Id6bZc7o47fe",
        "outputId": "6e46c867-b7f4-4aec-9f2c-9173029967fc"
      },
      "execution_count": null,
      "outputs": [
        {
          "output_type": "execute_result",
          "data": {
            "text/plain": [
              "Text(0.5, 1.0, 'Sandal')"
            ]
          },
          "metadata": {},
          "execution_count": 55
        },
        {
          "output_type": "display_data",
          "data": {
            "text/plain": [
              "<Figure size 640x480 with 1 Axes>"
            ],
            "image/png": "[encoded data removed]"
          },
          "metadata": {}
        }
      ]
    },
    {
      "cell_type": "code",
      "source": [
        "# make predictions\n",
        "pred_probs = make_predictions(model_2,\n",
        "                              test_samples)\n",
        "pred_probs[:2]"
      ],
      "metadata": {
        "colab": {
          "base_uri": "https://localhost:8080/"
        },
        "id": "npZ6GjlB5rzU",
        "outputId": "b277cd8e-0f75-4e64-f5ff-31a2211582be"
      },
      "execution_count": null,
      "outputs": [
        {
          "output_type": "execute_result",
          "data": {
            "text/plain": [
              "tensor([[7.6463e-01, 6.0019e-05, 1.2755e-03, 7.3735e-04, 1.3858e-05, 1.5188e-05,\n",
              "         2.3324e-01, 1.2714e-06, 1.9755e-05, 1.8040e-06],\n",
              "        [7.2607e-07, 1.9064e-07, 2.4458e-05, 4.2851e-05, 2.4623e-07, 9.0711e-04,\n",
              "         3.6720e-06, 6.9469e-03, 9.9205e-01, 1.9754e-05]])"
            ]
          },
          "metadata": {},
          "execution_count": 56
        }
      ]
    },
    {
      "cell_type": "code",
      "source": [
        "# Convert pred_probs into pred labels\n",
        "pred_classes = pred_probs.argmax(dim=1)\n",
        "pred_classes"
      ],
      "metadata": {
        "colab": {
          "base_uri": "https://localhost:8080/"
        },
        "id": "isIv0Os36eB2",
        "outputId": "13c9aee3-9f08-4fa7-bd46-399699361cdb"
      },
      "execution_count": null,
      "outputs": [
        {
          "output_type": "execute_result",
          "data": {
            "text/plain": [
              "tensor([0, 8, 5, 4, 7, 7, 5, 3, 1])"
            ]
          },
          "metadata": {},
          "execution_count": 57
        }
      ]
    },
    {
      "cell_type": "code",
      "source": [
        "# PLot predictions\n",
        "plt.figure(figsize=(9,9))\n",
        "nrows = 3\n",
        "ncols = 3\n",
        "for i, sample in enumerate(test_samples):\n",
        "  plt.subplot(nrows, ncols, i+1)\n",
        "  plt.imshow(sample.squeeze(), cmap='gray')\n",
        "\n",
        "  # Find the prediction in text form\n",
        "  pred_label = class_names[pred_classes[i]]\n",
        "\n",
        "  # Get the truth label in text form\n",
        "  truth_label = class_names[test_labels[i]]\n",
        "\n",
        "  title_text = f\"Pred: {pred_label} | Truth: {truth_label}\"\n",
        "  if pred_label == truth_label:\n",
        "    plt.title(title_text, fontsize=10, c='g')\n",
        "  else:\n",
        "    plt.title(title_text, fontsize=10, c='r')\n",
        "\n",
        "  plt.axis(False);"
      ],
      "metadata": {
        "colab": {
          "base_uri": "https://localhost:8080/",
          "height": 749
        },
        "id": "isG1qt8g7G6Q",
        "outputId": "4bb5c8f2-d929-4188-a7ab-f994cd7f7bae"
      },
      "execution_count": null,
      "outputs": [
        {
          "output_type": "display_data",
          "data": {
            "text/plain": [
              "<Figure size 900x900 with 9 Axes>"
            ],
            "image/png": "[encoded data removed]"
          },
          "metadata": {}
        }
      ]
    },
    {
      "cell_type": "markdown",
      "source": [
        "## 10. Let's plot a confusion matrix for further eval\n",
        "A confusion matrix is a good way of visualising our classification models"
      ],
      "metadata": {
        "id": "MQ5Cmr45_20w"
      }
    },
    {
      "cell_type": "code",
      "source": [
        "from tqdm.auto import tqdm\n",
        "\n",
        "# Make predictions with trained model on the entire test data\n",
        "y_preds = []\n",
        "model_2.eval()\n",
        "with torch.inference_mode():\n",
        "  for X,y in tqdm(test_dataloader):\n",
        "    X, y = X.to(device), y.to(device)\n",
        "    # Do the forward pass\n",
        "    y_logits = model_2(X)\n",
        "\n",
        "    y_pred = torch.softmax(y_logits.squeeze(), dim=0).argmax(dim=1)\n",
        "    # Put prediction on CPU for evaluation\n",
        "    y_preds.append(y_pred.cpu())\n",
        "\n",
        "# Concatenate list of predictions into a tensor\n",
        "#print(y_preds)\n",
        "y_pred_tensor = torch.cat(y_preds)\n",
        "y_pred_tensor[:10]"
      ],
      "metadata": {
        "id": "pPdl673K_3Jn",
        "colab": {
          "base_uri": "https://localhost:8080/",
          "height": 66,
          "referenced_widgets": [
            "0aa370197158419386b8c5f6c7a4b0cb",
            "8e614b5d76c5492c81db8066ab774f09",
            "d924f6da559140b1abe5889fdfa5b3f0",
            "5ca897d769a94c599df0eef95185ba42",
            "cefe1bb4a8434f97a018752b724d8fc7",
            "46a91dee54194de3b89f3220b9c334fd",
            "f39566685a604c759f6ad95d5d122c31",
            "6dce13efb9b74e38a91c4734f07d2d86",
            "c62002d8eda6457481f6be0725837138",
            "86c829a5e63c45a0a8d9871cb3ae24ab",
            "fc14ced23d814f2ea531a39c87f251eb"
          ]
        },
        "outputId": "8a36d237-6726-44e8-bbb6-0f62bb009277"
      },
      "execution_count": null,
      "outputs": [
        {
          "output_type": "display_data",
          "data": {
            "text/plain": [
              "  0%|          | 0/313 [00:00<?, ?it/s]"
            ],
            "application/vnd.jupyter.widget-view+json": {
              "version_major": 2,
              "version_minor": 0,
              "model_id": "0aa370197158419386b8c5f6c7a4b0cb"
            }
          },
          "metadata": {}
        },
        {
          "output_type": "execute_result",
          "data": {
            "text/plain": [
              "tensor([9, 2, 1, 3, 6, 4, 4, 6, 5, 7])"
            ]
          },
          "metadata": {},
          "execution_count": 60
        }
      ]
    },
    {
      "cell_type": "code",
      "source": [
        "import mlxtend\n",
        "print(mlxtend.__version__)\n",
        "!pip install torchmetrics"
      ],
      "metadata": {
        "id": "7fvesJ0cBUjh",
        "colab": {
          "base_uri": "https://localhost:8080/"
        },
        "outputId": "544868bb-e79e-49ab-8e7a-f8ef0dbfcd57"
      },
      "execution_count": null,
      "outputs": [
        {
          "output_type": "stream",
          "name": "stdout",
          "text": [
            "0.23.4\n",
            "Collecting torchmetrics\n",
            "  Downloading torchmetrics-1.7.1-py3-none-any.whl.metadata (21 kB)\n",
            "Requirement already satisfied: numpy>1.20.0 in /usr/local/lib/python3.11/dist-packages (from torchmetrics) (2.0.2)\n",
            "Requirement already satisfied: packaging>17.1 in /usr/local/lib/python3.11/dist-packages (from torchmetrics) (24.2)\n",
            "Requirement already satisfied: torch>=2.0.0 in /usr/local/lib/python3.11/dist-packages (from torchmetrics) (2.6.0+cu124)\n",
            "Collecting lightning-utilities>=0.8.0 (from torchmetrics)\n",
            "  Downloading lightning_utilities-0.14.3-py3-none-any.whl.metadata (5.6 kB)\n",
            "Requirement already satisfied: setuptools in /usr/local/lib/python3.11/dist-packages (from lightning-utilities>=0.8.0->torchmetrics) (75.2.0)\n",
            "Requirement already satisfied: typing_extensions in /usr/local/lib/python3.11/dist-packages (from lightning-utilities>=0.8.0->torchmetrics) (4.13.1)\n",
            "Requirement already satisfied: filelock in /usr/local/lib/python3.11/dist-packages (from torch>=2.0.0->torchmetrics) (3.18.0)\n",
            "Requirement already satisfied: networkx in /usr/local/lib/python3.11/dist-packages (from torch>=2.0.0->torchmetrics) (3.4.2)\n",
            "Requirement already satisfied: jinja2 in /usr/local/lib/python3.11/dist-packages (from torch>=2.0.0->torchmetrics) (3.1.6)\n",
            "Requirement already satisfied: fsspec in /usr/local/lib/python3.11/dist-packages (from torch>=2.0.0->torchmetrics) (2025.3.2)\n",
            "Collecting nvidia-cuda-nvrtc-cu12==12.4.127 (from torch>=2.0.0->torchmetrics)\n",
            "  Downloading nvidia_cuda_nvrtc_cu12-12.4.127-py3-none-manylinux2014_x86_64.whl.metadata (1.5 kB)\n",
            "Collecting nvidia-cuda-runtime-cu12==12.4.127 (from torch>=2.0.0->torchmetrics)\n",
            "  Downloading nvidia_cuda_runtime_cu12-12.4.127-py3-none-manylinux2014_x86_64.whl.metadata (1.5 kB)\n",
            "Collecting nvidia-cuda-cupti-cu12==12.4.127 (from torch>=2.0.0->torchmetrics)\n",
            "  Downloading nvidia_cuda_cupti_cu12-12.4.127-py3-none-manylinux2014_x86_64.whl.metadata (1.6 kB)\n",
            "Collecting nvidia-cudnn-cu12==9.1.0.70 (from torch>=2.0.0->torchmetrics)\n",
            "  Downloading nvidia_cudnn_cu12-9.1.0.70-py3-none-manylinux2014_x86_64.whl.metadata (1.6 kB)\n",
            "Collecting nvidia-cublas-cu12==12.4.5.8 (from torch>=2.0.0->torchmetrics)\n",
            "  Downloading nvidia_cublas_cu12-12.4.5.8-py3-none-manylinux2014_x86_64.whl.metadata (1.5 kB)\n",
            "Collecting nvidia-cufft-cu12==11.2.1.3 (from torch>=2.0.0->torchmetrics)\n",
            "  Downloading nvidia_cufft_cu12-11.2.1.3-py3-none-manylinux2014_x86_64.whl.metadata (1.5 kB)\n",
            "Collecting nvidia-curand-cu12==10.3.5.147 (from torch>=2.0.0->torchmetrics)\n",
            "  Downloading nvidia_curand_cu12-10.3.5.147-py3-none-manylinux2014_x86_64.whl.metadata (1.5 kB)\n",
            "Collecting nvidia-cusolver-cu12==11.6.1.9 (from torch>=2.0.0->torchmetrics)\n",
            "  Downloading nvidia_cusolver_cu12-11.6.1.9-py3-none-manylinux2014_x86_64.whl.metadata (1.6 kB)\n",
            "Collecting nvidia-cusparse-cu12==12.3.1.170 (from torch>=2.0.0->torchmetrics)\n",
            "  Downloading nvidia_cusparse_cu12-12.3.1.170-py3-none-manylinux2014_x86_64.whl.metadata (1.6 kB)\n",
            "Requirement already satisfied: nvidia-cusparselt-cu12==0.6.2 in /usr/local/lib/python3.11/dist-packages (from torch>=2.0.0->torchmetrics) (0.6.2)\n",
            "Requirement already satisfied: nvidia-nccl-cu12==2.21.5 in /usr/local/lib/python3.11/dist-packages (from torch>=2.0.0->torchmetrics) (2.21.5)\n",
            "Requirement already satisfied: nvidia-nvtx-cu12==12.4.127 in /usr/local/lib/python3.11/dist-packages (from torch>=2.0.0->torchmetrics) (12.4.127)\n",
            "Collecting nvidia-nvjitlink-cu12==12.4.127 (from torch>=2.0.0->torchmetrics)\n",
            "  Downloading nvidia_nvjitlink_cu12-12.4.127-py3-none-manylinux2014_x86_64.whl.metadata (1.5 kB)\n",
            "Requirement already satisfied: triton==3.2.0 in /usr/local/lib/python3.11/dist-packages (from torch>=2.0.0->torchmetrics) (3.2.0)\n",
            "Requirement already satisfied: sympy==1.13.1 in /usr/local/lib/python3.11/dist-packages (from torch>=2.0.0->torchmetrics) (1.13.1)\n",
            "Requirement already satisfied: mpmath<1.4,>=1.1.0 in /usr/local/lib/python3.11/dist-packages (from sympy==1.13.1->torch>=2.0.0->torchmetrics) (1.3.0)\n",
            "Requirement already satisfied: MarkupSafe>=2.0 in /usr/local/lib/python3.11/dist-packages (from jinja2->torch>=2.0.0->torchmetrics) (3.0.2)\n",
            "Downloading torchmetrics-1.7.1-py3-none-any.whl (961 kB)\n",
            "\u001b[2K   \u001b[90m━━━━━━━━━━━━━━━━━━━━━━━━━━━━━━━━━━━━━━━━\u001b[0m \u001b[32m961.5/961.5 kB\u001b[0m \u001b[31m37.5 MB/s\u001b[0m eta \u001b[36m0:00:00\u001b[0m\n",
            "\u001b[?25hDownloading lightning_utilities-0.14.3-py3-none-any.whl (28 kB)\n",
            "Downloading nvidia_cublas_cu12-12.4.5.8-py3-none-manylinux2014_x86_64.whl (363.4 MB)\n",
            "\u001b[2K   \u001b[90m━━━━━━━━━━━━━━━━━━━━━━━━━━━━━━━━━━━━━━━━\u001b[0m \u001b[32m363.4/363.4 MB\u001b[0m \u001b[31m4.1 MB/s\u001b[0m eta \u001b[36m0:00:00\u001b[0m\n",
            "\u001b[?25hDownloading nvidia_cuda_cupti_cu12-12.4.127-py3-none-manylinux2014_x86_64.whl (13.8 MB)\n",
            "\u001b[2K   \u001b[90m━━━━━━━━━━━━━━━━━━━━━━━━━━━━━━━━━━━━━━━━\u001b[0m \u001b[32m13.8/13.8 MB\u001b[0m \u001b[31m103.2 MB/s\u001b[0m eta \u001b[36m0:00:00\u001b[0m\n",
            "\u001b[?25hDownloading nvidia_cuda_nvrtc_cu12-12.4.127-py3-none-manylinux2014_x86_64.whl (24.6 MB)\n",
            "\u001b[2K   \u001b[90m━━━━━━━━━━━━━━━━━━━━━━━━━━━━━━━━━━━━━━━━\u001b[0m \u001b[32m24.6/24.6 MB\u001b[0m \u001b[31m86.0 MB/s\u001b[0m eta \u001b[36m0:00:00\u001b[0m\n",
            "\u001b[?25hDownloading nvidia_cuda_runtime_cu12-12.4.127-py3-none-manylinux2014_x86_64.whl (883 kB)\n",
            "\u001b[2K   \u001b[90m━━━━━━━━━━━━━━━━━━━━━━━━━━━━━━━━━━━━━━━━\u001b[0m \u001b[32m883.7/883.7 kB\u001b[0m \u001b[31m56.5 MB/s\u001b[0m eta \u001b[36m0:00:00\u001b[0m\n",
            "\u001b[?25hDownloading nvidia_cudnn_cu12-9.1.0.70-py3-none-manylinux2014_x86_64.whl (664.8 MB)\n",
            "\u001b[2K   \u001b[90m━━━━━━━━━━━━━━━━━━━━━━━━━━━━━━━━━━━━━━━━\u001b[0m \u001b[32m664.8/664.8 MB\u001b[0m \u001b[31m3.1 MB/s\u001b[0m eta \u001b[36m0:00:00\u001b[0m\n",
            "\u001b[?25hDownloading nvidia_cufft_cu12-11.2.1.3-py3-none-manylinux2014_x86_64.whl (211.5 MB)\n",
            "\u001b[2K   \u001b[90m━━━━━━━━━━━━━━━━━━━━━━━━━━━━━━━━━━━━━━━━\u001b[0m \u001b[32m211.5/211.5 MB\u001b[0m \u001b[31m6.2 MB/s\u001b[0m eta \u001b[36m0:00:00\u001b[0m\n",
            "\u001b[?25hDownloading nvidia_curand_cu12-10.3.5.147-py3-none-manylinux2014_x86_64.whl (56.3 MB)\n",
            "\u001b[2K   \u001b[90m━━━━━━━━━━━━━━━━━━━━━━━━━━━━━━━━━━━━━━━━\u001b[0m \u001b[32m56.3/56.3 MB\u001b[0m \u001b[31m13.7 MB/s\u001b[0m eta \u001b[36m0:00:00\u001b[0m\n",
            "\u001b[?25hDownloading nvidia_cusolver_cu12-11.6.1.9-py3-none-manylinux2014_x86_64.whl (127.9 MB)\n",
            "\u001b[2K   \u001b[90m━━━━━━━━━━━━━━━━━━━━━━━━━━━━━━━━━━━━━━━━\u001b[0m \u001b[32m127.9/127.9 MB\u001b[0m \u001b[31m7.2 MB/s\u001b[0m eta \u001b[36m0:00:00\u001b[0m\n",
            "\u001b[?25hDownloading nvidia_cusparse_cu12-12.3.1.170-py3-none-manylinux2014_x86_64.whl (207.5 MB)\n",
            "\u001b[2K   \u001b[90m━━━━━━━━━━━━━━━━━━━━━━━━━━━━━━━━━━━━━━━━\u001b[0m \u001b[32m207.5/207.5 MB\u001b[0m \u001b[31m6.3 MB/s\u001b[0m eta \u001b[36m0:00:00\u001b[0m\n",
            "\u001b[?25hDownloading nvidia_nvjitlink_cu12-12.4.127-py3-none-manylinux2014_x86_64.whl (21.1 MB)\n",
            "\u001b[2K   \u001b[90m━━━━━━━━━━━━━━━━━━━━━━━━━━━━━━━━━━━━━━━━\u001b[0m \u001b[32m21.1/21.1 MB\u001b[0m \u001b[31m89.9 MB/s\u001b[0m eta \u001b[36m0:00:00\u001b[0m\n",
            "\u001b[?25hInstalling collected packages: nvidia-nvjitlink-cu12, nvidia-curand-cu12, nvidia-cufft-cu12, nvidia-cuda-runtime-cu12, nvidia-cuda-nvrtc-cu12, nvidia-cuda-cupti-cu12, nvidia-cublas-cu12, lightning-utilities, nvidia-cusparse-cu12, nvidia-cudnn-cu12, nvidia-cusolver-cu12, torchmetrics\n",
            "  Attempting uninstall: nvidia-nvjitlink-cu12\n",
            "    Found existing installation: nvidia-nvjitlink-cu12 12.5.82\n",
            "    Uninstalling nvidia-nvjitlink-cu12-12.5.82:\n",
            "      Successfully uninstalled nvidia-nvjitlink-cu12-12.5.82\n",
            "  Attempting uninstall: nvidia-curand-cu12\n",
            "    Found existing installation: nvidia-curand-cu12 10.3.6.82\n",
            "    Uninstalling nvidia-curand-cu12-10.3.6.82:\n",
            "      Successfully uninstalled nvidia-curand-cu12-10.3.6.82\n",
            "  Attempting uninstall: nvidia-cufft-cu12\n",
            "    Found existing installation: nvidia-cufft-cu12 11.2.3.61\n",
            "    Uninstalling nvidia-cufft-cu12-11.2.3.61:\n",
            "      Successfully uninstalled nvidia-cufft-cu12-11.2.3.61\n",
            "  Attempting uninstall: nvidia-cuda-runtime-cu12\n",
            "    Found existing installation: nvidia-cuda-runtime-cu12 12.5.82\n",
            "    Uninstalling nvidia-cuda-runtime-cu12-12.5.82:\n",
            "      Successfully uninstalled nvidia-cuda-runtime-cu12-12.5.82\n",
            "  Attempting uninstall: nvidia-cuda-nvrtc-cu12\n",
            "    Found existing installation: nvidia-cuda-nvrtc-cu12 12.5.82\n",
            "    Uninstalling nvidia-cuda-nvrtc-cu12-12.5.82:\n",
            "      Successfully uninstalled nvidia-cuda-nvrtc-cu12-12.5.82\n",
            "  Attempting uninstall: nvidia-cuda-cupti-cu12\n",
            "    Found existing installation: nvidia-cuda-cupti-cu12 12.5.82\n",
            "    Uninstalling nvidia-cuda-cupti-cu12-12.5.82:\n",
            "      Successfully uninstalled nvidia-cuda-cupti-cu12-12.5.82\n",
            "  Attempting uninstall: nvidia-cublas-cu12\n",
            "    Found existing installation: nvidia-cublas-cu12 12.5.3.2\n",
            "    Uninstalling nvidia-cublas-cu12-12.5.3.2:\n",
            "      Successfully uninstalled nvidia-cublas-cu12-12.5.3.2\n",
            "  Attempting uninstall: nvidia-cusparse-cu12\n",
            "    Found existing installation: nvidia-cusparse-cu12 12.5.1.3\n",
            "    Uninstalling nvidia-cusparse-cu12-12.5.1.3:\n",
            "      Successfully uninstalled nvidia-cusparse-cu12-12.5.1.3\n",
            "  Attempting uninstall: nvidia-cudnn-cu12\n",
            "    Found existing installation: nvidia-cudnn-cu12 9.3.0.75\n",
            "    Uninstalling nvidia-cudnn-cu12-9.3.0.75:\n",
            "      Successfully uninstalled nvidia-cudnn-cu12-9.3.0.75\n",
            "  Attempting uninstall: nvidia-cusolver-cu12\n",
            "    Found existing installation: nvidia-cusolver-cu12 11.6.3.83\n",
            "    Uninstalling nvidia-cusolver-cu12-11.6.3.83:\n",
            "      Successfully uninstalled nvidia-cusolver-cu12-11.6.3.83\n",
            "Successfully installed lightning-utilities-0.14.3 nvidia-cublas-cu12-12.4.5.8 nvidia-cuda-cupti-cu12-12.4.127 nvidia-cuda-nvrtc-cu12-12.4.127 nvidia-cuda-runtime-cu12-12.4.127 nvidia-cudnn-cu12-9.1.0.70 nvidia-cufft-cu12-11.2.1.3 nvidia-curand-cu12-10.3.5.147 nvidia-cusolver-cu12-11.6.1.9 nvidia-cusparse-cu12-12.3.1.170 nvidia-nvjitlink-cu12-12.4.127 torchmetrics-1.7.1\n"
          ]
        }
      ]
    },
    {
      "cell_type": "code",
      "source": [
        "test_data.targets"
      ],
      "metadata": {
        "colab": {
          "base_uri": "https://localhost:8080/"
        },
        "id": "XZdijN985Dn1",
        "outputId": "e49a3ac7-ee54-49d4-a8e5-4662101e5795"
      },
      "execution_count": null,
      "outputs": [
        {
          "output_type": "execute_result",
          "data": {
            "text/plain": [
              "tensor([9, 2, 1,  ..., 8, 1, 5])"
            ]
          },
          "metadata": {},
          "execution_count": 64
        }
      ]
    },
    {
      "cell_type": "code",
      "source": [
        "from torchmetrics import ConfusionMatrix\n",
        "from mlxtend.plotting import plot_confusion_matrix\n",
        "\n",
        "# Setup confusion instance and compare predictions to targets\n",
        "confmat = ConfusionMatrix(num_classes=len(class_names),\n",
        "                          task='multiclass')\n",
        "confmat_tensor = confmat(preds=y_pred_tensor,\n",
        "                         target=test_data.targets)\n",
        "\n",
        "# Plot the matrix\n",
        "fig, ax = plot_confusion_matrix(conf_mat=confmat_tensor.numpy(), # matplotlib prefers numpy\n",
        "                                class_names=class_names,\n",
        "                                figsize=(12,6))"
      ],
      "metadata": {
        "colab": {
          "base_uri": "https://localhost:8080/",
          "height": 590
        },
        "id": "oVDHTmuW2VVG",
        "outputId": "4540fdbe-685a-4e93-9ca5-186a21d56a4e"
      },
      "execution_count": null,
      "outputs": [
        {
          "output_type": "display_data",
          "data": {
            "text/plain": [
              "<Figure size 1200x600 with 1 Axes>"
            ],
            "image/png": "[encoded data removed]"
          },
          "metadata": {}
        }
      ]
    },
    {
      "cell_type": "code",
      "source": [
        "confmat_tensor"
      ],
      "metadata": {
        "colab": {
          "base_uri": "https://localhost:8080/"
        },
        "id": "4km9enGI5TKy",
        "outputId": "420ef1be-31d6-427c-96fc-6fa0398776ae"
      },
      "execution_count": null,
      "outputs": [
        {
          "output_type": "execute_result",
          "data": {
            "text/plain": [
              "tensor([[693,   7,  32,  90,  12,   1, 159,   0,   6,   0],\n",
              "        [ 12, 858,   8,  79,  27,   0,   6,   0,   7,   3],\n",
              "        [ 11,   4, 773,  18,  98,   0,  91,   0,   5,   0],\n",
              "        [ 23,  15,  17, 871,  39,   0,  27,   0,   6,   2],\n",
              "        [  8,   6, 114,  50, 680,   0, 136,   0,   6,   0],\n",
              "        [ 20,   1,   3,  16,   1, 701,  12, 107, 106,  33],\n",
              "        [113,   3,  98,  75,  65,   0, 638,   0,   8,   0],\n",
              "        [  1,   0,   0,   0,   0,  20,   0, 931,   7,  41],\n",
              "        [ 17,   2,  11,  13,   6,   3,  42,   9, 896,   1],\n",
              "        [  2,   0,   0,   1,   0,  23,   7, 123,  14, 830]])"
            ]
          },
          "metadata": {},
          "execution_count": 67
        }
      ]
    },
    {
      "cell_type": "markdown",
      "source": [
        "## 11. Save and load the best performing model"
      ],
      "metadata": {
        "id": "yLT-W61Q61Iz"
      }
    },
    {
      "cell_type": "code",
      "source": [
        "from pathlib import Path\n",
        "\n",
        "# Create model's directory\n",
        "MODEL_PATH = Path(\"models\")\n",
        "MODEL_PATH.mkdir(parents=True,\n",
        "                 exist_ok=True)\n",
        "\n",
        "# Create model save path\n",
        "MODEL_NAME = \"Pytorch_model_03_cv.pth\"\n",
        "MODEL_SAVE_PATH = MODEL_PATH / MODEL_NAME\n",
        "\n",
        "# Save the model state dict\n",
        "print(f\"Saving to: {MODEL_SAVE_PATH}\")\n",
        "torch.save(obj=model_2.state_dict(),\n",
        "           f=MODEL_SAVE_PATH)"
      ],
      "metadata": {
        "colab": {
          "base_uri": "https://localhost:8080/"
        },
        "id": "FTodR8i86t2l",
        "outputId": "a72af3bd-a827-4afe-8a61-b8b2289628a3"
      },
      "execution_count": null,
      "outputs": [
        {
          "output_type": "stream",
          "name": "stdout",
          "text": [
            "Saving to: models/Pytorch_model_03_cv.pth\n"
          ]
        }
      ]
    },
    {
      "cell_type": "code",
      "source": [
        "# Now lets load the saved model\n",
        "#loaded_model ="
      ],
      "metadata": {
        "id": "gWlf3HJA-LLG"
      },
      "execution_count": null,
      "outputs": []
    }
  ],
  "metadata": {
    "accelerator": "GPU",
    "colab": {
      "gpuType": "T4",
      "provenance": [],
      "authorship_tag": "ABX9TyMfpFLOXVWp/R1ubpwrwhD/",
      "include_colab_link": true
    },
    "kernelspec": {
      "display_name": "Python 3",
      "name": "python3"
    },
    "language_info": {
      "name": "python"
    },
    "widgets": {
      "application/vnd.jupyter.widget-state+json": {
        "a15bf0a73772442c9d74bd5085080058": {
          "model_module": "@jupyter-widgets/controls",
          "model_name": "HBoxModel",
          "model_module_version": "1.5.0",
          "state": {
            "_dom_classes": [],
            "_model_module": "@jupyter-widgets/controls",
            "_model_module_version": "1.5.0",
            "_model_name": "HBoxModel",
            "_view_count": null,
            "_view_module": "@jupyter-widgets/controls",
            "_view_module_version": "1.5.0",
            "_view_name": "HBoxView",
            "box_style": "",
            "children": [
              "IPY_MODEL_c1b8f00d2f7c47b6ae74d6f9b89bb4ac",
              "IPY_MODEL_bc6b453eb1684f4e9ea9dcdb2e631c87",
              "IPY_MODEL_245d893187694f2585aeab920c620304"
            ],
            "layout": "IPY_MODEL_62ada736b54b46c4a1b2a67073bd0df1"
          }
        },
        "c1b8f00d2f7c47b6ae74d6f9b89bb4ac": {
          "model_module": "@jupyter-widgets/controls",
          "model_name": "HTMLModel",
          "model_module_version": "1.5.0",
          "state": {
            "_dom_classes": [],
            "_model_module": "@jupyter-widgets/controls",
            "_model_module_version": "1.5.0",
            "_model_name": "HTMLModel",
            "_view_count": null,
            "_view_module": "@jupyter-widgets/controls",
            "_view_module_version": "1.5.0",
            "_view_name": "HTMLView",
            "description": "",
            "description_tooltip": null,
            "layout": "IPY_MODEL_3e8e547836c54489b935eece50371586",
            "placeholder": "​",
            "style": "IPY_MODEL_744c27f32db64b918445d945b122e632",
            "value": "100%"
          }
        },
        "bc6b453eb1684f4e9ea9dcdb2e631c87": {
          "model_module": "@jupyter-widgets/controls",
          "model_name": "FloatProgressModel",
          "model_module_version": "1.5.0",
          "state": {
            "_dom_classes": [],
            "_model_module": "@jupyter-widgets/controls",
            "_model_module_version": "1.5.0",
            "_model_name": "FloatProgressModel",
            "_view_count": null,
            "_view_module": "@jupyter-widgets/controls",
            "_view_module_version": "1.5.0",
            "_view_name": "ProgressView",
            "bar_style": "success",
            "description": "",
            "description_tooltip": null,
            "layout": "IPY_MODEL_0f7d9b1701714c22a2f484bbc19d4672",
            "max": 3,
            "min": 0,
            "orientation": "horizontal",
            "style": "IPY_MODEL_e63781a0d695404aa61b4ea9342e518d",
            "value": 3
          }
        },
        "245d893187694f2585aeab920c620304": {
          "model_module": "@jupyter-widgets/controls",
          "model_name": "HTMLModel",
          "model_module_version": "1.5.0",
          "state": {
            "_dom_classes": [],
            "_model_module": "@jupyter-widgets/controls",
            "_model_module_version": "1.5.0",
            "_model_name": "HTMLModel",
            "_view_count": null,
            "_view_module": "@jupyter-widgets/controls",
            "_view_module_version": "1.5.0",
            "_view_name": "HTMLView",
            "description": "",
            "description_tooltip": null,
            "layout": "IPY_MODEL_f82fd9f38ffe4328af3a56fb117379ed",
            "placeholder": "​",
            "style": "IPY_MODEL_32a37afd541d4459a5c9f54bf4e5ae02",
            "value": " 3/3 [00:26&lt;00:00,  8.83s/it]"
          }
        },
        "62ada736b54b46c4a1b2a67073bd0df1": {
          "model_module": "@jupyter-widgets/base",
          "model_name": "LayoutModel",
          "model_module_version": "1.2.0",
          "state": {
            "_model_module": "@jupyter-widgets/base",
            "_model_module_version": "1.2.0",
            "_model_name": "LayoutModel",
            "_view_count": null,
            "_view_module": "@jupyter-widgets/base",
            "_view_module_version": "1.2.0",
            "_view_name": "LayoutView",
            "align_content": null,
            "align_items": null,
            "align_self": null,
            "border": null,
            "bottom": null,
            "display": null,
            "flex": null,
            "flex_flow": null,
            "grid_area": null,
            "grid_auto_columns": null,
            "grid_auto_flow": null,
            "grid_auto_rows": null,
            "grid_column": null,
            "grid_gap": null,
            "grid_row": null,
            "grid_template_areas": null,
            "grid_template_columns": null,
            "grid_template_rows": null,
            "height": null,
            "justify_content": null,
            "justify_items": null,
            "left": null,
            "margin": null,
            "max_height": null,
            "max_width": null,
            "min_height": null,
            "min_width": null,
            "object_fit": null,
            "object_position": null,
            "order": null,
            "overflow": null,
            "overflow_x": null,
            "overflow_y": null,
            "padding": null,
            "right": null,
            "top": null,
            "visibility": null,
            "width": null
          }
        },
        "3e8e547836c54489b935eece50371586": {
          "model_module": "@jupyter-widgets/base",
          "model_name": "LayoutModel",
          "model_module_version": "1.2.0",
          "state": {
            "_model_module": "@jupyter-widgets/base",
            "_model_module_version": "1.2.0",
            "_model_name": "LayoutModel",
            "_view_count": null,
            "_view_module": "@jupyter-widgets/base",
            "_view_module_version": "1.2.0",
            "_view_name": "LayoutView",
            "align_content": null,
            "align_items": null,
            "align_self": null,
            "border": null,
            "bottom": null,
            "display": null,
            "flex": null,
            "flex_flow": null,
            "grid_area": null,
            "grid_auto_columns": null,
            "grid_auto_flow": null,
            "grid_auto_rows": null,
            "grid_column": null,
            "grid_gap": null,
            "grid_row": null,
            "grid_template_areas": null,
            "grid_template_columns": null,
            "grid_template_rows": null,
            "height": null,
            "justify_content": null,
            "justify_items": null,
            "left": null,
            "margin": null,
            "max_height": null,
            "max_width": null,
            "min_height": null,
            "min_width": null,
            "object_fit": null,
            "object_position": null,
            "order": null,
            "overflow": null,
            "overflow_x": null,
            "overflow_y": null,
            "padding": null,
            "right": null,
            "top": null,
            "visibility": null,
            "width": null
          }
        },
        "744c27f32db64b918445d945b122e632": {
          "model_module": "@jupyter-widgets/controls",
          "model_name": "DescriptionStyleModel",
          "model_module_version": "1.5.0",
          "state": {
            "_model_module": "@jupyter-widgets/controls",
            "_model_module_version": "1.5.0",
            "_model_name": "DescriptionStyleModel",
            "_view_count": null,
            "_view_module": "@jupyter-widgets/base",
            "_view_module_version": "1.2.0",
            "_view_name": "StyleView",
            "description_width": ""
          }
        },
        "0f7d9b1701714c22a2f484bbc19d4672": {
          "model_module": "@jupyter-widgets/base",
          "model_name": "LayoutModel",
          "model_module_version": "1.2.0",
          "state": {
            "_model_module": "@jupyter-widgets/base",
            "_model_module_version": "1.2.0",
            "_model_name": "LayoutModel",
            "_view_count": null,
            "_view_module": "@jupyter-widgets/base",
            "_view_module_version": "1.2.0",
            "_view_name": "LayoutView",
            "align_content": null,
            "align_items": null,
            "align_self": null,
            "border": null,
            "bottom": null,
            "display": null,
            "flex": null,
            "flex_flow": null,
            "grid_area": null,
            "grid_auto_columns": null,
            "grid_auto_flow": null,
            "grid_auto_rows": null,
            "grid_column": null,
            "grid_gap": null,
            "grid_row": null,
            "grid_template_areas": null,
            "grid_template_columns": null,
            "grid_template_rows": null,
            "height": null,
            "justify_content": null,
            "justify_items": null,
            "left": null,
            "margin": null,
            "max_height": null,
            "max_width": null,
            "min_height": null,
            "min_width": null,
            "object_fit": null,
            "object_position": null,
            "order": null,
            "overflow": null,
            "overflow_x": null,
            "overflow_y": null,
            "padding": null,
            "right": null,
            "top": null,
            "visibility": null,
            "width": null
          }
        },
        "e63781a0d695404aa61b4ea9342e518d": {
          "model_module": "@jupyter-widgets/controls",
          "model_name": "ProgressStyleModel",
          "model_module_version": "1.5.0",
          "state": {
            "_model_module": "@jupyter-widgets/controls",
            "_model_module_version": "1.5.0",
            "_model_name": "ProgressStyleModel",
            "_view_count": null,
            "_view_module": "@jupyter-widgets/base",
            "_view_module_version": "1.2.0",
            "_view_name": "StyleView",
            "bar_color": null,
            "description_width": ""
          }
        },
        "f82fd9f38ffe4328af3a56fb117379ed": {
          "model_module": "@jupyter-widgets/base",
          "model_name": "LayoutModel",
          "model_module_version": "1.2.0",
          "state": {
            "_model_module": "@jupyter-widgets/base",
            "_model_module_version": "1.2.0",
            "_model_name": "LayoutModel",
            "_view_count": null,
            "_view_module": "@jupyter-widgets/base",
            "_view_module_version": "1.2.0",
            "_view_name": "LayoutView",
            "align_content": null,
            "align_items": null,
            "align_self": null,
            "border": null,
            "bottom": null,
            "display": null,
            "flex": null,
            "flex_flow": null,
            "grid_area": null,
            "grid_auto_columns": null,
            "grid_auto_flow": null,
            "grid_auto_rows": null,
            "grid_column": null,
            "grid_gap": null,
            "grid_row": null,
            "grid_template_areas": null,
            "grid_template_columns": null,
            "grid_template_rows": null,
            "height": null,
            "justify_content": null,
            "justify_items": null,
            "left": null,
            "margin": null,
            "max_height": null,
            "max_width": null,
            "min_height": null,
            "min_width": null,
            "object_fit": null,
            "object_position": null,
            "order": null,
            "overflow": null,
            "overflow_x": null,
            "overflow_y": null,
            "padding": null,
            "right": null,
            "top": null,
            "visibility": null,
            "width": null
          }
        },
        "32a37afd541d4459a5c9f54bf4e5ae02": {
          "model_module": "@jupyter-widgets/controls",
          "model_name": "DescriptionStyleModel",
          "model_module_version": "1.5.0",
          "state": {
            "_model_module": "@jupyter-widgets/controls",
            "_model_module_version": "1.5.0",
            "_model_name": "DescriptionStyleModel",
            "_view_count": null,
            "_view_module": "@jupyter-widgets/base",
            "_view_module_version": "1.2.0",
            "_view_name": "StyleView",
            "description_width": ""
          }
        },
        "4b4ea05a57b84c6e9f34ec963c990c4b": {
          "model_module": "@jupyter-widgets/controls",
          "model_name": "HBoxModel",
          "model_module_version": "1.5.0",
          "state": {
            "_dom_classes": [],
            "_model_module": "@jupyter-widgets/controls",
            "_model_module_version": "1.5.0",
            "_model_name": "HBoxModel",
            "_view_count": null,
            "_view_module": "@jupyter-widgets/controls",
            "_view_module_version": "1.5.0",
            "_view_name": "HBoxView",
            "box_style": "",
            "children": [
              "IPY_MODEL_b4279abcfb834fe891bb4f30a307c27f",
              "IPY_MODEL_93d253712e0f48648decfb589e2949e8",
              "IPY_MODEL_ea6906cd78eb4be58227a048a026c3a2"
            ],
            "layout": "IPY_MODEL_b961c7c08a0f496595de2d455981d567"
          }
        },
        "b4279abcfb834fe891bb4f30a307c27f": {
          "model_module": "@jupyter-widgets/controls",
          "model_name": "HTMLModel",
          "model_module_version": "1.5.0",
          "state": {
            "_dom_classes": [],
            "_model_module": "@jupyter-widgets/controls",
            "_model_module_version": "1.5.0",
            "_model_name": "HTMLModel",
            "_view_count": null,
            "_view_module": "@jupyter-widgets/controls",
            "_view_module_version": "1.5.0",
            "_view_name": "HTMLView",
            "description": "",
            "description_tooltip": null,
            "layout": "IPY_MODEL_1fe4901b991e426cac96bea82cc08e65",
            "placeholder": "​",
            "style": "IPY_MODEL_dfd2e74e0bf5463eaceb8429ff0cd896",
            "value": "100%"
          }
        },
        "93d253712e0f48648decfb589e2949e8": {
          "model_module": "@jupyter-widgets/controls",
          "model_name": "FloatProgressModel",
          "model_module_version": "1.5.0",
          "state": {
            "_dom_classes": [],
            "_model_module": "@jupyter-widgets/controls",
            "_model_module_version": "1.5.0",
            "_model_name": "FloatProgressModel",
            "_view_count": null,
            "_view_module": "@jupyter-widgets/controls",
            "_view_module_version": "1.5.0",
            "_view_name": "ProgressView",
            "bar_style": "success",
            "description": "",
            "description_tooltip": null,
            "layout": "IPY_MODEL_cf57a42758e14b21b13f1ad975b098c6",
            "max": 313,
            "min": 0,
            "orientation": "horizontal",
            "style": "IPY_MODEL_fabb92082ace490e9aaf4204271e26ba",
            "value": 313
          }
        },
        "ea6906cd78eb4be58227a048a026c3a2": {
          "model_module": "@jupyter-widgets/controls",
          "model_name": "HTMLModel",
          "model_module_version": "1.5.0",
          "state": {
            "_dom_classes": [],
            "_model_module": "@jupyter-widgets/controls",
            "_model_module_version": "1.5.0",
            "_model_name": "HTMLModel",
            "_view_count": null,
            "_view_module": "@jupyter-widgets/controls",
            "_view_module_version": "1.5.0",
            "_view_name": "HTMLView",
            "description": "",
            "description_tooltip": null,
            "layout": "IPY_MODEL_f6e51de5d7cf41648a878238ef5ee5ff",
            "placeholder": "​",
            "style": "IPY_MODEL_8d39cbe76d824bd3a992ce34e2e6e3e0",
            "value": " 313/313 [00:01&lt;00:00, 299.04it/s]"
          }
        },
        "b961c7c08a0f496595de2d455981d567": {
          "model_module": "@jupyter-widgets/base",
          "model_name": "LayoutModel",
          "model_module_version": "1.2.0",
          "state": {
            "_model_module": "@jupyter-widgets/base",
            "_model_module_version": "1.2.0",
            "_model_name": "LayoutModel",
            "_view_count": null,
            "_view_module": "@jupyter-widgets/base",
            "_view_module_version": "1.2.0",
            "_view_name": "LayoutView",
            "align_content": null,
            "align_items": null,
            "align_self": null,
            "border": null,
            "bottom": null,
            "display": null,
            "flex": null,
            "flex_flow": null,
            "grid_area": null,
            "grid_auto_columns": null,
            "grid_auto_flow": null,
            "grid_auto_rows": null,
            "grid_column": null,
            "grid_gap": null,
            "grid_row": null,
            "grid_template_areas": null,
            "grid_template_columns": null,
            "grid_template_rows": null,
            "height": null,
            "justify_content": null,
            "justify_items": null,
            "left": null,
            "margin": null,
            "max_height": null,
            "max_width": null,
            "min_height": null,
            "min_width": null,
            "object_fit": null,
            "object_position": null,
            "order": null,
            "overflow": null,
            "overflow_x": null,
            "overflow_y": null,
            "padding": null,
            "right": null,
            "top": null,
            "visibility": null,
            "width": null
          }
        },
        "1fe4901b991e426cac96bea82cc08e65": {
          "model_module": "@jupyter-widgets/base",
          "model_name": "LayoutModel",
          "model_module_version": "1.2.0",
          "state": {
            "_model_module": "@jupyter-widgets/base",
            "_model_module_version": "1.2.0",
            "_model_name": "LayoutModel",
            "_view_count": null,
            "_view_module": "@jupyter-widgets/base",
            "_view_module_version": "1.2.0",
            "_view_name": "LayoutView",
            "align_content": null,
            "align_items": null,
            "align_self": null,
            "border": null,
            "bottom": null,
            "display": null,
            "flex": null,
            "flex_flow": null,
            "grid_area": null,
            "grid_auto_columns": null,
            "grid_auto_flow": null,
            "grid_auto_rows": null,
            "grid_column": null,
            "grid_gap": null,
            "grid_row": null,
            "grid_template_areas": null,
            "grid_template_columns": null,
            "grid_template_rows": null,
            "height": null,
            "justify_content": null,
            "justify_items": null,
            "left": null,
            "margin": null,
            "max_height": null,
            "max_width": null,
            "min_height": null,
            "min_width": null,
            "object_fit": null,
            "object_position": null,
            "order": null,
            "overflow": null,
            "overflow_x": null,
            "overflow_y": null,
            "padding": null,
            "right": null,
            "top": null,
            "visibility": null,
            "width": null
          }
        },
        "dfd2e74e0bf5463eaceb8429ff0cd896": {
          "model_module": "@jupyter-widgets/controls",
          "model_name": "DescriptionStyleModel",
          "model_module_version": "1.5.0",
          "state": {
            "_model_module": "@jupyter-widgets/controls",
            "_model_module_version": "1.5.0",
            "_model_name": "DescriptionStyleModel",
            "_view_count": null,
            "_view_module": "@jupyter-widgets/base",
            "_view_module_version": "1.2.0",
            "_view_name": "StyleView",
            "description_width": ""
          }
        },
        "cf57a42758e14b21b13f1ad975b098c6": {
          "model_module": "@jupyter-widgets/base",
          "model_name": "LayoutModel",
          "model_module_version": "1.2.0",
          "state": {
            "_model_module": "@jupyter-widgets/base",
            "_model_module_version": "1.2.0",
            "_model_name": "LayoutModel",
            "_view_count": null,
            "_view_module": "@jupyter-widgets/base",
            "_view_module_version": "1.2.0",
            "_view_name": "LayoutView",
            "align_content": null,
            "align_items": null,
            "align_self": null,
            "border": null,
            "bottom": null,
            "display": null,
            "flex": null,
            "flex_flow": null,
            "grid_area": null,
            "grid_auto_columns": null,
            "grid_auto_flow": null,
            "grid_auto_rows": null,
            "grid_column": null,
            "grid_gap": null,
            "grid_row": null,
            "grid_template_areas": null,
            "grid_template_columns": null,
            "grid_template_rows": null,
            "height": null,
            "justify_content": null,
            "justify_items": null,
            "left": null,
            "margin": null,
            "max_height": null,
            "max_width": null,
            "min_height": null,
            "min_width": null,
            "object_fit": null,
            "object_position": null,
            "order": null,
            "overflow": null,
            "overflow_x": null,
            "overflow_y": null,
            "padding": null,
            "right": null,
            "top": null,
            "visibility": null,
            "width": null
          }
        },
        "fabb92082ace490e9aaf4204271e26ba": {
          "model_module": "@jupyter-widgets/controls",
          "model_name": "ProgressStyleModel",
          "model_module_version": "1.5.0",
          "state": {
            "_model_module": "@jupyter-widgets/controls",
            "_model_module_version": "1.5.0",
            "_model_name": "ProgressStyleModel",
            "_view_count": null,
            "_view_module": "@jupyter-widgets/base",
            "_view_module_version": "1.2.0",
            "_view_name": "StyleView",
            "bar_color": null,
            "description_width": ""
          }
        },
        "f6e51de5d7cf41648a878238ef5ee5ff": {
          "model_module": "@jupyter-widgets/base",
          "model_name": "LayoutModel",
          "model_module_version": "1.2.0",
          "state": {
            "_model_module": "@jupyter-widgets/base",
            "_model_module_version": "1.2.0",
            "_model_name": "LayoutModel",
            "_view_count": null,
            "_view_module": "@jupyter-widgets/base",
            "_view_module_version": "1.2.0",
            "_view_name": "LayoutView",
            "align_content": null,
            "align_items": null,
            "align_self": null,
            "border": null,
            "bottom": null,
            "display": null,
            "flex": null,
            "flex_flow": null,
            "grid_area": null,
            "grid_auto_columns": null,
            "grid_auto_flow": null,
            "grid_auto_rows": null,
            "grid_column": null,
            "grid_gap": null,
            "grid_row": null,
            "grid_template_areas": null,
            "grid_template_columns": null,
            "grid_template_rows": null,
            "height": null,
            "justify_content": null,
            "justify_items": null,
            "left": null,
            "margin": null,
            "max_height": null,
            "max_width": null,
            "min_height": null,
            "min_width": null,
            "object_fit": null,
            "object_position": null,
            "order": null,
            "overflow": null,
            "overflow_x": null,
            "overflow_y": null,
            "padding": null,
            "right": null,
            "top": null,
            "visibility": null,
            "width": null
          }
        },
        "8d39cbe76d824bd3a992ce34e2e6e3e0": {
          "model_module": "@jupyter-widgets/controls",
          "model_name": "DescriptionStyleModel",
          "model_module_version": "1.5.0",
          "state": {
            "_model_module": "@jupyter-widgets/controls",
            "_model_module_version": "1.5.0",
            "_model_name": "DescriptionStyleModel",
            "_view_count": null,
            "_view_module": "@jupyter-widgets/base",
            "_view_module_version": "1.2.0",
            "_view_name": "StyleView",
            "description_width": ""
          }
        },
        "350d02601ee74720a9297370c7a0a2d1": {
          "model_module": "@jupyter-widgets/controls",
          "model_name": "HBoxModel",
          "model_module_version": "1.5.0",
          "state": {
            "_dom_classes": [],
            "_model_module": "@jupyter-widgets/controls",
            "_model_module_version": "1.5.0",
            "_model_name": "HBoxModel",
            "_view_count": null,
            "_view_module": "@jupyter-widgets/controls",
            "_view_module_version": "1.5.0",
            "_view_name": "HBoxView",
            "box_style": "",
            "children": [
              "IPY_MODEL_86e9504643ea460d9f5919f392f3a427",
              "IPY_MODEL_fc4f186846d640609ee816cdb331a007",
              "IPY_MODEL_24e5cf6a12284495852a5cd4fa5f1499"
            ],
            "layout": "IPY_MODEL_5c66663c37e1445aa84d74388d4ec220"
          }
        },
        "86e9504643ea460d9f5919f392f3a427": {
          "model_module": "@jupyter-widgets/controls",
          "model_name": "HTMLModel",
          "model_module_version": "1.5.0",
          "state": {
            "_dom_classes": [],
            "_model_module": "@jupyter-widgets/controls",
            "_model_module_version": "1.5.0",
            "_model_name": "HTMLModel",
            "_view_count": null,
            "_view_module": "@jupyter-widgets/controls",
            "_view_module_version": "1.5.0",
            "_view_name": "HTMLView",
            "description": "",
            "description_tooltip": null,
            "layout": "IPY_MODEL_358323861b0a4b7289dd146d66f82e2e",
            "placeholder": "​",
            "style": "IPY_MODEL_94ce2b4efaf642bcb6d931bb3b347747",
            "value": "100%"
          }
        },
        "fc4f186846d640609ee816cdb331a007": {
          "model_module": "@jupyter-widgets/controls",
          "model_name": "FloatProgressModel",
          "model_module_version": "1.5.0",
          "state": {
            "_dom_classes": [],
            "_model_module": "@jupyter-widgets/controls",
            "_model_module_version": "1.5.0",
            "_model_name": "FloatProgressModel",
            "_view_count": null,
            "_view_module": "@jupyter-widgets/controls",
            "_view_module_version": "1.5.0",
            "_view_name": "ProgressView",
            "bar_style": "success",
            "description": "",
            "description_tooltip": null,
            "layout": "IPY_MODEL_ffb05ca5ebc5472e8ee3cc42874a6c00",
            "max": 3,
            "min": 0,
            "orientation": "horizontal",
            "style": "IPY_MODEL_fc59bf3d456a46b5af39f3a66000bc84",
            "value": 3
          }
        },
        "24e5cf6a12284495852a5cd4fa5f1499": {
          "model_module": "@jupyter-widgets/controls",
          "model_name": "HTMLModel",
          "model_module_version": "1.5.0",
          "state": {
            "_dom_classes": [],
            "_model_module": "@jupyter-widgets/controls",
            "_model_module_version": "1.5.0",
            "_model_name": "HTMLModel",
            "_view_count": null,
            "_view_module": "@jupyter-widgets/controls",
            "_view_module_version": "1.5.0",
            "_view_name": "HTMLView",
            "description": "",
            "description_tooltip": null,
            "layout": "IPY_MODEL_f0e5bcfef6b04d08b059d4de9e51ed7f",
            "placeholder": "​",
            "style": "IPY_MODEL_16f98cb766ad4391a7ab3bb41ed70b45",
            "value": " 3/3 [00:29&lt;00:00,  9.60s/it]"
          }
        },
        "5c66663c37e1445aa84d74388d4ec220": {
          "model_module": "@jupyter-widgets/base",
          "model_name": "LayoutModel",
          "model_module_version": "1.2.0",
          "state": {
            "_model_module": "@jupyter-widgets/base",
            "_model_module_version": "1.2.0",
            "_model_name": "LayoutModel",
            "_view_count": null,
            "_view_module": "@jupyter-widgets/base",
            "_view_module_version": "1.2.0",
            "_view_name": "LayoutView",
            "align_content": null,
            "align_items": null,
            "align_self": null,
            "border": null,
            "bottom": null,
            "display": null,
            "flex": null,
            "flex_flow": null,
            "grid_area": null,
            "grid_auto_columns": null,
            "grid_auto_flow": null,
            "grid_auto_rows": null,
            "grid_column": null,
            "grid_gap": null,
            "grid_row": null,
            "grid_template_areas": null,
            "grid_template_columns": null,
            "grid_template_rows": null,
            "height": null,
            "justify_content": null,
            "justify_items": null,
            "left": null,
            "margin": null,
            "max_height": null,
            "max_width": null,
            "min_height": null,
            "min_width": null,
            "object_fit": null,
            "object_position": null,
            "order": null,
            "overflow": null,
            "overflow_x": null,
            "overflow_y": null,
            "padding": null,
            "right": null,
            "top": null,
            "visibility": null,
            "width": null
          }
        },
        "358323861b0a4b7289dd146d66f82e2e": {
          "model_module": "@jupyter-widgets/base",
          "model_name": "LayoutModel",
          "model_module_version": "1.2.0",
          "state": {
            "_model_module": "@jupyter-widgets/base",
            "_model_module_version": "1.2.0",
            "_model_name": "LayoutModel",
            "_view_count": null,
            "_view_module": "@jupyter-widgets/base",
            "_view_module_version": "1.2.0",
            "_view_name": "LayoutView",
            "align_content": null,
            "align_items": null,
            "align_self": null,
            "border": null,
            "bottom": null,
            "display": null,
            "flex": null,
            "flex_flow": null,
            "grid_area": null,
            "grid_auto_columns": null,
            "grid_auto_flow": null,
            "grid_auto_rows": null,
            "grid_column": null,
            "grid_gap": null,
            "grid_row": null,
            "grid_template_areas": null,
            "grid_template_columns": null,
            "grid_template_rows": null,
            "height": null,
            "justify_content": null,
            "justify_items": null,
            "left": null,
            "margin": null,
            "max_height": null,
            "max_width": null,
            "min_height": null,
            "min_width": null,
            "object_fit": null,
            "object_position": null,
            "order": null,
            "overflow": null,
            "overflow_x": null,
            "overflow_y": null,
            "padding": null,
            "right": null,
            "top": null,
            "visibility": null,
            "width": null
          }
        },
        "94ce2b4efaf642bcb6d931bb3b347747": {
          "model_module": "@jupyter-widgets/controls",
          "model_name": "DescriptionStyleModel",
          "model_module_version": "1.5.0",
          "state": {
            "_model_module": "@jupyter-widgets/controls",
            "_model_module_version": "1.5.0",
            "_model_name": "DescriptionStyleModel",
            "_view_count": null,
            "_view_module": "@jupyter-widgets/base",
            "_view_module_version": "1.2.0",
            "_view_name": "StyleView",
            "description_width": ""
          }
        },
        "ffb05ca5ebc5472e8ee3cc42874a6c00": {
          "model_module": "@jupyter-widgets/base",
          "model_name": "LayoutModel",
          "model_module_version": "1.2.0",
          "state": {
            "_model_module": "@jupyter-widgets/base",
            "_model_module_version": "1.2.0",
            "_model_name": "LayoutModel",
            "_view_count": null,
            "_view_module": "@jupyter-widgets/base",
            "_view_module_version": "1.2.0",
            "_view_name": "LayoutView",
            "align_content": null,
            "align_items": null,
            "align_self": null,
            "border": null,
            "bottom": null,
            "display": null,
            "flex": null,
            "flex_flow": null,
            "grid_area": null,
            "grid_auto_columns": null,
            "grid_auto_flow": null,
            "grid_auto_rows": null,
            "grid_column": null,
            "grid_gap": null,
            "grid_row": null,
            "grid_template_areas": null,
            "grid_template_columns": null,
            "grid_template_rows": null,
            "height": null,
            "justify_content": null,
            "justify_items": null,
            "left": null,
            "margin": null,
            "max_height": null,
            "max_width": null,
            "min_height": null,
            "min_width": null,
            "object_fit": null,
            "object_position": null,
            "order": null,
            "overflow": null,
            "overflow_x": null,
            "overflow_y": null,
            "padding": null,
            "right": null,
            "top": null,
            "visibility": null,
            "width": null
          }
        },
        "fc59bf3d456a46b5af39f3a66000bc84": {
          "model_module": "@jupyter-widgets/controls",
          "model_name": "ProgressStyleModel",
          "model_module_version": "1.5.0",
          "state": {
            "_model_module": "@jupyter-widgets/controls",
            "_model_module_version": "1.5.0",
            "_model_name": "ProgressStyleModel",
            "_view_count": null,
            "_view_module": "@jupyter-widgets/base",
            "_view_module_version": "1.2.0",
            "_view_name": "StyleView",
            "bar_color": null,
            "description_width": ""
          }
        },
        "f0e5bcfef6b04d08b059d4de9e51ed7f": {
          "model_module": "@jupyter-widgets/base",
          "model_name": "LayoutModel",
          "model_module_version": "1.2.0",
          "state": {
            "_model_module": "@jupyter-widgets/base",
            "_model_module_version": "1.2.0",
            "_model_name": "LayoutModel",
            "_view_count": null,
            "_view_module": "@jupyter-widgets/base",
            "_view_module_version": "1.2.0",
            "_view_name": "LayoutView",
            "align_content": null,
            "align_items": null,
            "align_self": null,
            "border": null,
            "bottom": null,
            "display": null,
            "flex": null,
            "flex_flow": null,
            "grid_area": null,
            "grid_auto_columns": null,
            "grid_auto_flow": null,
            "grid_auto_rows": null,
            "grid_column": null,
            "grid_gap": null,
            "grid_row": null,
            "grid_template_areas": null,
            "grid_template_columns": null,
            "grid_template_rows": null,
            "height": null,
            "justify_content": null,
            "justify_items": null,
            "left": null,
            "margin": null,
            "max_height": null,
            "max_width": null,
            "min_height": null,
            "min_width": null,
            "object_fit": null,
            "object_position": null,
            "order": null,
            "overflow": null,
            "overflow_x": null,
            "overflow_y": null,
            "padding": null,
            "right": null,
            "top": null,
            "visibility": null,
            "width": null
          }
        },
        "16f98cb766ad4391a7ab3bb41ed70b45": {
          "model_module": "@jupyter-widgets/controls",
          "model_name": "DescriptionStyleModel",
          "model_module_version": "1.5.0",
          "state": {
            "_model_module": "@jupyter-widgets/controls",
            "_model_module_version": "1.5.0",
            "_model_name": "DescriptionStyleModel",
            "_view_count": null,
            "_view_module": "@jupyter-widgets/base",
            "_view_module_version": "1.2.0",
            "_view_name": "StyleView",
            "description_width": ""
          }
        },
        "fc60fae7cbae485d86b0e15c1c4452c0": {
          "model_module": "@jupyter-widgets/controls",
          "model_name": "HBoxModel",
          "model_module_version": "1.5.0",
          "state": {
            "_dom_classes": [],
            "_model_module": "@jupyter-widgets/controls",
            "_model_module_version": "1.5.0",
            "_model_name": "HBoxModel",
            "_view_count": null,
            "_view_module": "@jupyter-widgets/controls",
            "_view_module_version": "1.5.0",
            "_view_name": "HBoxView",
            "box_style": "",
            "children": [
              "IPY_MODEL_7bf37f89846e468e89ab5299f948e5b1",
              "IPY_MODEL_d7cd1c82581c4592a5b2516178ae5525",
              "IPY_MODEL_d4998cf458a343c78620487187e9b8ba"
            ],
            "layout": "IPY_MODEL_2fec9a4a9f6f422ab3fbefa250471fe3"
          }
        },
        "7bf37f89846e468e89ab5299f948e5b1": {
          "model_module": "@jupyter-widgets/controls",
          "model_name": "HTMLModel",
          "model_module_version": "1.5.0",
          "state": {
            "_dom_classes": [],
            "_model_module": "@jupyter-widgets/controls",
            "_model_module_version": "1.5.0",
            "_model_name": "HTMLModel",
            "_view_count": null,
            "_view_module": "@jupyter-widgets/controls",
            "_view_module_version": "1.5.0",
            "_view_name": "HTMLView",
            "description": "",
            "description_tooltip": null,
            "layout": "IPY_MODEL_3c63745093994880908cecc8316ef78a",
            "placeholder": "​",
            "style": "IPY_MODEL_9d61dde739b04c74940aac459f3b69e9",
            "value": "100%"
          }
        },
        "d7cd1c82581c4592a5b2516178ae5525": {
          "model_module": "@jupyter-widgets/controls",
          "model_name": "FloatProgressModel",
          "model_module_version": "1.5.0",
          "state": {
            "_dom_classes": [],
            "_model_module": "@jupyter-widgets/controls",
            "_model_module_version": "1.5.0",
            "_model_name": "FloatProgressModel",
            "_view_count": null,
            "_view_module": "@jupyter-widgets/controls",
            "_view_module_version": "1.5.0",
            "_view_name": "ProgressView",
            "bar_style": "success",
            "description": "",
            "description_tooltip": null,
            "layout": "IPY_MODEL_ad0f389577be427fb1799f8dd0264873",
            "max": 313,
            "min": 0,
            "orientation": "horizontal",
            "style": "IPY_MODEL_8283e2500e2444ff849b629d4658f3cc",
            "value": 313
          }
        },
        "d4998cf458a343c78620487187e9b8ba": {
          "model_module": "@jupyter-widgets/controls",
          "model_name": "HTMLModel",
          "model_module_version": "1.5.0",
          "state": {
            "_dom_classes": [],
            "_model_module": "@jupyter-widgets/controls",
            "_model_module_version": "1.5.0",
            "_model_name": "HTMLModel",
            "_view_count": null,
            "_view_module": "@jupyter-widgets/controls",
            "_view_module_version": "1.5.0",
            "_view_name": "HTMLView",
            "description": "",
            "description_tooltip": null,
            "layout": "IPY_MODEL_68955e217caa4337aa629d10ee4647f4",
            "placeholder": "​",
            "style": "IPY_MODEL_d83fddd8c67f489b86fa7b8859341664",
            "value": " 313/313 [00:01&lt;00:00, 289.05it/s]"
          }
        },
        "2fec9a4a9f6f422ab3fbefa250471fe3": {
          "model_module": "@jupyter-widgets/base",
          "model_name": "LayoutModel",
          "model_module_version": "1.2.0",
          "state": {
            "_model_module": "@jupyter-widgets/base",
            "_model_module_version": "1.2.0",
            "_model_name": "LayoutModel",
            "_view_count": null,
            "_view_module": "@jupyter-widgets/base",
            "_view_module_version": "1.2.0",
            "_view_name": "LayoutView",
            "align_content": null,
            "align_items": null,
            "align_self": null,
            "border": null,
            "bottom": null,
            "display": null,
            "flex": null,
            "flex_flow": null,
            "grid_area": null,
            "grid_auto_columns": null,
            "grid_auto_flow": null,
            "grid_auto_rows": null,
            "grid_column": null,
            "grid_gap": null,
            "grid_row": null,
            "grid_template_areas": null,
            "grid_template_columns": null,
            "grid_template_rows": null,
            "height": null,
            "justify_content": null,
            "justify_items": null,
            "left": null,
            "margin": null,
            "max_height": null,
            "max_width": null,
            "min_height": null,
            "min_width": null,
            "object_fit": null,
            "object_position": null,
            "order": null,
            "overflow": null,
            "overflow_x": null,
            "overflow_y": null,
            "padding": null,
            "right": null,
            "top": null,
            "visibility": null,
            "width": null
          }
        },
        "3c63745093994880908cecc8316ef78a": {
          "model_module": "@jupyter-widgets/base",
          "model_name": "LayoutModel",
          "model_module_version": "1.2.0",
          "state": {
            "_model_module": "@jupyter-widgets/base",
            "_model_module_version": "1.2.0",
            "_model_name": "LayoutModel",
            "_view_count": null,
            "_view_module": "@jupyter-widgets/base",
            "_view_module_version": "1.2.0",
            "_view_name": "LayoutView",
            "align_content": null,
            "align_items": null,
            "align_self": null,
            "border": null,
            "bottom": null,
            "display": null,
            "flex": null,
            "flex_flow": null,
            "grid_area": null,
            "grid_auto_columns": null,
            "grid_auto_flow": null,
            "grid_auto_rows": null,
            "grid_column": null,
            "grid_gap": null,
            "grid_row": null,
            "grid_template_areas": null,
            "grid_template_columns": null,
            "grid_template_rows": null,
            "height": null,
            "justify_content": null,
            "justify_items": null,
            "left": null,
            "margin": null,
            "max_height": null,
            "max_width": null,
            "min_height": null,
            "min_width": null,
            "object_fit": null,
            "object_position": null,
            "order": null,
            "overflow": null,
            "overflow_x": null,
            "overflow_y": null,
            "padding": null,
            "right": null,
            "top": null,
            "visibility": null,
            "width": null
          }
        },
        "9d61dde739b04c74940aac459f3b69e9": {
          "model_module": "@jupyter-widgets/controls",
          "model_name": "DescriptionStyleModel",
          "model_module_version": "1.5.0",
          "state": {
            "_model_module": "@jupyter-widgets/controls",
            "_model_module_version": "1.5.0",
            "_model_name": "DescriptionStyleModel",
            "_view_count": null,
            "_view_module": "@jupyter-widgets/base",
            "_view_module_version": "1.2.0",
            "_view_name": "StyleView",
            "description_width": ""
          }
        },
        "ad0f389577be427fb1799f8dd0264873": {
          "model_module": "@jupyter-widgets/base",
          "model_name": "LayoutModel",
          "model_module_version": "1.2.0",
          "state": {
            "_model_module": "@jupyter-widgets/base",
            "_model_module_version": "1.2.0",
            "_model_name": "LayoutModel",
            "_view_count": null,
            "_view_module": "@jupyter-widgets/base",
            "_view_module_version": "1.2.0",
            "_view_name": "LayoutView",
            "align_content": null,
            "align_items": null,
            "align_self": null,
            "border": null,
            "bottom": null,
            "display": null,
            "flex": null,
            "flex_flow": null,
            "grid_area": null,
            "grid_auto_columns": null,
            "grid_auto_flow": null,
            "grid_auto_rows": null,
            "grid_column": null,
            "grid_gap": null,
            "grid_row": null,
            "grid_template_areas": null,
            "grid_template_columns": null,
            "grid_template_rows": null,
            "height": null,
            "justify_content": null,
            "justify_items": null,
            "left": null,
            "margin": null,
            "max_height": null,
            "max_width": null,
            "min_height": null,
            "min_width": null,
            "object_fit": null,
            "object_position": null,
            "order": null,
            "overflow": null,
            "overflow_x": null,
            "overflow_y": null,
            "padding": null,
            "right": null,
            "top": null,
            "visibility": null,
            "width": null
          }
        },
        "8283e2500e2444ff849b629d4658f3cc": {
          "model_module": "@jupyter-widgets/controls",
          "model_name": "ProgressStyleModel",
          "model_module_version": "1.5.0",
          "state": {
            "_model_module": "@jupyter-widgets/controls",
            "_model_module_version": "1.5.0",
            "_model_name": "ProgressStyleModel",
            "_view_count": null,
            "_view_module": "@jupyter-widgets/base",
            "_view_module_version": "1.2.0",
            "_view_name": "StyleView",
            "bar_color": null,
            "description_width": ""
          }
        },
        "68955e217caa4337aa629d10ee4647f4": {
          "model_module": "@jupyter-widgets/base",
          "model_name": "LayoutModel",
          "model_module_version": "1.2.0",
          "state": {
            "_model_module": "@jupyter-widgets/base",
            "_model_module_version": "1.2.0",
            "_model_name": "LayoutModel",
            "_view_count": null,
            "_view_module": "@jupyter-widgets/base",
            "_view_module_version": "1.2.0",
            "_view_name": "LayoutView",
            "align_content": null,
            "align_items": null,
            "align_self": null,
            "border": null,
            "bottom": null,
            "display": null,
            "flex": null,
            "flex_flow": null,
            "grid_area": null,
            "grid_auto_columns": null,
            "grid_auto_flow": null,
            "grid_auto_rows": null,
            "grid_column": null,
            "grid_gap": null,
            "grid_row": null,
            "grid_template_areas": null,
            "grid_template_columns": null,
            "grid_template_rows": null,
            "height": null,
            "justify_content": null,
            "justify_items": null,
            "left": null,
            "margin": null,
            "max_height": null,
            "max_width": null,
            "min_height": null,
            "min_width": null,
            "object_fit": null,
            "object_position": null,
            "order": null,
            "overflow": null,
            "overflow_x": null,
            "overflow_y": null,
            "padding": null,
            "right": null,
            "top": null,
            "visibility": null,
            "width": null
          }
        },
        "d83fddd8c67f489b86fa7b8859341664": {
          "model_module": "@jupyter-widgets/controls",
          "model_name": "DescriptionStyleModel",
          "model_module_version": "1.5.0",
          "state": {
            "_model_module": "@jupyter-widgets/controls",
            "_model_module_version": "1.5.0",
            "_model_name": "DescriptionStyleModel",
            "_view_count": null,
            "_view_module": "@jupyter-widgets/base",
            "_view_module_version": "1.2.0",
            "_view_name": "StyleView",
            "description_width": ""
          }
        },
        "a1bbf76196f34765a815cad4587888f0": {
          "model_module": "@jupyter-widgets/controls",
          "model_name": "HBoxModel",
          "model_module_version": "1.5.0",
          "state": {
            "_dom_classes": [],
            "_model_module": "@jupyter-widgets/controls",
            "_model_module_version": "1.5.0",
            "_model_name": "HBoxModel",
            "_view_count": null,
            "_view_module": "@jupyter-widgets/controls",
            "_view_module_version": "1.5.0",
            "_view_name": "HBoxView",
            "box_style": "",
            "children": [
              "IPY_MODEL_275e45fa609a4066a53d30bf9e28ffaa",
              "IPY_MODEL_d89631131a7842ffa4598cbd4a421feb",
              "IPY_MODEL_bce6b6efb8ec4ee893992ee920cba603"
            ],
            "layout": "IPY_MODEL_ca2c469a559642b3a3f16e4288e7783c"
          }
        },
        "275e45fa609a4066a53d30bf9e28ffaa": {
          "model_module": "@jupyter-widgets/controls",
          "model_name": "HTMLModel",
          "model_module_version": "1.5.0",
          "state": {
            "_dom_classes": [],
            "_model_module": "@jupyter-widgets/controls",
            "_model_module_version": "1.5.0",
            "_model_name": "HTMLModel",
            "_view_count": null,
            "_view_module": "@jupyter-widgets/controls",
            "_view_module_version": "1.5.0",
            "_view_name": "HTMLView",
            "description": "",
            "description_tooltip": null,
            "layout": "IPY_MODEL_b6f08c4522b342e696a06c3146a92b50",
            "placeholder": "​",
            "style": "IPY_MODEL_55edcd1955234bcda0c5fa30c0c3e590",
            "value": "100%"
          }
        },
        "d89631131a7842ffa4598cbd4a421feb": {
          "model_module": "@jupyter-widgets/controls",
          "model_name": "FloatProgressModel",
          "model_module_version": "1.5.0",
          "state": {
            "_dom_classes": [],
            "_model_module": "@jupyter-widgets/controls",
            "_model_module_version": "1.5.0",
            "_model_name": "FloatProgressModel",
            "_view_count": null,
            "_view_module": "@jupyter-widgets/controls",
            "_view_module_version": "1.5.0",
            "_view_name": "ProgressView",
            "bar_style": "success",
            "description": "",
            "description_tooltip": null,
            "layout": "IPY_MODEL_f2ac60cadc5c4df2bcc43ef49ca872cb",
            "max": 3,
            "min": 0,
            "orientation": "horizontal",
            "style": "IPY_MODEL_782b30f2f7904c24bff1d928a40f6f6c",
            "value": 3
          }
        },
        "bce6b6efb8ec4ee893992ee920cba603": {
          "model_module": "@jupyter-widgets/controls",
          "model_name": "HTMLModel",
          "model_module_version": "1.5.0",
          "state": {
            "_dom_classes": [],
            "_model_module": "@jupyter-widgets/controls",
            "_model_module_version": "1.5.0",
            "_model_name": "HTMLModel",
            "_view_count": null,
            "_view_module": "@jupyter-widgets/controls",
            "_view_module_version": "1.5.0",
            "_view_name": "HTMLView",
            "description": "",
            "description_tooltip": null,
            "layout": "IPY_MODEL_23fad06540824f47ac92eb9f882a4f68",
            "placeholder": "​",
            "style": "IPY_MODEL_a105d4df54034c61b36e3f97dc3764a9",
            "value": " 3/3 [00:35&lt;00:00, 11.73s/it]"
          }
        },
        "ca2c469a559642b3a3f16e4288e7783c": {
          "model_module": "@jupyter-widgets/base",
          "model_name": "LayoutModel",
          "model_module_version": "1.2.0",
          "state": {
            "_model_module": "@jupyter-widgets/base",
            "_model_module_version": "1.2.0",
            "_model_name": "LayoutModel",
            "_view_count": null,
            "_view_module": "@jupyter-widgets/base",
            "_view_module_version": "1.2.0",
            "_view_name": "LayoutView",
            "align_content": null,
            "align_items": null,
            "align_self": null,
            "border": null,
            "bottom": null,
            "display": null,
            "flex": null,
            "flex_flow": null,
            "grid_area": null,
            "grid_auto_columns": null,
            "grid_auto_flow": null,
            "grid_auto_rows": null,
            "grid_column": null,
            "grid_gap": null,
            "grid_row": null,
            "grid_template_areas": null,
            "grid_template_columns": null,
            "grid_template_rows": null,
            "height": null,
            "justify_content": null,
            "justify_items": null,
            "left": null,
            "margin": null,
            "max_height": null,
            "max_width": null,
            "min_height": null,
            "min_width": null,
            "object_fit": null,
            "object_position": null,
            "order": null,
            "overflow": null,
            "overflow_x": null,
            "overflow_y": null,
            "padding": null,
            "right": null,
            "top": null,
            "visibility": null,
            "width": null
          }
        },
        "b6f08c4522b342e696a06c3146a92b50": {
          "model_module": "@jupyter-widgets/base",
          "model_name": "LayoutModel",
          "model_module_version": "1.2.0",
          "state": {
            "_model_module": "@jupyter-widgets/base",
            "_model_module_version": "1.2.0",
            "_model_name": "LayoutModel",
            "_view_count": null,
            "_view_module": "@jupyter-widgets/base",
            "_view_module_version": "1.2.0",
            "_view_name": "LayoutView",
            "align_content": null,
            "align_items": null,
            "align_self": null,
            "border": null,
            "bottom": null,
            "display": null,
            "flex": null,
            "flex_flow": null,
            "grid_area": null,
            "grid_auto_columns": null,
            "grid_auto_flow": null,
            "grid_auto_rows": null,
            "grid_column": null,
            "grid_gap": null,
            "grid_row": null,
            "grid_template_areas": null,
            "grid_template_columns": null,
            "grid_template_rows": null,
            "height": null,
            "justify_content": null,
            "justify_items": null,
            "left": null,
            "margin": null,
            "max_height": null,
            "max_width": null,
            "min_height": null,
            "min_width": null,
            "object_fit": null,
            "object_position": null,
            "order": null,
            "overflow": null,
            "overflow_x": null,
            "overflow_y": null,
            "padding": null,
            "right": null,
            "top": null,
            "visibility": null,
            "width": null
          }
        },
        "55edcd1955234bcda0c5fa30c0c3e590": {
          "model_module": "@jupyter-widgets/controls",
          "model_name": "DescriptionStyleModel",
          "model_module_version": "1.5.0",
          "state": {
            "_model_module": "@jupyter-widgets/controls",
            "_model_module_version": "1.5.0",
            "_model_name": "DescriptionStyleModel",
            "_view_count": null,
            "_view_module": "@jupyter-widgets/base",
            "_view_module_version": "1.2.0",
            "_view_name": "StyleView",
            "description_width": ""
          }
        },
        "f2ac60cadc5c4df2bcc43ef49ca872cb": {
          "model_module": "@jupyter-widgets/base",
          "model_name": "LayoutModel",
          "model_module_version": "1.2.0",
          "state": {
            "_model_module": "@jupyter-widgets/base",
            "_model_module_version": "1.2.0",
            "_model_name": "LayoutModel",
            "_view_count": null,
            "_view_module": "@jupyter-widgets/base",
            "_view_module_version": "1.2.0",
            "_view_name": "LayoutView",
            "align_content": null,
            "align_items": null,
            "align_self": null,
            "border": null,
            "bottom": null,
            "display": null,
            "flex": null,
            "flex_flow": null,
            "grid_area": null,
            "grid_auto_columns": null,
            "grid_auto_flow": null,
            "grid_auto_rows": null,
            "grid_column": null,
            "grid_gap": null,
            "grid_row": null,
            "grid_template_areas": null,
            "grid_template_columns": null,
            "grid_template_rows": null,
            "height": null,
            "justify_content": null,
            "justify_items": null,
            "left": null,
            "margin": null,
            "max_height": null,
            "max_width": null,
            "min_height": null,
            "min_width": null,
            "object_fit": null,
            "object_position": null,
            "order": null,
            "overflow": null,
            "overflow_x": null,
            "overflow_y": null,
            "padding": null,
            "right": null,
            "top": null,
            "visibility": null,
            "width": null
          }
        },
        "782b30f2f7904c24bff1d928a40f6f6c": {
          "model_module": "@jupyter-widgets/controls",
          "model_name": "ProgressStyleModel",
          "model_module_version": "1.5.0",
          "state": {
            "_model_module": "@jupyter-widgets/controls",
            "_model_module_version": "1.5.0",
            "_model_name": "ProgressStyleModel",
            "_view_count": null,
            "_view_module": "@jupyter-widgets/base",
            "_view_module_version": "1.2.0",
            "_view_name": "StyleView",
            "bar_color": null,
            "description_width": ""
          }
        },
        "23fad06540824f47ac92eb9f882a4f68": {
          "model_module": "@jupyter-widgets/base",
          "model_name": "LayoutModel",
          "model_module_version": "1.2.0",
          "state": {
            "_model_module": "@jupyter-widgets/base",
            "_model_module_version": "1.2.0",
            "_model_name": "LayoutModel",
            "_view_count": null,
            "_view_module": "@jupyter-widgets/base",
            "_view_module_version": "1.2.0",
            "_view_name": "LayoutView",
            "align_content": null,
            "align_items": null,
            "align_self": null,
            "border": null,
            "bottom": null,
            "display": null,
            "flex": null,
            "flex_flow": null,
            "grid_area": null,
            "grid_auto_columns": null,
            "grid_auto_flow": null,
            "grid_auto_rows": null,
            "grid_column": null,
            "grid_gap": null,
            "grid_row": null,
            "grid_template_areas": null,
            "grid_template_columns": null,
            "grid_template_rows": null,
            "height": null,
            "justify_content": null,
            "justify_items": null,
            "left": null,
            "margin": null,
            "max_height": null,
            "max_width": null,
            "min_height": null,
            "min_width": null,
            "object_fit": null,
            "object_position": null,
            "order": null,
            "overflow": null,
            "overflow_x": null,
            "overflow_y": null,
            "padding": null,
            "right": null,
            "top": null,
            "visibility": null,
            "width": null
          }
        },
        "a105d4df54034c61b36e3f97dc3764a9": {
          "model_module": "@jupyter-widgets/controls",
          "model_name": "DescriptionStyleModel",
          "model_module_version": "1.5.0",
          "state": {
            "_model_module": "@jupyter-widgets/controls",
            "_model_module_version": "1.5.0",
            "_model_name": "DescriptionStyleModel",
            "_view_count": null,
            "_view_module": "@jupyter-widgets/base",
            "_view_module_version": "1.2.0",
            "_view_name": "StyleView",
            "description_width": ""
          }
        },
        "b7074d01f42346b9bd6fe8497a5914f4": {
          "model_module": "@jupyter-widgets/controls",
          "model_name": "HBoxModel",
          "model_module_version": "1.5.0",
          "state": {
            "_dom_classes": [],
            "_model_module": "@jupyter-widgets/controls",
            "_model_module_version": "1.5.0",
            "_model_name": "HBoxModel",
            "_view_count": null,
            "_view_module": "@jupyter-widgets/controls",
            "_view_module_version": "1.5.0",
            "_view_name": "HBoxView",
            "box_style": "",
            "children": [
              "IPY_MODEL_a1971ac3221b4f05acdd888510b165aa",
              "IPY_MODEL_7e7815cccfce4c93a99d524d2d553c8d",
              "IPY_MODEL_564d244675064068994c237b71c809ad"
            ],
            "layout": "IPY_MODEL_cd72869b3ee24304a0d2245916e4c60a"
          }
        },
        "a1971ac3221b4f05acdd888510b165aa": {
          "model_module": "@jupyter-widgets/controls",
          "model_name": "HTMLModel",
          "model_module_version": "1.5.0",
          "state": {
            "_dom_classes": [],
            "_model_module": "@jupyter-widgets/controls",
            "_model_module_version": "1.5.0",
            "_model_name": "HTMLModel",
            "_view_count": null,
            "_view_module": "@jupyter-widgets/controls",
            "_view_module_version": "1.5.0",
            "_view_name": "HTMLView",
            "description": "",
            "description_tooltip": null,
            "layout": "IPY_MODEL_3519f19780454e5e909e468d562fd974",
            "placeholder": "​",
            "style": "IPY_MODEL_ae810cf48827444abc439af7bff07111",
            "value": "100%"
          }
        },
        "7e7815cccfce4c93a99d524d2d553c8d": {
          "model_module": "@jupyter-widgets/controls",
          "model_name": "FloatProgressModel",
          "model_module_version": "1.5.0",
          "state": {
            "_dom_classes": [],
            "_model_module": "@jupyter-widgets/controls",
            "_model_module_version": "1.5.0",
            "_model_name": "FloatProgressModel",
            "_view_count": null,
            "_view_module": "@jupyter-widgets/controls",
            "_view_module_version": "1.5.0",
            "_view_name": "ProgressView",
            "bar_style": "success",
            "description": "",
            "description_tooltip": null,
            "layout": "IPY_MODEL_d01c1830933649f786b9e3e27532d3ec",
            "max": 313,
            "min": 0,
            "orientation": "horizontal",
            "style": "IPY_MODEL_c362f29fc80a450a853e45542b9ffd62",
            "value": 313
          }
        },
        "564d244675064068994c237b71c809ad": {
          "model_module": "@jupyter-widgets/controls",
          "model_name": "HTMLModel",
          "model_module_version": "1.5.0",
          "state": {
            "_dom_classes": [],
            "_model_module": "@jupyter-widgets/controls",
            "_model_module_version": "1.5.0",
            "_model_name": "HTMLModel",
            "_view_count": null,
            "_view_module": "@jupyter-widgets/controls",
            "_view_module_version": "1.5.0",
            "_view_name": "HTMLView",
            "description": "",
            "description_tooltip": null,
            "layout": "IPY_MODEL_b3501ffb1f864a9394bd6ca429452874",
            "placeholder": "​",
            "style": "IPY_MODEL_af05ca6c34ea499d9649c72997fd00e6",
            "value": " 313/313 [00:01&lt;00:00, 274.64it/s]"
          }
        },
        "cd72869b3ee24304a0d2245916e4c60a": {
          "model_module": "@jupyter-widgets/base",
          "model_name": "LayoutModel",
          "model_module_version": "1.2.0",
          "state": {
            "_model_module": "@jupyter-widgets/base",
            "_model_module_version": "1.2.0",
            "_model_name": "LayoutModel",
            "_view_count": null,
            "_view_module": "@jupyter-widgets/base",
            "_view_module_version": "1.2.0",
            "_view_name": "LayoutView",
            "align_content": null,
            "align_items": null,
            "align_self": null,
            "border": null,
            "bottom": null,
            "display": null,
            "flex": null,
            "flex_flow": null,
            "grid_area": null,
            "grid_auto_columns": null,
            "grid_auto_flow": null,
            "grid_auto_rows": null,
            "grid_column": null,
            "grid_gap": null,
            "grid_row": null,
            "grid_template_areas": null,
            "grid_template_columns": null,
            "grid_template_rows": null,
            "height": null,
            "justify_content": null,
            "justify_items": null,
            "left": null,
            "margin": null,
            "max_height": null,
            "max_width": null,
            "min_height": null,
            "min_width": null,
            "object_fit": null,
            "object_position": null,
            "order": null,
            "overflow": null,
            "overflow_x": null,
            "overflow_y": null,
            "padding": null,
            "right": null,
            "top": null,
            "visibility": null,
            "width": null
          }
        },
        "3519f19780454e5e909e468d562fd974": {
          "model_module": "@jupyter-widgets/base",
          "model_name": "LayoutModel",
          "model_module_version": "1.2.0",
          "state": {
            "_model_module": "@jupyter-widgets/base",
            "_model_module_version": "1.2.0",
            "_model_name": "LayoutModel",
            "_view_count": null,
            "_view_module": "@jupyter-widgets/base",
            "_view_module_version": "1.2.0",
            "_view_name": "LayoutView",
            "align_content": null,
            "align_items": null,
            "align_self": null,
            "border": null,
            "bottom": null,
            "display": null,
            "flex": null,
            "flex_flow": null,
            "grid_area": null,
            "grid_auto_columns": null,
            "grid_auto_flow": null,
            "grid_auto_rows": null,
            "grid_column": null,
            "grid_gap": null,
            "grid_row": null,
            "grid_template_areas": null,
            "grid_template_columns": null,
            "grid_template_rows": null,
            "height": null,
            "justify_content": null,
            "justify_items": null,
            "left": null,
            "margin": null,
            "max_height": null,
            "max_width": null,
            "min_height": null,
            "min_width": null,
            "object_fit": null,
            "object_position": null,
            "order": null,
            "overflow": null,
            "overflow_x": null,
            "overflow_y": null,
            "padding": null,
            "right": null,
            "top": null,
            "visibility": null,
            "width": null
          }
        },
        "ae810cf48827444abc439af7bff07111": {
          "model_module": "@jupyter-widgets/controls",
          "model_name": "DescriptionStyleModel",
          "model_module_version": "1.5.0",
          "state": {
            "_model_module": "@jupyter-widgets/controls",
            "_model_module_version": "1.5.0",
            "_model_name": "DescriptionStyleModel",
            "_view_count": null,
            "_view_module": "@jupyter-widgets/base",
            "_view_module_version": "1.2.0",
            "_view_name": "StyleView",
            "description_width": ""
          }
        },
        "d01c1830933649f786b9e3e27532d3ec": {
          "model_module": "@jupyter-widgets/base",
          "model_name": "LayoutModel",
          "model_module_version": "1.2.0",
          "state": {
            "_model_module": "@jupyter-widgets/base",
            "_model_module_version": "1.2.0",
            "_model_name": "LayoutModel",
            "_view_count": null,
            "_view_module": "@jupyter-widgets/base",
            "_view_module_version": "1.2.0",
            "_view_name": "LayoutView",
            "align_content": null,
            "align_items": null,
            "align_self": null,
            "border": null,
            "bottom": null,
            "display": null,
            "flex": null,
            "flex_flow": null,
            "grid_area": null,
            "grid_auto_columns": null,
            "grid_auto_flow": null,
            "grid_auto_rows": null,
            "grid_column": null,
            "grid_gap": null,
            "grid_row": null,
            "grid_template_areas": null,
            "grid_template_columns": null,
            "grid_template_rows": null,
            "height": null,
            "justify_content": null,
            "justify_items": null,
            "left": null,
            "margin": null,
            "max_height": null,
            "max_width": null,
            "min_height": null,
            "min_width": null,
            "object_fit": null,
            "object_position": null,
            "order": null,
            "overflow": null,
            "overflow_x": null,
            "overflow_y": null,
            "padding": null,
            "right": null,
            "top": null,
            "visibility": null,
            "width": null
          }
        },
        "c362f29fc80a450a853e45542b9ffd62": {
          "model_module": "@jupyter-widgets/controls",
          "model_name": "ProgressStyleModel",
          "model_module_version": "1.5.0",
          "state": {
            "_model_module": "@jupyter-widgets/controls",
            "_model_module_version": "1.5.0",
            "_model_name": "ProgressStyleModel",
            "_view_count": null,
            "_view_module": "@jupyter-widgets/base",
            "_view_module_version": "1.2.0",
            "_view_name": "StyleView",
            "bar_color": null,
            "description_width": ""
          }
        },
        "b3501ffb1f864a9394bd6ca429452874": {
          "model_module": "@jupyter-widgets/base",
          "model_name": "LayoutModel",
          "model_module_version": "1.2.0",
          "state": {
            "_model_module": "@jupyter-widgets/base",
            "_model_module_version": "1.2.0",
            "_model_name": "LayoutModel",
            "_view_count": null,
            "_view_module": "@jupyter-widgets/base",
            "_view_module_version": "1.2.0",
            "_view_name": "LayoutView",
            "align_content": null,
            "align_items": null,
            "align_self": null,
            "border": null,
            "bottom": null,
            "display": null,
            "flex": null,
            "flex_flow": null,
            "grid_area": null,
            "grid_auto_columns": null,
            "grid_auto_flow": null,
            "grid_auto_rows": null,
            "grid_column": null,
            "grid_gap": null,
            "grid_row": null,
            "grid_template_areas": null,
            "grid_template_columns": null,
            "grid_template_rows": null,
            "height": null,
            "justify_content": null,
            "justify_items": null,
            "left": null,
            "margin": null,
            "max_height": null,
            "max_width": null,
            "min_height": null,
            "min_width": null,
            "object_fit": null,
            "object_position": null,
            "order": null,
            "overflow": null,
            "overflow_x": null,
            "overflow_y": null,
            "padding": null,
            "right": null,
            "top": null,
            "visibility": null,
            "width": null
          }
        },
        "af05ca6c34ea499d9649c72997fd00e6": {
          "model_module": "@jupyter-widgets/controls",
          "model_name": "DescriptionStyleModel",
          "model_module_version": "1.5.0",
          "state": {
            "_model_module": "@jupyter-widgets/controls",
            "_model_module_version": "1.5.0",
            "_model_name": "DescriptionStyleModel",
            "_view_count": null,
            "_view_module": "@jupyter-widgets/base",
            "_view_module_version": "1.2.0",
            "_view_name": "StyleView",
            "description_width": ""
          }
        },
        "0aa370197158419386b8c5f6c7a4b0cb": {
          "model_module": "@jupyter-widgets/controls",
          "model_name": "HBoxModel",
          "model_module_version": "1.5.0",
          "state": {
            "_dom_classes": [],
            "_model_module": "@jupyter-widgets/controls",
            "_model_module_version": "1.5.0",
            "_model_name": "HBoxModel",
            "_view_count": null,
            "_view_module": "@jupyter-widgets/controls",
            "_view_module_version": "1.5.0",
            "_view_name": "HBoxView",
            "box_style": "",
            "children": [
              "IPY_MODEL_8e614b5d76c5492c81db8066ab774f09",
              "IPY_MODEL_d924f6da559140b1abe5889fdfa5b3f0",
              "IPY_MODEL_5ca897d769a94c599df0eef95185ba42"
            ],
            "layout": "IPY_MODEL_cefe1bb4a8434f97a018752b724d8fc7"
          }
        },
        "8e614b5d76c5492c81db8066ab774f09": {
          "model_module": "@jupyter-widgets/controls",
          "model_name": "HTMLModel",
          "model_module_version": "1.5.0",
          "state": {
            "_dom_classes": [],
            "_model_module": "@jupyter-widgets/controls",
            "_model_module_version": "1.5.0",
            "_model_name": "HTMLModel",
            "_view_count": null,
            "_view_module": "@jupyter-widgets/controls",
            "_view_module_version": "1.5.0",
            "_view_name": "HTMLView",
            "description": "",
            "description_tooltip": null,
            "layout": "IPY_MODEL_46a91dee54194de3b89f3220b9c334fd",
            "placeholder": "​",
            "style": "IPY_MODEL_f39566685a604c759f6ad95d5d122c31",
            "value": "100%"
          }
        },
        "d924f6da559140b1abe5889fdfa5b3f0": {
          "model_module": "@jupyter-widgets/controls",
          "model_name": "FloatProgressModel",
          "model_module_version": "1.5.0",
          "state": {
            "_dom_classes": [],
            "_model_module": "@jupyter-widgets/controls",
            "_model_module_version": "1.5.0",
            "_model_name": "FloatProgressModel",
            "_view_count": null,
            "_view_module": "@jupyter-widgets/controls",
            "_view_module_version": "1.5.0",
            "_view_name": "ProgressView",
            "bar_style": "success",
            "description": "",
            "description_tooltip": null,
            "layout": "IPY_MODEL_6dce13efb9b74e38a91c4734f07d2d86",
            "max": 313,
            "min": 0,
            "orientation": "horizontal",
            "style": "IPY_MODEL_c62002d8eda6457481f6be0725837138",
            "value": 313
          }
        },
        "5ca897d769a94c599df0eef95185ba42": {
          "model_module": "@jupyter-widgets/controls",
          "model_name": "HTMLModel",
          "model_module_version": "1.5.0",
          "state": {
            "_dom_classes": [],
            "_model_module": "@jupyter-widgets/controls",
            "_model_module_version": "1.5.0",
            "_model_name": "HTMLModel",
            "_view_count": null,
            "_view_module": "@jupyter-widgets/controls",
            "_view_module_version": "1.5.0",
            "_view_name": "HTMLView",
            "description": "",
            "description_tooltip": null,
            "layout": "IPY_MODEL_86c829a5e63c45a0a8d9871cb3ae24ab",
            "placeholder": "​",
            "style": "IPY_MODEL_fc14ced23d814f2ea531a39c87f251eb",
            "value": " 313/313 [00:01&lt;00:00, 130.97it/s]"
          }
        },
        "cefe1bb4a8434f97a018752b724d8fc7": {
          "model_module": "@jupyter-widgets/base",
          "model_name": "LayoutModel",
          "model_module_version": "1.2.0",
          "state": {
            "_model_module": "@jupyter-widgets/base",
            "_model_module_version": "1.2.0",
            "_model_name": "LayoutModel",
            "_view_count": null,
            "_view_module": "@jupyter-widgets/base",
            "_view_module_version": "1.2.0",
            "_view_name": "LayoutView",
            "align_content": null,
            "align_items": null,
            "align_self": null,
            "border": null,
            "bottom": null,
            "display": null,
            "flex": null,
            "flex_flow": null,
            "grid_area": null,
            "grid_auto_columns": null,
            "grid_auto_flow": null,
            "grid_auto_rows": null,
            "grid_column": null,
            "grid_gap": null,
            "grid_row": null,
            "grid_template_areas": null,
            "grid_template_columns": null,
            "grid_template_rows": null,
            "height": null,
            "justify_content": null,
            "justify_items": null,
            "left": null,
            "margin": null,
            "max_height": null,
            "max_width": null,
            "min_height": null,
            "min_width": null,
            "object_fit": null,
            "object_position": null,
            "order": null,
            "overflow": null,
            "overflow_x": null,
            "overflow_y": null,
            "padding": null,
            "right": null,
            "top": null,
            "visibility": null,
            "width": null
          }
        },
        "46a91dee54194de3b89f3220b9c334fd": {
          "model_module": "@jupyter-widgets/base",
          "model_name": "LayoutModel",
          "model_module_version": "1.2.0",
          "state": {
            "_model_module": "@jupyter-widgets/base",
            "_model_module_version": "1.2.0",
            "_model_name": "LayoutModel",
            "_view_count": null,
            "_view_module": "@jupyter-widgets/base",
            "_view_module_version": "1.2.0",
            "_view_name": "LayoutView",
            "align_content": null,
            "align_items": null,
            "align_self": null,
            "border": null,
            "bottom": null,
            "display": null,
            "flex": null,
            "flex_flow": null,
            "grid_area": null,
            "grid_auto_columns": null,
            "grid_auto_flow": null,
            "grid_auto_rows": null,
            "grid_column": null,
            "grid_gap": null,
            "grid_row": null,
            "grid_template_areas": null,
            "grid_template_columns": null,
            "grid_template_rows": null,
            "height": null,
            "justify_content": null,
            "justify_items": null,
            "left": null,
            "margin": null,
            "max_height": null,
            "max_width": null,
            "min_height": null,
            "min_width": null,
            "object_fit": null,
            "object_position": null,
            "order": null,
            "overflow": null,
            "overflow_x": null,
            "overflow_y": null,
            "padding": null,
            "right": null,
            "top": null,
            "visibility": null,
            "width": null
          }
        },
        "f39566685a604c759f6ad95d5d122c31": {
          "model_module": "@jupyter-widgets/controls",
          "model_name": "DescriptionStyleModel",
          "model_module_version": "1.5.0",
          "state": {
            "_model_module": "@jupyter-widgets/controls",
            "_model_module_version": "1.5.0",
            "_model_name": "DescriptionStyleModel",
            "_view_count": null,
            "_view_module": "@jupyter-widgets/base",
            "_view_module_version": "1.2.0",
            "_view_name": "StyleView",
            "description_width": ""
          }
        },
        "6dce13efb9b74e38a91c4734f07d2d86": {
          "model_module": "@jupyter-widgets/base",
          "model_name": "LayoutModel",
          "model_module_version": "1.2.0",
          "state": {
            "_model_module": "@jupyter-widgets/base",
            "_model_module_version": "1.2.0",
            "_model_name": "LayoutModel",
            "_view_count": null,
            "_view_module": "@jupyter-widgets/base",
            "_view_module_version": "1.2.0",
            "_view_name": "LayoutView",
            "align_content": null,
            "align_items": null,
            "align_self": null,
            "border": null,
            "bottom": null,
            "display": null,
            "flex": null,
            "flex_flow": null,
            "grid_area": null,
            "grid_auto_columns": null,
            "grid_auto_flow": null,
            "grid_auto_rows": null,
            "grid_column": null,
            "grid_gap": null,
            "grid_row": null,
            "grid_template_areas": null,
            "grid_template_columns": null,
            "grid_template_rows": null,
            "height": null,
            "justify_content": null,
            "justify_items": null,
            "left": null,
            "margin": null,
            "max_height": null,
            "max_width": null,
            "min_height": null,
            "min_width": null,
            "object_fit": null,
            "object_position": null,
            "order": null,
            "overflow": null,
            "overflow_x": null,
            "overflow_y": null,
            "padding": null,
            "right": null,
            "top": null,
            "visibility": null,
            "width": null
          }
        },
        "c62002d8eda6457481f6be0725837138": {
          "model_module": "@jupyter-widgets/controls",
          "model_name": "ProgressStyleModel",
          "model_module_version": "1.5.0",
          "state": {
            "_model_module": "@jupyter-widgets/controls",
            "_model_module_version": "1.5.0",
            "_model_name": "ProgressStyleModel",
            "_view_count": null,
            "_view_module": "@jupyter-widgets/base",
            "_view_module_version": "1.2.0",
            "_view_name": "StyleView",
            "bar_color": null,
            "description_width": ""
          }
        },
        "86c829a5e63c45a0a8d9871cb3ae24ab": {
          "model_module": "@jupyter-widgets/base",
          "model_name": "LayoutModel",
          "model_module_version": "1.2.0",
          "state": {
            "_model_module": "@jupyter-widgets/base",
            "_model_module_version": "1.2.0",
            "_model_name": "LayoutModel",
            "_view_count": null,
            "_view_module": "@jupyter-widgets/base",
            "_view_module_version": "1.2.0",
            "_view_name": "LayoutView",
            "align_content": null,
            "align_items": null,
            "align_self": null,
            "border": null,
            "bottom": null,
            "display": null,
            "flex": null,
            "flex_flow": null,
            "grid_area": null,
            "grid_auto_columns": null,
            "grid_auto_flow": null,
            "grid_auto_rows": null,
            "grid_column": null,
            "grid_gap": null,
            "grid_row": null,
            "grid_template_areas": null,
            "grid_template_columns": null,
            "grid_template_rows": null,
            "height": null,
            "justify_content": null,
            "justify_items": null,
            "left": null,
            "margin": null,
            "max_height": null,
            "max_width": null,
            "min_height": null,
            "min_width": null,
            "object_fit": null,
            "object_position": null,
            "order": null,
            "overflow": null,
            "overflow_x": null,
            "overflow_y": null,
            "padding": null,
            "right": null,
            "top": null,
            "visibility": null,
            "width": null
          }
        },
        "fc14ced23d814f2ea531a39c87f251eb": {
          "model_module": "@jupyter-widgets/controls",
          "model_name": "DescriptionStyleModel",
          "model_module_version": "1.5.0",
          "state": {
            "_model_module": "@jupyter-widgets/controls",
            "_model_module_version": "1.5.0",
            "_model_name": "DescriptionStyleModel",
            "_view_count": null,
            "_view_module": "@jupyter-widgets/base",
            "_view_module_version": "1.2.0",
            "_view_name": "StyleView",
            "description_width": ""
          }
        }
      }
    }
  },
  "nbformat": 4,
  "nbformat_minor": 0
}