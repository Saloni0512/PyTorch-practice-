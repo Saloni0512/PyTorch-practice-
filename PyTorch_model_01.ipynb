{
  "nbformat": 4,
  "nbformat_minor": 0,
  "metadata": {
    "colab": {
      "provenance": [],
      "collapsed_sections": [
        "shDe2YcY7J8I"
      ],
      "authorship_tag": "ABX9TyNCW2L7EoSMpdwjHHOO36oD",
      "include_colab_link": true
    },
    "kernelspec": {
      "name": "python3",
      "display_name": "Python 3"
    },
    "language_info": {
      "name": "python"
    }
  },
  "cells": [
    {
      "cell_type": "markdown",
      "metadata": {
        "id": "view-in-github",
        "colab_type": "text"
      },
      "source": [
        "<a href=\"https://colab.research.google.com/github/Saloni0512/PyTorch-practice-/blob/main/PyTorch_model_01.ipynb\" target=\"_parent\"><img src=\"https://colab.research.google.com/assets/colab-badge.svg\" alt=\"Open In Colab\"/></a>"
      ]
    },
    {
      "cell_type": "markdown",
      "source": [
        "Machine learning practice"
      ],
      "metadata": {
        "id": "AX5wZLe9YKYW"
      }
    },
    {
      "cell_type": "code",
      "source": [
        "\n",
        "import pandas as pd\n",
        "import torch\n",
        "import numpy as np\n",
        "\n"
      ],
      "metadata": {
        "id": "R57BIW3xYUCC"
      },
      "execution_count": null,
      "outputs": []
    },
    {
      "cell_type": "code",
      "source": [
        "!nvidia-smi"
      ],
      "metadata": {
        "id": "guHNe1YOZAHQ",
        "colab": {
          "base_uri": "https://localhost:8080/"
        },
        "outputId": "3220c8ba-b4bf-47db-a75a-f2cd3b4acca2"
      },
      "execution_count": null,
      "outputs": [
        {
          "output_type": "stream",
          "name": "stdout",
          "text": [
            "/bin/bash: line 1: nvidia-smi: command not found\n"
          ]
        }
      ]
    },
    {
      "cell_type": "code",
      "source": [
        "torch.cuda.is_available()"
      ],
      "metadata": {
        "colab": {
          "base_uri": "https://localhost:8080/"
        },
        "id": "UCqDEGGK3vqQ",
        "outputId": "ebd406fe-6ace-419e-f135-c54ecb2681b8"
      },
      "execution_count": null,
      "outputs": [
        {
          "output_type": "execute_result",
          "data": {
            "text/plain": [
              "False"
            ]
          },
          "metadata": {},
          "execution_count": 138
        }
      ]
    },
    {
      "cell_type": "code",
      "source": [
        "device = \"cuda\" if torch.cuda.is_available() else \"cpu\"\n",
        "device"
      ],
      "metadata": {
        "colab": {
          "base_uri": "https://localhost:8080/",
          "height": 35
        },
        "id": "iHz6sV144HX4",
        "outputId": "5b1cc20f-bfff-4be1-f1b2-7d02115705fa"
      },
      "execution_count": null,
      "outputs": [
        {
          "output_type": "execute_result",
          "data": {
            "text/plain": [
              "'cpu'"
            ],
            "application/vnd.google.colaboratory.intrinsic+json": {
              "type": "string"
            }
          },
          "metadata": {},
          "execution_count": 139
        }
      ]
    },
    {
      "cell_type": "code",
      "source": [
        "torch.cuda.device_count()"
      ],
      "metadata": {
        "colab": {
          "base_uri": "https://localhost:8080/"
        },
        "id": "JSpu4-OC4Y7b",
        "outputId": "5ce915b8-0b7f-4aad-91a2-3d4bdfd1a476"
      },
      "execution_count": null,
      "outputs": [
        {
          "output_type": "execute_result",
          "data": {
            "text/plain": [
              "0"
            ]
          },
          "metadata": {},
          "execution_count": 140
        }
      ]
    },
    {
      "cell_type": "code",
      "source": [
        "a_tensor = torch.tensor([10,10,30,40,10,60])\n",
        "a_tensor\n",
        "a_tensor.shape"
      ],
      "metadata": {
        "id": "uyVpsiYw4isn",
        "colab": {
          "base_uri": "https://localhost:8080/"
        },
        "outputId": "b4cedc70-a21b-4c52-b284-5948c11a28e8"
      },
      "execution_count": null,
      "outputs": [
        {
          "output_type": "execute_result",
          "data": {
            "text/plain": [
              "torch.Size([6])"
            ]
          },
          "metadata": {},
          "execution_count": 141
        }
      ]
    },
    {
      "cell_type": "markdown",
      "source": [
        "## pytorch play"
      ],
      "metadata": {
        "id": "shDe2YcY7J8I"
      }
    },
    {
      "cell_type": "code",
      "source": [
        "random_tensor_a = torch.rand(7,7)\n",
        "random_tensor_a"
      ],
      "metadata": {
        "colab": {
          "base_uri": "https://localhost:8080/"
        },
        "id": "_xTo_E4D7Yqv",
        "outputId": "3b009868-54aa-409f-9ccf-12f24470e839"
      },
      "execution_count": null,
      "outputs": [
        {
          "output_type": "execute_result",
          "data": {
            "text/plain": [
              "tensor([[0.8823, 0.9150, 0.3829, 0.9593, 0.3904, 0.6009, 0.2566],\n",
              "        [0.7936, 0.9408, 0.1332, 0.9346, 0.5936, 0.8694, 0.5677],\n",
              "        [0.7411, 0.4294, 0.8854, 0.5739, 0.2666, 0.6274, 0.2696],\n",
              "        [0.4414, 0.2969, 0.8317, 0.1053, 0.2695, 0.3588, 0.1994],\n",
              "        [0.5472, 0.0062, 0.9516, 0.0753, 0.8860, 0.5832, 0.3376],\n",
              "        [0.8090, 0.5779, 0.9040, 0.5547, 0.3423, 0.6343, 0.3644],\n",
              "        [0.7104, 0.9464, 0.7890, 0.2814, 0.7886, 0.5895, 0.7539]])"
            ]
          },
          "metadata": {},
          "execution_count": 142
        }
      ]
    },
    {
      "cell_type": "code",
      "execution_count": null,
      "metadata": {
        "id": "5jtNEN3KWfzY",
        "colab": {
          "base_uri": "https://localhost:8080/"
        },
        "outputId": "3ecd8320-56e1-4d97-981e-c20d68690698"
      },
      "outputs": [
        {
          "output_type": "execute_result",
          "data": {
            "text/plain": [
              "tensor([[0.1952, 0.0050, 0.3068, 0.1165, 0.9103, 0.6440, 0.7071]])"
            ]
          },
          "metadata": {},
          "execution_count": 143
        }
      ],
      "source": [
        "random_tensor_b = torch.rand(1,7)\n",
        "random_tensor_b"
      ]
    },
    {
      "cell_type": "code",
      "source": [
        "new_tensor = torch.mm(random_tensor_a,random_tensor_b.T)\n",
        "new_tensor"
      ],
      "metadata": {
        "colab": {
          "base_uri": "https://localhost:8080/"
        },
        "id": "D_Saix-f4K_Q",
        "outputId": "99ccd637-df4e-4f2d-b8ea-dc5aa199792c"
      },
      "execution_count": null,
      "outputs": [
        {
          "output_type": "execute_result",
          "data": {
            "text/plain": [
              "tensor([[1.3299],\n",
              "        [1.8111],\n",
              "        [1.3228],\n",
              "        [0.9725],\n",
              "        [1.8285],\n",
              "        [1.4806],\n",
              "        [2.0489]])"
            ]
          },
          "metadata": {},
          "execution_count": 144
        }
      ]
    },
    {
      "cell_type": "code",
      "source": [
        "RANDOM_SEED = 0\n",
        "torch.manual_seed(RANDOM_SEED)\n",
        "random_tensor_c = torch.rand(7,7)\n",
        "random_tensor_c"
      ],
      "metadata": {
        "colab": {
          "base_uri": "https://localhost:8080/"
        },
        "id": "vrHU-4wq4csT",
        "outputId": "717dc76c-bd06-45f0-9e54-0f29b38f478c"
      },
      "execution_count": null,
      "outputs": [
        {
          "output_type": "execute_result",
          "data": {
            "text/plain": [
              "tensor([[0.4963, 0.7682, 0.0885, 0.1320, 0.3074, 0.6341, 0.4901],\n",
              "        [0.8964, 0.4556, 0.6323, 0.3489, 0.4017, 0.0223, 0.1689],\n",
              "        [0.2939, 0.5185, 0.6977, 0.8000, 0.1610, 0.2823, 0.6816],\n",
              "        [0.9152, 0.3971, 0.8742, 0.4194, 0.5529, 0.9527, 0.0362],\n",
              "        [0.1852, 0.3734, 0.3051, 0.9320, 0.1759, 0.2698, 0.1507],\n",
              "        [0.0317, 0.2081, 0.9298, 0.7231, 0.7423, 0.5263, 0.2437],\n",
              "        [0.5846, 0.0332, 0.1387, 0.2422, 0.8155, 0.7932, 0.2783]])"
            ]
          },
          "metadata": {},
          "execution_count": 145
        }
      ]
    },
    {
      "cell_type": "code",
      "source": [
        "RANDOM_SEED = 1234\n",
        "torch.manual_seed(RANDOM_SEED)\n",
        "tensor_d = torch.rand(2,3)\n",
        "tensor_e = torch.rand(2,3)\n",
        "\n",
        "tensor_d_on_gpu = tensor_d.to(device)\n",
        "tensor_e_on_gpu = tensor_e.to(device)\n",
        "\n",
        "tensor_d_on_gpu, tensor_e_on_gpu"
      ],
      "metadata": {
        "colab": {
          "base_uri": "https://localhost:8080/"
        },
        "id": "0dmSDdg55DFm",
        "outputId": "6f7af273-b840-43e8-8357-eb3c36a8e6aa"
      },
      "execution_count": null,
      "outputs": [
        {
          "output_type": "execute_result",
          "data": {
            "text/plain": [
              "(tensor([[0.0290, 0.4019, 0.2598],\n",
              "         [0.3666, 0.0583, 0.7006]]),\n",
              " tensor([[0.0518, 0.4681, 0.6738],\n",
              "         [0.3315, 0.7837, 0.5631]]))"
            ]
          },
          "metadata": {},
          "execution_count": 146
        }
      ]
    },
    {
      "cell_type": "code",
      "source": [
        "tensor_f = torch.mm(tensor_d_on_gpu,tensor_e_on_gpu.T)\n",
        "tensor_f"
      ],
      "metadata": {
        "colab": {
          "base_uri": "https://localhost:8080/"
        },
        "id": "4WyBOk5X7IxD",
        "outputId": "d44ae290-4962-4146-dede-27a714970841"
      },
      "execution_count": null,
      "outputs": [
        {
          "output_type": "execute_result",
          "data": {
            "text/plain": [
              "tensor([[0.3647, 0.4709],\n",
              "        [0.5184, 0.5617]])"
            ]
          },
          "metadata": {},
          "execution_count": 147
        }
      ]
    },
    {
      "cell_type": "code",
      "source": [
        "tensor_f.max(), tensor_f.min()"
      ],
      "metadata": {
        "colab": {
          "base_uri": "https://localhost:8080/"
        },
        "id": "q2RzN8-x7YGl",
        "outputId": "b9bea69b-832c-4044-aa1d-422eb94cfaab"
      },
      "execution_count": null,
      "outputs": [
        {
          "output_type": "execute_result",
          "data": {
            "text/plain": [
              "(tensor(0.5617), tensor(0.3647))"
            ]
          },
          "metadata": {},
          "execution_count": 148
        }
      ]
    },
    {
      "cell_type": "code",
      "source": [
        "new_tensor1 = torch.rand(3,4)\n",
        "new_tensor2 = torch.rand(4,3)\n",
        "mul_tensor = new_tensor1 @ new_tensor2\n",
        "print(f'mul_tensor is {mul_tensor}')\n",
        "print(f'mul_tensor shape is {mul_tensor.shape}')"
      ],
      "metadata": {
        "id": "96aLc6mTspOA",
        "colab": {
          "base_uri": "https://localhost:8080/"
        },
        "outputId": "74d2068a-9677-4c11-e35d-1b7749fa7d60"
      },
      "execution_count": null,
      "outputs": [
        {
          "output_type": "stream",
          "name": "stdout",
          "text": [
            "mul_tensor is tensor([[1.5447, 1.6681, 1.1516],\n",
            "        [0.9809, 1.1885, 0.9059],\n",
            "        [1.0980, 1.0989, 0.9400]])\n",
            "mul_tensor shape is torch.Size([3, 3])\n"
          ]
        }
      ]
    },
    {
      "cell_type": "code",
      "source": [],
      "metadata": {
        "id": "6kSi9P93srY2"
      },
      "execution_count": null,
      "outputs": []
    },
    {
      "cell_type": "markdown",
      "source": [
        "# A simple model in pytorch\n"
      ],
      "metadata": {
        "id": "q7PoBBi6Yl_z"
      }
    },
    {
      "cell_type": "code",
      "source": [
        "from torch import nn\n",
        "import matplotlib.pyplot as plt\n"
      ],
      "metadata": {
        "id": "YIVe0vwoYypk"
      },
      "execution_count": null,
      "outputs": []
    },
    {
      "cell_type": "markdown",
      "source": [
        "### 1. Data preparing and loading"
      ],
      "metadata": {
        "id": "pah5pbMpdrEF"
      }
    },
    {
      "cell_type": "code",
      "source": [
        "# Preparing a dataset using linear regression formula\n",
        "\n",
        "# Create *known* parameters\n",
        "weight = 0.7\n",
        "bias = 0.3\n",
        "\n",
        "start = 0\n",
        "end = 1\n",
        "step = 0.02\n",
        "X = torch.arange(start, end, step).unsqueeze(dim = 1)\n",
        "\n",
        "# target variable\n",
        "y = weight * X + bias\n",
        "\n",
        "X[:10], y[:10]"
      ],
      "metadata": {
        "colab": {
          "base_uri": "https://localhost:8080/"
        },
        "id": "cy1jbHY6eCj1",
        "outputId": "736dbfc4-c6ee-4479-c059-ca6019f5ad7e"
      },
      "execution_count": null,
      "outputs": [
        {
          "output_type": "execute_result",
          "data": {
            "text/plain": [
              "(tensor([[0.0000],\n",
              "         [0.0200],\n",
              "         [0.0400],\n",
              "         [0.0600],\n",
              "         [0.0800],\n",
              "         [0.1000],\n",
              "         [0.1200],\n",
              "         [0.1400],\n",
              "         [0.1600],\n",
              "         [0.1800]]),\n",
              " tensor([[0.3000],\n",
              "         [0.3140],\n",
              "         [0.3280],\n",
              "         [0.3420],\n",
              "         [0.3560],\n",
              "         [0.3700],\n",
              "         [0.3840],\n",
              "         [0.3980],\n",
              "         [0.4120],\n",
              "         [0.4260]]))"
            ]
          },
          "metadata": {},
          "execution_count": 3
        }
      ]
    },
    {
      "cell_type": "code",
      "source": [
        "len(X), len(y)"
      ],
      "metadata": {
        "colab": {
          "base_uri": "https://localhost:8080/"
        },
        "id": "2DUDA99gmxKg",
        "outputId": "65bb53da-d4bc-4124-9f4a-3e18f48693b4"
      },
      "execution_count": null,
      "outputs": [
        {
          "output_type": "execute_result",
          "data": {
            "text/plain": [
              "(50, 50)"
            ]
          },
          "metadata": {},
          "execution_count": 4
        }
      ]
    },
    {
      "cell_type": "code",
      "source": [
        "# Splitting data into training and test sets\n",
        "\n",
        "train_split = int(0.8 * len(X))\n",
        "X_train, y_train = X[:train_split], y[:train_split]\n",
        "X_test, y_test = X[train_split:], y[train_split:]\n",
        "\n",
        "len(X_train), len(y_train), len(X_test), len(y_test)"
      ],
      "metadata": {
        "id": "xo0bidjBgvmi",
        "colab": {
          "base_uri": "https://localhost:8080/"
        },
        "outputId": "4b6bcbbc-b1cd-4af2-cd4e-50a64d9af0c6"
      },
      "execution_count": null,
      "outputs": [
        {
          "output_type": "execute_result",
          "data": {
            "text/plain": [
              "(40, 40, 10, 10)"
            ]
          },
          "metadata": {},
          "execution_count": 6
        }
      ]
    },
    {
      "cell_type": "code",
      "source": [
        "# Visualising data\n",
        "\n",
        "def plot_predictions(train_data = X_train,\n",
        "                     train_labels = y_train,\n",
        "                     test_data = X_test,\n",
        "                     test_labels = y_test,\n",
        "                     predictions = None):\n",
        "\n",
        "  plt.scatter(train_data, train_labels, c = \"b\", s = 4, label = \"training data\")\n",
        "  plt.scatter(test_data, test_labels, c = \"g\", s = 4, label = \"testing data\")\n",
        "\n",
        "  if predictions is not None:\n",
        "    plt.scatter(test_data, predictions, c= \"r\", s = 4, label = \"predictions\")\n",
        "\n",
        "  # Show the legend\n",
        "  plt.legend(prop = {\"size\" : 10})"
      ],
      "metadata": {
        "id": "1rXzomh3sR91"
      },
      "execution_count": null,
      "outputs": []
    },
    {
      "cell_type": "code",
      "source": [
        "plot_predictions()"
      ],
      "metadata": {
        "colab": {
          "base_uri": "https://localhost:8080/",
          "height": 430
        },
        "id": "QowXkBY6v96G",
        "outputId": "37e144de-b263-4ead-b8e3-66febc6b10de"
      },
      "execution_count": null,
      "outputs": [
        {
          "output_type": "display_data",
          "data": {
            "text/plain": [
              "<Figure size 640x480 with 1 Axes>"
            ],
            "image/png": "[encoded data removed]"
          },
          "metadata": {}
        }
      ]
    },
    {
      "cell_type": "markdown",
      "source": [
        "### 2.Building the PyTorch model\n",
        "    * we start with random values.\n",
        "      look at our training data and try to get those random values better represent the ideal parameters (weight and bias) that were used to get\n",
        "      the data.\n",
        "\n",
        "      Two key algorithms used here:\n",
        "      1.Gradient Descent\n",
        "      2.Backpropagation"
      ],
      "metadata": {
        "id": "6jUGl9klxEIn"
      }
    },
    {
      "cell_type": "code",
      "source": [
        "# Create linear regression model class\n",
        "\n",
        "class LinearRegressionModel(nn.Module):  # nn.Module is the base class for all neural network models in pytorch\n",
        "  def __init__(self):\n",
        "    super().__init__()\n",
        "    self.weights = nn.Parameter(torch.randn(1, # we are setting a random weight\n",
        "                                            requires_grad = True,\n",
        "                                            dtype = float))\n",
        "\n",
        "    self.bias = nn.Parameter(torch.randn(1, # we are setting a random bias\n",
        "                                         requires_grad = True,\n",
        "                                         dtype = float))\n",
        "\n",
        "  # forward method to define computation in the model\n",
        "  def forward(self, x: torch.Tensor) -> torch.Tensor: # x is the input here\n",
        "    return self.weights * x + self.bias #linear regression formula"
      ],
      "metadata": {
        "id": "c1knPSZCxMtY"
      },
      "execution_count": null,
      "outputs": []
    },
    {
      "cell_type": "markdown",
      "source": [
        "### Pytorch model essential classes\n",
        "* torch.nn.Parameter - the parameters that our model is going to learn\n",
        "* torch.nn.Module - base class for all neural networks\n",
        "* torch.optim - optimisers used in gradient descent\n",
        "* forward function\n"
      ],
      "metadata": {
        "id": "LP-TJxKmxmYc"
      }
    },
    {
      "cell_type": "code",
      "source": [
        "# Lets take a look at the internals of our model\n",
        "torch.manual_seed(42)\n",
        "\n",
        "# Create an instance of the model\n",
        "model_0 = LinearRegressionModel()\n",
        "\n",
        "list(model_0.parameters())"
      ],
      "metadata": {
        "colab": {
          "base_uri": "https://localhost:8080/"
        },
        "id": "6QoiDc-6yr5B",
        "outputId": "5ecb79d9-692d-4066-c5e3-2b1b24239d93"
      },
      "execution_count": null,
      "outputs": [
        {
          "output_type": "execute_result",
          "data": {
            "text/plain": [
              "[Parameter containing:\n",
              " tensor([0.3367], dtype=torch.float64, requires_grad=True),\n",
              " Parameter containing:\n",
              " tensor([0.1288], dtype=torch.float64, requires_grad=True)]"
            ]
          },
          "metadata": {},
          "execution_count": 9
        }
      ]
    },
    {
      "cell_type": "code",
      "source": [
        "model_0.state_dict()"
      ],
      "metadata": {
        "colab": {
          "base_uri": "https://localhost:8080/"
        },
        "id": "GJUNJTEQ2MJd",
        "outputId": "62142b0c-c2df-4a9b-b951-1a3fb2f81b68"
      },
      "execution_count": null,
      "outputs": [
        {
          "output_type": "execute_result",
          "data": {
            "text/plain": [
              "OrderedDict([('weights', tensor([0.3367], dtype=torch.float64)),\n",
              "             ('bias', tensor([0.1288], dtype=torch.float64))])"
            ]
          },
          "metadata": {},
          "execution_count": 158
        }
      ]
    },
    {
      "cell_type": "markdown",
      "source": [],
      "metadata": {
        "id": "P0PZr8XL1PN7"
      }
    },
    {
      "cell_type": "code",
      "source": [
        "X_test, y_test"
      ],
      "metadata": {
        "colab": {
          "base_uri": "https://localhost:8080/"
        },
        "id": "WVxNbru21P1b",
        "outputId": "74c6c055-cb3e-4d54-f3ee-8318877b295f"
      },
      "execution_count": null,
      "outputs": [
        {
          "output_type": "execute_result",
          "data": {
            "text/plain": [
              "(tensor([[0.8000],\n",
              "         [0.8200],\n",
              "         [0.8400],\n",
              "         [0.8600],\n",
              "         [0.8800],\n",
              "         [0.9000],\n",
              "         [0.9200],\n",
              "         [0.9400],\n",
              "         [0.9600],\n",
              "         [0.9800]]),\n",
              " tensor([[0.8600],\n",
              "         [0.8740],\n",
              "         [0.8880],\n",
              "         [0.9020],\n",
              "         [0.9160],\n",
              "         [0.9300],\n",
              "         [0.9440],\n",
              "         [0.9580],\n",
              "         [0.9720],\n",
              "         [0.9860]]))"
            ]
          },
          "metadata": {},
          "execution_count": 10
        }
      ]
    },
    {
      "cell_type": "code",
      "source": [
        "# Making predictions\n",
        "\n",
        "with torch.inference_mode():\n",
        "  y_preds = model_0(X_test)\n",
        "\n",
        "y_preds"
      ],
      "metadata": {
        "colab": {
          "base_uri": "https://localhost:8080/"
        },
        "id": "V5rDn1m01WO-",
        "outputId": "c6f68ffc-51e9-465f-a947-4eff09d44bcd"
      },
      "execution_count": null,
      "outputs": [
        {
          "output_type": "execute_result",
          "data": {
            "text/plain": [
              "tensor([[0.3982],\n",
              "        [0.4049],\n",
              "        [0.4116],\n",
              "        [0.4184],\n",
              "        [0.4251],\n",
              "        [0.4318],\n",
              "        [0.4386],\n",
              "        [0.4453],\n",
              "        [0.4520],\n",
              "        [0.4588]], dtype=torch.float64)"
            ]
          },
          "metadata": {},
          "execution_count": 11
        }
      ]
    },
    {
      "cell_type": "code",
      "source": [
        "plot_predictions(predictions = y_preds)"
      ],
      "metadata": {
        "colab": {
          "base_uri": "https://localhost:8080/",
          "height": 430
        },
        "id": "0tAQHZsC2_WR",
        "outputId": "306ea594-c4b4-4326-d92b-1c74941822f2"
      },
      "execution_count": null,
      "outputs": [
        {
          "output_type": "display_data",
          "data": {
            "text/plain": [
              "<Figure size 640x480 with 1 Axes>"
            ],
            "image/png": "[encoded data removed]"
          },
          "metadata": {}
        }
      ]
    },
    {
      "cell_type": "code",
      "source": [
        "model_0.state_dict()"
      ],
      "metadata": {
        "colab": {
          "base_uri": "https://localhost:8080/"
        },
        "id": "vxSz-aULy46N",
        "outputId": "edf5f996-7db5-46b8-949d-305e5d9c7ce2"
      },
      "execution_count": null,
      "outputs": [
        {
          "output_type": "execute_result",
          "data": {
            "text/plain": [
              "OrderedDict([('weights', tensor([0.3367], dtype=torch.float64)),\n",
              "             ('bias', tensor([0.1288], dtype=torch.float64))])"
            ]
          },
          "metadata": {},
          "execution_count": 13
        }
      ]
    },
    {
      "cell_type": "markdown",
      "source": [
        "### Training the model\n",
        "   Move from a poor representation to a better representation of data\n",
        "  * a `loss` function is used to predict the quality of model predictions, also known as cost function in some cases.\n",
        "  * Based on the loss of a model, `optimizer` adjusts the model's parameters.\n",
        "       * In optimizer, we take 2 parameters:\n",
        "       * `params` and `lr`. lr defines how small/big the optimizer change occurs with each step.\n"
      ],
      "metadata": {
        "id": "joN2Ntc1Oahu"
      }
    },
    {
      "cell_type": "code",
      "source": [
        "# Setup a loss function\n",
        "loss_fn = nn.L1Loss()\n",
        "\n",
        "# Setup an optimizer\n",
        "optimizer = torch.optim.SGD(params = model_0.parameters(),\n",
        "                            lr = 0.01) # lr: learning rate -> the most imp hyperparameter that we can possibly use\n"
      ],
      "metadata": {
        "id": "onzGT19jOq2K"
      },
      "execution_count": null,
      "outputs": []
    },
    {
      "cell_type": "markdown",
      "source": [
        "### Building a training loop & a testing loop in pyTorch\n",
        "**Training loop steps**\n",
        "1. loop through the data\n",
        "2. Forward propagation\n",
        "3. calculate the loss: compare fwd pass predictions with ground truth labels.\n",
        "4. optimizer zero grad\n",
        "5. loss backward - move backwards through the network to calculate the gradients of each of the parameters of our model wrt to the loss.(*backpropagation*)\n",
        "6. optimiser step - used to improve the loss by adjusting model parameters(*gradient descent* )\n"
      ],
      "metadata": {
        "id": "wd9lUesTfaB0"
      }
    },
    {
      "cell_type": "code",
      "source": [
        "list(model_0.parameters())"
      ],
      "metadata": {
        "colab": {
          "base_uri": "https://localhost:8080/"
        },
        "id": "R3aWjCcmigWU",
        "outputId": "6eac04f2-b343-4d94-8bc0-d8930a44082f"
      },
      "execution_count": null,
      "outputs": [
        {
          "output_type": "execute_result",
          "data": {
            "text/plain": [
              "[Parameter containing:\n",
              " tensor([0.3367], dtype=torch.float64, requires_grad=True),\n",
              " Parameter containing:\n",
              " tensor([0.1288], dtype=torch.float64, requires_grad=True)]"
            ]
          },
          "metadata": {},
          "execution_count": 15
        }
      ]
    },
    {
      "cell_type": "code",
      "source": [
        "torch.manual_seed(42)\n",
        "\n",
        "epochs = 100   # this is a hyperparameter as we set it ourselves...\n",
        "epoch_count_values = []\n",
        "train_loss_values = []\n",
        "test_loss_values = []\n",
        "\n",
        "# Training loop\n",
        "for epoch in range(epochs):\n",
        "  # Step 1\n",
        "  model_0.train() # train mode is set\n",
        "\n",
        "  # Step 2:forward pass on the train data using fwd function inside\n",
        "  y_pred = model_0(X_train)\n",
        "\n",
        "  # Step 3\n",
        "  loss = loss_fn(y_pred, y_train)\n",
        "\n",
        "  # Step 4\n",
        "  optimizer.zero_grad()\n",
        "\n",
        "  # Step 5\n",
        "  loss.backward()\n",
        "\n",
        "  # Step 6\n",
        "  optimizer.step()\n",
        "\n",
        "  # Testing loop\n",
        "  model_0.eval() # turns off different settings in the model not needed for evaluation/testing (dropout/batchnorm layers)\n",
        "\n",
        "  with torch.inference_mode(): # turns off gradient tracking as it is not needed for inference,Used for better performance\n",
        "\n",
        "    # 1.Forward pass on test data\n",
        "    test_pred = model_0(X_test)\n",
        "\n",
        "    # 2.Calculate test loss\n",
        "    test_loss = loss_fn(test_pred, y_test)\n",
        "\n",
        "    if epoch % 10 == 0:\n",
        "      epoch_count_values.append(epoch)\n",
        "      train_loss_values.append(loss)\n",
        "      test_loss_values.append(test_loss)\n",
        "      print(f\"Epoch: {epoch} | Loss: {loss} | Test loss: {test_loss}\")"
      ],
      "metadata": {
        "id": "wHrlGI9uiAVh",
        "colab": {
          "base_uri": "https://localhost:8080/"
        },
        "outputId": "561edad0-6677-4bde-b846-997ef07a234c"
      },
      "execution_count": null,
      "outputs": [
        {
          "output_type": "stream",
          "name": "stdout",
          "text": [
            "Epoch: 0 | Loss: 0.31288135683755547 | Test loss: 0.4810651841540759\n",
            "Epoch: 10 | Loss: 0.1976713574739093 | Test loss: 0.346355184508239\n",
            "Epoch: 20 | Loss: 0.08908721056311557 | Test loss: 0.21729648486064157\n",
            "Epoch: 30 | Loss: 0.05314849742260115 | Test loss: 0.14464008519991425\n",
            "Epoch: 40 | Loss: 0.04543793101588776 | Test loss: 0.11360938544629148\n",
            "Epoch: 50 | Loss: 0.041678606478126046 | Test loss: 0.09919938569279392\n",
            "Epoch: 60 | Loss: 0.03818929484512264 | Test loss: 0.08886628595826254\n",
            "Epoch: 70 | Loss: 0.03476085499350197 | Test loss: 0.08059388621223337\n",
            "Epoch: 80 | Loss: 0.031323806993240874 | Test loss: 0.07232148646620422\n",
            "Epoch: 90 | Loss: 0.02788736528831538 | Test loss: 0.06473598671634251\n"
          ]
        }
      ]
    },
    {
      "cell_type": "code",
      "source": [
        "# Lets plot a loss curve\n",
        "plt.plot(epoch_count_values, np.array(torch.tensor(train_loss_values).numpy()), label = 'Train loss')\n",
        "plt.plot(epoch_count_values, np.array(torch.tensor(test_loss_values).numpy()), label = 'Test loss')\n",
        "plt.title('Training and test loss curves')\n",
        "plt.xlabel('Epochs')\n",
        "plt.ylabel('Loss')\n",
        "plt.legend()\n"
      ],
      "metadata": {
        "colab": {
          "base_uri": "https://localhost:8080/",
          "height": 489
        },
        "id": "-Ef8msxcjjMN",
        "outputId": "e60e9045-b978-43e9-a494-8199de2f8486"
      },
      "execution_count": null,
      "outputs": [
        {
          "output_type": "execute_result",
          "data": {
            "text/plain": [
              "<matplotlib.legend.Legend at 0x7d00e2e20390>"
            ]
          },
          "metadata": {},
          "execution_count": 17
        },
        {
          "output_type": "display_data",
          "data": {
            "text/plain": [
              "<Figure size 640x480 with 1 Axes>"
            ],
            "image/png": "[encoded data removed]"
          },
          "metadata": {}
        }
      ]
    },
    {
      "cell_type": "code",
      "source": [
        "# Making new predictions\n",
        "with torch.inference_mode():\n",
        "  y_preds_new = model_0(X_test)\n",
        "\n",
        "y_preds_new"
      ],
      "metadata": {
        "colab": {
          "base_uri": "https://localhost:8080/"
        },
        "id": "s3hx6YdcymAF",
        "outputId": "0edf1f3b-bc13-42f8-f7d6-888c72ffa6c1"
      },
      "execution_count": null,
      "outputs": [
        {
          "output_type": "execute_result",
          "data": {
            "text/plain": [
              "tensor([[0.8141],\n",
              "        [0.8256],\n",
              "        [0.8372],\n",
              "        [0.8488],\n",
              "        [0.8603],\n",
              "        [0.8719],\n",
              "        [0.8835],\n",
              "        [0.8950],\n",
              "        [0.9066],\n",
              "        [0.9182]], dtype=torch.float64)"
            ]
          },
          "metadata": {},
          "execution_count": 18
        }
      ]
    },
    {
      "cell_type": "code",
      "source": [
        "plot_predictions(predictions = y_preds_new)"
      ],
      "metadata": {
        "colab": {
          "base_uri": "https://localhost:8080/",
          "height": 430
        },
        "id": "bWy9xlhszDmK",
        "outputId": "ba288bb8-e6dc-4390-b7c9-d80518feda48"
      },
      "execution_count": null,
      "outputs": [
        {
          "output_type": "display_data",
          "data": {
            "text/plain": [
              "<Figure size 640x480 with 1 Axes>"
            ],
            "image/png": "[encoded data removed]"
          },
          "metadata": {}
        }
      ]
    },
    {
      "cell_type": "markdown",
      "source": [
        "### Saving a model in Pytorch\n",
        "\n",
        "\n",
        "*   `torch.save` - allows us to save the model in Python's pickle format\n",
        "*   `torch.load` - allows us to load the saved PyTorch object\n",
        "* `torch.nn.Module.load_state_dict()` - allows us to load a model's saved state dictionary\n",
        "\n",
        "\n",
        "\n"
      ],
      "metadata": {
        "id": "UWPqpA5NqvQr"
      }
    },
    {
      "cell_type": "code",
      "source": [
        "from pathlib import Path\n",
        "\n",
        "# Create model's directory\n",
        "MODEL_PATH = Path(\"models\")\n",
        "MODEL_PATH.mkdir(parents = True, exist_ok = True)\n",
        "\n",
        "# Create model save path\n",
        "MODEL_NAME = \"LR_model_0.pth\"\n",
        "MODEL_SAVE_PATH = MODEL_PATH / MODEL_NAME\n",
        "\n",
        "# Save the model state dict\n",
        "print(f\"Saving model to: {MODEL_SAVE_PATH}\")\n",
        "torch.save(obj = model_0.state_dict(),\n",
        "           f= MODEL_SAVE_PATH)"
      ],
      "metadata": {
        "colab": {
          "base_uri": "https://localhost:8080/"
        },
        "id": "fkffYhaGr9l6",
        "outputId": "f965c28f-4874-45f2-be1e-5675dbf59ee5"
      },
      "execution_count": null,
      "outputs": [
        {
          "output_type": "stream",
          "name": "stdout",
          "text": [
            "Saving model to: models/LR_model_0.pth\n"
          ]
        }
      ]
    },
    {
      "cell_type": "code",
      "source": [
        "!ls -l models"
      ],
      "metadata": {
        "colab": {
          "base_uri": "https://localhost:8080/"
        },
        "id": "JDhXP43zvK0P",
        "outputId": "8253e55d-23a6-474a-ee0d-dc0113e62bd7"
      },
      "execution_count": null,
      "outputs": [
        {
          "output_type": "stream",
          "name": "stdout",
          "text": [
            "total 4\n",
            "-rw-r--r-- 1 root root 1514 Feb 11 06:25 LR_model_0.pth\n"
          ]
        }
      ]
    },
    {
      "cell_type": "code",
      "source": [
        "model_0.state_dict()"
      ],
      "metadata": {
        "colab": {
          "base_uri": "https://localhost:8080/"
        },
        "id": "-lEKdIz3x8fj",
        "outputId": "9d0285d9-05b3-4372-cd65-09b743f9a78a"
      },
      "execution_count": null,
      "outputs": [
        {
          "output_type": "execute_result",
          "data": {
            "text/plain": [
              "OrderedDict([('weights', tensor([0.5784], dtype=torch.float64)),\n",
              "             ('bias', tensor([0.3513], dtype=torch.float64))])"
            ]
          },
          "metadata": {},
          "execution_count": 22
        }
      ]
    },
    {
      "cell_type": "code",
      "source": [
        "## Loading the model\n",
        "\n",
        "# Create a new instance of model class\n",
        "loaded_model = LinearRegressionModel()\n",
        "\n",
        "# Load the saved state dict of model_0\n",
        "loaded_model.load_state_dict(torch.load(f=MODEL_SAVE_PATH))"
      ],
      "metadata": {
        "colab": {
          "base_uri": "https://localhost:8080/"
        },
        "id": "LUKCoHpjvf0f",
        "outputId": "67714854-ca7d-4a17-a564-bd5a910b67db"
      },
      "execution_count": null,
      "outputs": [
        {
          "output_type": "stream",
          "name": "stderr",
          "text": [
            "<ipython-input-23-621507033ef0>:7: FutureWarning: You are using `torch.load` with `weights_only=False` (the current default value), which uses the default pickle module implicitly. It is possible to construct malicious pickle data which will execute arbitrary code during unpickling (See https://github.com/pytorch/pytorch/blob/main/SECURITY.md#untrusted-models for more details). In a future release, the default value for `weights_only` will be flipped to `True`. This limits the functions that could be executed during unpickling. Arbitrary objects will no longer be allowed to be loaded via this mode unless they are explicitly allowlisted by the user via `torch.serialization.add_safe_globals`. We recommend you start setting `weights_only=True` for any use case where you don't have full control of the loaded file. Please open an issue on GitHub for any issues related to this experimental feature.\n",
            "  loaded_model.load_state_dict(torch.load(f=MODEL_SAVE_PATH))\n"
          ]
        },
        {
          "output_type": "execute_result",
          "data": {
            "text/plain": [
              "<All keys matched successfully>"
            ]
          },
          "metadata": {},
          "execution_count": 23
        }
      ]
    },
    {
      "cell_type": "code",
      "source": [
        "loaded_model.state_dict()"
      ],
      "metadata": {
        "colab": {
          "base_uri": "https://localhost:8080/"
        },
        "id": "pZr8hclZzKKP",
        "outputId": "d0dd32e8-f545-4ffa-b9a5-eb6c72f1eabf"
      },
      "execution_count": null,
      "outputs": [
        {
          "output_type": "execute_result",
          "data": {
            "text/plain": [
              "OrderedDict([('weights', tensor([0.5784], dtype=torch.float64)),\n",
              "             ('bias', tensor([0.3513], dtype=torch.float64))])"
            ]
          },
          "metadata": {},
          "execution_count": 24
        }
      ]
    },
    {
      "cell_type": "code",
      "source": [
        "loaded_model.eval()\n",
        "with torch.inference_mode():\n",
        "  loaded_model_preds = loaded_model(X_test)\n",
        "\n",
        "loaded_model_preds"
      ],
      "metadata": {
        "colab": {
          "base_uri": "https://localhost:8080/"
        },
        "id": "qQXjqYzfzPuI",
        "outputId": "7c9cefc0-c0e9-42fd-fc08-78da891f8951"
      },
      "execution_count": null,
      "outputs": [
        {
          "output_type": "execute_result",
          "data": {
            "text/plain": [
              "tensor([[0.8141],\n",
              "        [0.8256],\n",
              "        [0.8372],\n",
              "        [0.8488],\n",
              "        [0.8603],\n",
              "        [0.8719],\n",
              "        [0.8835],\n",
              "        [0.8950],\n",
              "        [0.9066],\n",
              "        [0.9182]], dtype=torch.float64)"
            ]
          },
          "metadata": {},
          "execution_count": 25
        }
      ]
    },
    {
      "cell_type": "code",
      "source": [
        "y_preds_new == loaded_model_preds"
      ],
      "metadata": {
        "colab": {
          "base_uri": "https://localhost:8080/"
        },
        "id": "vx0ASSJn0k92",
        "outputId": "b64d4152-fecc-425b-8051-ec252f20c8f5"
      },
      "execution_count": null,
      "outputs": [
        {
          "output_type": "execute_result",
          "data": {
            "text/plain": [
              "tensor([[True],\n",
              "        [True],\n",
              "        [True],\n",
              "        [True],\n",
              "        [True],\n",
              "        [True],\n",
              "        [True],\n",
              "        [True],\n",
              "        [True],\n",
              "        [True]])"
            ]
          },
          "metadata": {},
          "execution_count": 26
        }
      ]
    }
  ]
}